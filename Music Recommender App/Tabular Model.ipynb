{
 "cells": [
  {
   "cell_type": "code",
   "execution_count": 1,
   "metadata": {},
   "outputs": [],
   "source": [
    "import pandas as pd\n",
    "import numpy as np\n",
    "import seaborn as sns\n",
    "import matplotlib.pyplot as plt\n",
    "\n",
    "from sklearn.preprocessing import StandardScaler\n",
    "from sklearn.cluster import KMeans, MiniBatchKMeans\n",
    "from sklearn.metrics import accuracy_score, silhouette_score, classification_report, confusion_matrix\n",
    "from sklearn.model_selection import train_test_split\n",
    "from sklearn.ensemble import RandomForestClassifier\n",
    "\n",
    "from scipy.spatial.distance import euclidean"
   ]
  },
  {
   "cell_type": "code",
   "execution_count": 2,
   "metadata": {},
   "outputs": [],
   "source": [
    "bp_track = pd.read_csv('data/bp_track.csv', usecols=['genre_id', 'track_id', 'title', 'bpm', 'key_id'])"
   ]
  },
  {
   "cell_type": "code",
   "execution_count": 3,
   "metadata": {},
   "outputs": [],
   "source": [
    "bp_track = bp_track.dropna()"
   ]
  },
  {
   "cell_type": "code",
   "execution_count": 4,
   "metadata": {},
   "outputs": [],
   "source": [
    "bp_key  = pd.read_csv('data/bp_key.csv')"
   ]
  },
  {
   "cell_type": "code",
   "execution_count": 5,
   "metadata": {},
   "outputs": [],
   "source": [
    "bp_track_updated = pd.merge(bp_track, bp_key[['key_id', 'scale_numeric_value']], on='key_id', how='left')\n",
    "\n",
    "# Drop the old 'key_id' and rename 'scale_numeric_value' to 'key_id'\n",
    "bp_track = bp_track_updated.drop(columns=['key_id']).rename(columns={'scale_numeric_value': 'key_id'})"
   ]
  },
  {
   "cell_type": "code",
   "execution_count": 6,
   "metadata": {},
   "outputs": [],
   "source": [
    "bp_clustering = bp_track.drop(columns=['genre_id', 'track_id', 'title'])"
   ]
  },
  {
   "cell_type": "code",
   "execution_count": 7,
   "metadata": {},
   "outputs": [],
   "source": [
    "bp_clustering_sample = bp_clustering.sample(n=50000, random_state=42)\n",
    "scaler = StandardScaler()\n",
    "\n",
    "bp_clustering_sample = scaler.fit_transform(bp_clustering_sample)"
   ]
  },
  {
   "cell_type": "code",
   "execution_count": 8,
   "metadata": {},
   "outputs": [
    {
     "name": "stdout",
     "output_type": "stream",
     "text": [
      "The optimal number of clusters is: 4\n"
     ]
    }
   ],
   "source": [
    "sil_scores = []\n",
    "\n",
    "# Range of cluster numbers to test\n",
    "cluster_range = range(4, 9)\n",
    "\n",
    "for n_clusters in cluster_range:\n",
    "    # Apply KMeans on the original feature list\n",
    "    kmeans = KMeans(n_clusters=n_clusters, random_state=42)\n",
    "    clusters = kmeans.fit_predict(bp_clustering_sample)\n",
    "    \n",
    "    # Calculate the silhouette score\n",
    "    sil_score = silhouette_score(bp_clustering_sample, clusters)\n",
    "    sil_scores.append(sil_score)\n",
    "\n",
    "# Find the number of clusters with the highest silhouette score\n",
    "peak_silo = cluster_range[sil_scores.index(max(sil_scores))]\n",
    "\n",
    "print(f\"The optimal number of clusters is: {peak_silo}\")"
   ]
  },
  {
   "cell_type": "code",
   "execution_count": 9,
   "metadata": {},
   "outputs": [],
   "source": [
    "bp_clustering = scaler.fit_transform(bp_clustering)"
   ]
  },
  {
   "cell_type": "code",
   "execution_count": 10,
   "metadata": {},
   "outputs": [
    {
     "name": "stdout",
     "output_type": "stream",
     "text": [
      "Init 1/1 with method k-means++\n",
      "Inertia for init 1/1: 10824.959828794768\n",
      "Minibatch step 1/213580: mean batch inertia: 0.7294381718231235\n",
      "Minibatch step 2/213580: mean batch inertia: 0.5893878334743332, ewa inertia: 0.5893878334743332\n",
      "Minibatch step 3/213580: mean batch inertia: 0.6320075565449967, ewa inertia: 0.5894277432404725\n",
      "Minibatch step 4/213580: mean batch inertia: 0.5937290539458843, ewa inertia: 0.5894317710541696\n",
      "Minibatch step 5/213580: mean batch inertia: 0.5992765144636798, ewa inertia: 0.5894409898237642\n",
      "Minibatch step 6/213580: mean batch inertia: 0.5769187153452744, ewa inertia: 0.5894292637727728\n",
      "Minibatch step 7/213580: mean batch inertia: 0.5824027904934286, ewa inertia: 0.5894226840748029\n",
      "Minibatch step 8/213580: mean batch inertia: 0.5827184524412663, ewa inertia: 0.5894164061288812\n",
      "Minibatch step 9/213580: mean batch inertia: 0.5950911094856396, ewa inertia: 0.589421720008643\n",
      "Minibatch step 10/213580: mean batch inertia: 0.5864638711465441, ewa inertia: 0.5894189502333406\n",
      "Minibatch step 11/213580: mean batch inertia: 0.6031435914884425, ewa inertia: 0.5894318021991295\n",
      "Minibatch step 12/213580: mean batch inertia: 0.6049715203482239, ewa inertia: 0.5894463538309215\n",
      "Converged (lack of improvement in inertia) at step 12/213580\n"
     ]
    }
   ],
   "source": [
    "# Use the peak_silo number of clusters for final model\n",
    "mbkmeans = MiniBatchKMeans(n_clusters=peak_silo, batch_size=5000, random_state=42,verbose=1) \n",
    "mbkmeans_clusters = mbkmeans.fit_predict(bp_clustering)"
   ]
  },
  {
   "cell_type": "code",
   "execution_count": 11,
   "metadata": {},
   "outputs": [],
   "source": [
    "bp_clustering = scaler.inverse_transform(bp_clustering)"
   ]
  },
  {
   "cell_type": "code",
   "execution_count": 12,
   "metadata": {},
   "outputs": [
    {
     "data": {
      "text/html": [
       "<div>\n",
       "<style scoped>\n",
       "    .dataframe tbody tr th:only-of-type {\n",
       "        vertical-align: middle;\n",
       "    }\n",
       "\n",
       "    .dataframe tbody tr th {\n",
       "        vertical-align: top;\n",
       "    }\n",
       "\n",
       "    .dataframe thead tr th {\n",
       "        text-align: left;\n",
       "    }\n",
       "\n",
       "    .dataframe thead tr:last-of-type th {\n",
       "        text-align: right;\n",
       "    }\n",
       "</style>\n",
       "<table border=\"1\" class=\"dataframe\">\n",
       "  <thead>\n",
       "    <tr>\n",
       "      <th></th>\n",
       "      <th colspan=\"3\" halign=\"left\">BPM</th>\n",
       "      <th colspan=\"3\" halign=\"left\">Key</th>\n",
       "    </tr>\n",
       "    <tr>\n",
       "      <th></th>\n",
       "      <th>mean</th>\n",
       "      <th>median</th>\n",
       "      <th>std</th>\n",
       "      <th>mean</th>\n",
       "      <th>median</th>\n",
       "      <th>std</th>\n",
       "    </tr>\n",
       "    <tr>\n",
       "      <th>Cluster</th>\n",
       "      <th></th>\n",
       "      <th></th>\n",
       "      <th></th>\n",
       "      <th></th>\n",
       "      <th></th>\n",
       "      <th></th>\n",
       "    </tr>\n",
       "  </thead>\n",
       "  <tbody>\n",
       "    <tr>\n",
       "      <th>0</th>\n",
       "      <td>128.965090</td>\n",
       "      <td>126.0</td>\n",
       "      <td>10.902229</td>\n",
       "      <td>12.283335</td>\n",
       "      <td>12.0</td>\n",
       "      <td>2.468613</td>\n",
       "    </tr>\n",
       "    <tr>\n",
       "      <th>1</th>\n",
       "      <td>85.752030</td>\n",
       "      <td>88.0</td>\n",
       "      <td>15.875537</td>\n",
       "      <td>11.902589</td>\n",
       "      <td>12.0</td>\n",
       "      <td>6.472831</td>\n",
       "    </tr>\n",
       "    <tr>\n",
       "      <th>2</th>\n",
       "      <td>126.410044</td>\n",
       "      <td>125.0</td>\n",
       "      <td>10.255157</td>\n",
       "      <td>3.934163</td>\n",
       "      <td>4.0</td>\n",
       "      <td>2.293163</td>\n",
       "    </tr>\n",
       "    <tr>\n",
       "      <th>3</th>\n",
       "      <td>126.389497</td>\n",
       "      <td>125.0</td>\n",
       "      <td>10.445916</td>\n",
       "      <td>20.058867</td>\n",
       "      <td>19.0</td>\n",
       "      <td>2.045047</td>\n",
       "    </tr>\n",
       "  </tbody>\n",
       "</table>\n",
       "</div>"
      ],
      "text/plain": [
       "                BPM                          Key                 \n",
       "               mean median        std       mean median       std\n",
       "Cluster                                                          \n",
       "0        128.965090  126.0  10.902229  12.283335   12.0  2.468613\n",
       "1         85.752030   88.0  15.875537  11.902589   12.0  6.472831\n",
       "2        126.410044  125.0  10.255157   3.934163    4.0  2.293163\n",
       "3        126.389497  125.0  10.445916  20.058867   19.0  2.045047"
      ]
     },
     "execution_count": 12,
     "metadata": {},
     "output_type": "execute_result"
    }
   ],
   "source": [
    "clustered_data = pd.DataFrame(bp_clustering, columns=['BPM', 'Key'])\n",
    "clustered_data['Cluster'] = mbkmeans_clusters\n",
    "\n",
    "# Generate summary statistics for each cluster\n",
    "summary = clustered_data.groupby('Cluster').agg(['mean', 'median', 'std'])\n",
    "summary"
   ]
  },
  {
   "cell_type": "code",
   "execution_count": 13,
   "metadata": {},
   "outputs": [],
   "source": [
    "X = clustered_data[['BPM', 'Key']]\n",
    "y = clustered_data['Cluster']\n",
    "\n",
    "# Step 1: Split the data into training and test sets\n",
    "X_train, X_test, y_train, y_test = train_test_split(X, y, test_size=0.9, random_state=42)"
   ]
  },
  {
   "cell_type": "code",
   "execution_count": 14,
   "metadata": {},
   "outputs": [],
   "source": [
    "clf = RandomForestClassifier(random_state=42)\n",
    "clf.fit(X_train, y_train)\n",
    "\n",
    "y_pred = clf.predict(X_test)"
   ]
  },
  {
   "cell_type": "code",
   "execution_count": 15,
   "metadata": {},
   "outputs": [
    {
     "name": "stdout",
     "output_type": "stream",
     "text": [
      "Accuracy: 1.0000\n",
      "\n",
      "Classification Report:\n",
      "               precision    recall  f1-score   support\n",
      "\n",
      "           0       1.00      1.00      1.00   2705013\n",
      "           1       1.00      1.00      1.00   1504668\n",
      "           2       1.00      1.00      1.00   2673031\n",
      "           3       1.00      1.00      1.00   2728406\n",
      "\n",
      "    accuracy                           1.00   9611118\n",
      "   macro avg       1.00      1.00      1.00   9611118\n",
      "weighted avg       1.00      1.00      1.00   9611118\n",
      "\n"
     ]
    }
   ],
   "source": [
    "print(f\"Accuracy: {accuracy_score(y_test, y_pred):.4f}\")\n",
    "print(\"\\nClassification Report:\\n\", classification_report(y_test, y_pred))"
   ]
  },
  {
   "cell_type": "code",
   "execution_count": 16,
   "metadata": {},
   "outputs": [
    {
     "data": {
      "image/png": "[encoded data removed]",
      "text/plain": [
       "<Figure size 1000x700 with 1 Axes>"
      ]
     },
     "metadata": {},
     "output_type": "display_data"
    }
   ],
   "source": [
    "# Generate the confusion matrix\n",
    "conf_matrix = confusion_matrix(y_test, y_pred)\n",
    "\n",
    "# Create a heatmap for the confusion matrix\n",
    "plt.figure(figsize=(10, 7))\n",
    "sns.heatmap(conf_matrix, annot=True, fmt='g', cmap='Blues', cbar=False, \n",
    "            xticklabels=np.unique(y_test), yticklabels=np.unique(y_test))\n",
    "\n",
    "# Add labels and title\n",
    "plt.xlabel('Predicted Cluster')\n",
    "plt.ylabel('True Cluster')\n",
    "plt.title('Confusion Matrix for Random Forest Classifier')\n",
    "plt.show()"
   ]
  },
  {
   "cell_type": "code",
   "execution_count": 17,
   "metadata": {},
   "outputs": [
    {
     "data": {
      "image/png": "[encoded data removed]",
      "text/plain": [
       "<Figure size 640x480 with 1 Axes>"
      ]
     },
     "metadata": {},
     "output_type": "display_data"
    }
   ],
   "source": [
    "feature_importances = clf.feature_importances_\n",
    "features = ['BPM', 'Key']\n",
    "\n",
    "# Plot the feature importances\n",
    "plt.barh(features, feature_importances)\n",
    "plt.title('Feature Importance in Predicting Clusters')\n",
    "plt.show()"
   ]
  },
  {
   "cell_type": "code",
   "execution_count": 18,
   "metadata": {},
   "outputs": [],
   "source": [
    "bp_track['Cluster'] = mbkmeans_clusters"
   ]
  },
  {
   "cell_type": "code",
   "execution_count": 19,
   "metadata": {},
   "outputs": [],
   "source": [
    "bp_song = pd.read_csv('data/bp_song.csv')"
   ]
  },
  {
   "cell_type": "code",
   "execution_count": 23,
   "metadata": {},
   "outputs": [],
   "source": [
    "merged_df = pd.merge(bp_track, bp_song[['track_id', 'song']], on='track_id', how='left')\n",
    "bp = merged_df.drop(columns='title')"
   ]
  },
  {
   "cell_type": "code",
   "execution_count": 24,
   "metadata": {},
   "outputs": [
    {
     "data": {
      "text/html": [
       "<div>\n",
       "<style scoped>\n",
       "    .dataframe tbody tr th:only-of-type {\n",
       "        vertical-align: middle;\n",
       "    }\n",
       "\n",
       "    .dataframe tbody tr th {\n",
       "        vertical-align: top;\n",
       "    }\n",
       "\n",
       "    .dataframe thead th {\n",
       "        text-align: right;\n",
       "    }\n",
       "</style>\n",
       "<table border=\"1\" class=\"dataframe\">\n",
       "  <thead>\n",
       "    <tr style=\"text-align: right;\">\n",
       "      <th></th>\n",
       "      <th>track_id</th>\n",
       "      <th>genre_id</th>\n",
       "      <th>bpm</th>\n",
       "      <th>key_id</th>\n",
       "      <th>Cluster</th>\n",
       "      <th>song</th>\n",
       "    </tr>\n",
       "  </thead>\n",
       "  <tbody>\n",
       "    <tr>\n",
       "      <th>0</th>\n",
       "      <td>17775434</td>\n",
       "      <td>99</td>\n",
       "      <td>130</td>\n",
       "      <td>20</td>\n",
       "      <td>3</td>\n",
       "      <td>Navigator 3000 by Abdul Raeva</td>\n",
       "    </tr>\n",
       "    <tr>\n",
       "      <th>1</th>\n",
       "      <td>17610335</td>\n",
       "      <td>99</td>\n",
       "      <td>124</td>\n",
       "      <td>4</td>\n",
       "      <td>2</td>\n",
       "      <td>Nehorah by Ormus</td>\n",
       "    </tr>\n",
       "    <tr>\n",
       "      <th>2</th>\n",
       "      <td>17610338</td>\n",
       "      <td>99</td>\n",
       "      <td>124</td>\n",
       "      <td>6</td>\n",
       "      <td>2</td>\n",
       "      <td>Akawi by Ormus</td>\n",
       "    </tr>\n",
       "    <tr>\n",
       "      <th>3</th>\n",
       "      <td>17658499</td>\n",
       "      <td>99</td>\n",
       "      <td>93</td>\n",
       "      <td>10</td>\n",
       "      <td>1</td>\n",
       "      <td>Interplanetary Species by CJ Art</td>\n",
       "    </tr>\n",
       "    <tr>\n",
       "      <th>4</th>\n",
       "      <td>17658498</td>\n",
       "      <td>99</td>\n",
       "      <td>125</td>\n",
       "      <td>2</td>\n",
       "      <td>2</td>\n",
       "      <td>Echoing Planetary Motion by CJ Art</td>\n",
       "    </tr>\n",
       "  </tbody>\n",
       "</table>\n",
       "</div>"
      ],
      "text/plain": [
       "   track_id  genre_id  bpm  key_id  Cluster  \\\n",
       "0  17775434        99  130      20        3   \n",
       "1  17610335        99  124       4        2   \n",
       "2  17610338        99  124       6        2   \n",
       "3  17658499        99   93      10        1   \n",
       "4  17658498        99  125       2        2   \n",
       "\n",
       "                                 song  \n",
       "0       Navigator 3000 by Abdul Raeva  \n",
       "1                    Nehorah by Ormus  \n",
       "2                      Akawi by Ormus  \n",
       "3    Interplanetary Species by CJ Art  \n",
       "4  Echoing Planetary Motion by CJ Art  "
      ]
     },
     "execution_count": 24,
     "metadata": {},
     "output_type": "execute_result"
    }
   ],
   "source": [
    "bp.head()"
   ]
  },
  {
   "cell_type": "code",
   "execution_count": 25,
   "metadata": {},
   "outputs": [],
   "source": [
    "bp['track_id'] = bp['track_id'].astype(int)"
   ]
  },
  {
   "cell_type": "code",
   "execution_count": 26,
   "metadata": {},
   "outputs": [],
   "source": [
    "def find_similar_song(input_song, song_data, n_recommendations=1):\n",
    "    # Extract the features of the input song\n",
    "    input_features = song_data[song_data['track_id'] == input_song][['bpm', 'key_id']].values[0]\n",
    "\n",
    "    # Compute the Euclidean distance to all other songs\n",
    "    song_data['distance'] = song_data.apply(\n",
    "        lambda row: euclidean(input_features, row[['bpm', 'key_id']].values), axis=1\n",
    "    )\n",
    "\n",
    "    # Sort by the smallest distance and return the n recommendations\n",
    "    recommendations = song_data.sort_values('distance').head(n_recommendations)\n",
    "\n",
    "    return recommendations[['track_id', 'song', 'bpm', 'key_id']]"
   ]
  },
  {
   "cell_type": "code",
   "execution_count": 27,
   "metadata": {},
   "outputs": [],
   "source": [
    "def recommend_songs(input_song, song_data, n_recommendations=5):\n",
    "    # Find the cluster of the input song\n",
    "    input_cluster = song_data[song_data['track_id'] == input_song]['Cluster'].values[0]\n",
    "\n",
    "    # Find songs from the same cluster\n",
    "    same_cluster_songs = song_data[song_data['Cluster'] == input_cluster]\n",
    "\n",
    "    # Sort by distance in terms of features (BPM and Key)\n",
    "    recommendations = find_similar_song(input_song, same_cluster_songs, n_recommendations=n_recommendations)\n",
    "\n",
    "    return recommendations"
   ]
  },
  {
   "cell_type": "code",
   "execution_count": 28,
   "metadata": {},
   "outputs": [
    {
     "name": "stderr",
     "output_type": "stream",
     "text": [
      "C:\\Users\\Shank\\AppData\\Local\\Temp\\ipykernel_22704\\3081161967.py:6: SettingWithCopyWarning: \n",
      "A value is trying to be set on a copy of a slice from a DataFrame.\n",
      "Try using .loc[row_indexer,col_indexer] = value instead\n",
      "\n",
      "See the caveats in the documentation: https://pandas.pydata.org/pandas-docs/stable/user_guide/indexing.html#returning-a-view-versus-a-copy\n",
      "  song_data['distance'] = song_data.apply(\n"
     ]
    },
    {
     "name": "stdout",
     "output_type": "stream",
     "text": [
      "Input Song: Baila by Modium (BPM: 126, Key: 14)\n",
      "\n",
      "Recommended Songs:\n",
      " - Guanatos by Mark Pizzonia (BPM: 126, Key: 14)\n",
      " - Second Life by Ouardia Haisma (BPM: 126, Key: 14)\n",
      " - I Can't Stop by Michael Push (BPM: 126, Key: 14)\n",
      " - Outta My Mind by Joe Maz (BPM: 126, Key: 14)\n",
      " - By My Side by Chris Davids (BPM: 126, Key: 14)\n"
     ]
    }
   ],
   "source": [
    "# Input song and recommendations\n",
    "input_song = 8438116\n",
    "recommended_songs = recommend_songs(input_song, bp, n_recommendations=5)\n",
    "\n",
    "# Output the song name, bpm, and key_id of the input song and the recommendations\n",
    "input_song_info = bp[bp['track_id'] == input_song][['song', 'bpm', 'key_id']].values[0]\n",
    "print(f\"Input Song: {input_song_info[0]} (BPM: {input_song_info[1]}, Key: {input_song_info[2]})\\n\")\n",
    "\n",
    "print(\"Recommended Songs:\")\n",
    "for index, row in recommended_songs.iterrows():\n",
    "    print(f\" - {row['song']} (BPM: {row['bpm']}, Key: {row['key_id']})\")"
   ]
  },
  {
   "cell_type": "code",
   "execution_count": 29,
   "metadata": {},
   "outputs": [],
   "source": [
    "bp_tabular = bp"
   ]
  },
  {
   "cell_type": "code",
   "execution_count": 30,
   "metadata": {},
   "outputs": [],
   "source": [
    "bp_tabular.to_csv('data/bp_tabular.csv',index=False)"
   ]
  },
  {
   "cell_type": "code",
   "execution_count": null,
   "metadata": {},
   "outputs": [],
   "source": []
  }
 ],
 "metadata": {
  "kernelspec": {
   "display_name": "dsenv3",
   "language": "python",
   "name": "python3"
  },
  "language_info": {
   "codemirror_mode": {
    "name": "ipython",
    "version": 3
   },
   "file_extension": ".py",
   "mimetype": "text/x-python",
   "name": "python",
   "nbconvert_exporter": "python",
   "pygments_lexer": "ipython3",
   "version": "3.10.13"
  }
 },
 "nbformat": 4,
 "nbformat_minor": 2
}
