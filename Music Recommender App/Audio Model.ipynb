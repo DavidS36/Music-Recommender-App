{
 "cells": [
  {
   "cell_type": "code",
   "execution_count": 1,
   "metadata": {},
   "outputs": [],
   "source": [
    "import pandas as pd\n",
    "import numpy as np\n",
    "import seaborn as sns\n",
    "import matplotlib.pyplot as plt\n",
    "import os\n",
    "import requests\n",
    "from tqdm import tqdm\n",
    "import librosa\n",
    "\n",
    "from sklearn.cluster import KMeans, MiniBatchKMeans\n",
    "from sklearn.metrics import silhouette_score, classification_report, confusion_matrix\n",
    "from sklearn.decomposition import PCA\n",
    "from sklearn.preprocessing import StandardScaler\n",
    "from sklearn.model_selection import train_test_split\n",
    "\n",
    "from scipy.spatial.distance import euclidean\n",
    "\n",
    "from keras.utils import to_categorical\n",
    "from keras.models import Sequential\n",
    "from keras.layers import Dense, Dropout\n",
    "from keras.utils import to_categorical\n",
    "from keras.optimizers import Adam"
   ]
  },
  {
   "cell_type": "code",
   "execution_count": 2,
   "metadata": {},
   "outputs": [],
   "source": [
    "bp_media = pd.read_csv('data/bp_track_media.csv', usecols=['track_id', 'sample_uuid'])"
   ]
  },
  {
   "cell_type": "code",
   "execution_count": 3,
   "metadata": {},
   "outputs": [],
   "source": [
    "def load_audio_from_url(df, sample_uuid_column, track_id_column):\n",
    "    failed_samples = []\n",
    "    saved_file_paths = []\n",
    "    successful_track_ids = []  # List to store track IDs of successfully loaded files\n",
    "\n",
    "    base_url = \"https://geo-samples.beatport.com/track/\"\n",
    "    save_directory = \"static/audio_files\"\n",
    "    os.makedirs(save_directory, exist_ok=True)\n",
    "\n",
    "    for index, row in tqdm(df.iterrows(), total=df.shape[0]):  # Iterate through DataFrame rows\n",
    "        sample_uuid = row[sample_uuid_column]\n",
    "        track_id = row[track_id_column]  # Get the corresponding track_id\n",
    "        # Construct full audio URL\n",
    "        audio_url = f\"{base_url}{sample_uuid}.LOFI.mp3\"\n",
    "        save_path = os.path.join(save_directory, f\"{sample_uuid}.mp3\")\n",
    "\n",
    "        # Check if the file already exists\n",
    "        if os.path.exists(save_path):\n",
    "            saved_file_paths.append(save_path)\n",
    "            successful_track_ids.append(track_id)  # Add track_id to successful list\n",
    "            continue  # Skip the download if file already exists\n",
    "\n",
    "        try:\n",
    "            # Send a request to download the audio file\n",
    "            response = requests.get(audio_url)\n",
    "            response.raise_for_status()  # Raise an exception for failed requests\n",
    "\n",
    "            # Save the downloaded audio file locally\n",
    "            with open(save_path, 'wb') as f:\n",
    "                f.write(response.content)\n",
    "\n",
    "            # Append the file path and track_id to their respective lists\n",
    "            saved_file_paths.append(save_path)\n",
    "            successful_track_ids.append(track_id)  # Add track_id to successful list\n",
    "\n",
    "        except Exception as e:\n",
    "            print(f\"Error downloading {sample_uuid}: {e}\")\n",
    "            failed_samples.append(sample_uuid)  # Add the sample_uuid to the failed list\n",
    "\n",
    "    return saved_file_paths, successful_track_ids, failed_samples"
   ]
  },
  {
   "cell_type": "code",
   "execution_count": 4,
   "metadata": {},
   "outputs": [],
   "source": [
    "def extract_chroma(audio_file, sr=16000, max_length=1600):\n",
    "    signal, sample_rate = librosa.load(audio_file, sr=sr)\n",
    "    chroma = librosa.feature.chroma_stft(y=signal, sr=sample_rate)\n",
    "    if chroma.shape[1] < max_length:\n",
    "        chroma = np.pad(chroma, ((0, 0), (0, max_length - chroma.shape[1])), mode='constant')\n",
    "    else:\n",
    "        chroma = chroma[:, :max_length]\n",
    "    return chroma"
   ]
  },
  {
   "cell_type": "code",
   "execution_count": 5,
   "metadata": {},
   "outputs": [],
   "source": [
    "def extract_mfcc(audio_file, n_mfcc=13, sr=16000, max_length=1600):\n",
    "    signal, sample_rate = librosa.load(audio_file, sr=sr)\n",
    "    mfcc = librosa.feature.mfcc(y=signal, sr=sample_rate, n_mfcc=n_mfcc)\n",
    "    if mfcc.shape[1] < max_length:\n",
    "        mfcc = np.pad(mfcc, ((0, 0), (0, max_length - mfcc.shape[1])), mode='constant')\n",
    "    else:\n",
    "        mfcc = mfcc[:, :max_length]\n",
    "    return mfcc"
   ]
  },
  {
   "cell_type": "code",
   "execution_count": 6,
   "metadata": {},
   "outputs": [
    {
     "name": "stderr",
     "output_type": "stream",
     "text": [
      " 43%|████▎     | 427/1000 [00:00<00:00, 1044.32it/s]"
     ]
    },
    {
     "name": "stdout",
     "output_type": "stream",
     "text": [
      "Error downloading a0196b91-79b3-47c8-9e51-282acaa13963: 404 Client Error: Not Found for url: https://geo-samples.beatport.com/track/a0196b91-79b3-47c8-9e51-282acaa13963.LOFI.mp3\n",
      "Error downloading a8b326ce-95af-4a23-83d5-ebec83c4952b: 404 Client Error: Not Found for url: https://geo-samples.beatport.com/track/a8b326ce-95af-4a23-83d5-ebec83c4952b.LOFI.mp3\n",
      "Error downloading 77c54e71-ed31-4d8e-9474-f8b7fd555a0d: 404 Client Error: Not Found for url: https://geo-samples.beatport.com/track/77c54e71-ed31-4d8e-9474-f8b7fd555a0d.LOFI.mp3\n"
     ]
    },
    {
     "name": "stderr",
     "output_type": "stream",
     "text": [
      "100%|██████████| 1000/1000 [00:00<00:00, 1273.88it/s]"
     ]
    },
    {
     "name": "stdout",
     "output_type": "stream",
     "text": [
      "Error downloading 485662be-e550-4b98-8d8f-5634e292da1a: 404 Client Error: Not Found for url: https://geo-samples.beatport.com/track/485662be-e550-4b98-8d8f-5634e292da1a.LOFI.mp3\n",
      "Error downloading c517223d-457d-488e-8e6e-3b5016fc3f7b: 404 Client Error: Not Found for url: https://geo-samples.beatport.com/track/c517223d-457d-488e-8e6e-3b5016fc3f7b.LOFI.mp3\n",
      "Error downloading d1e1683c-7f74-432e-854a-fdda91faf169: 404 Client Error: Not Found for url: https://geo-samples.beatport.com/track/d1e1683c-7f74-432e-854a-fdda91faf169.LOFI.mp3\n"
     ]
    },
    {
     "name": "stderr",
     "output_type": "stream",
     "text": [
      "\n"
     ]
    }
   ],
   "source": [
    "sampled_data = bp_media.sample(n=1000, random_state=42)\n",
    "sample_saved_file_paths, sample_successful_track_ids, failed_samples = load_audio_from_url(sampled_data, 'sample_uuid', 'track_id')"
   ]
  },
  {
   "cell_type": "code",
   "execution_count": 7,
   "metadata": {},
   "outputs": [
    {
     "name": "stderr",
     "output_type": "stream",
     "text": [
      "  3%|▎         | 663/20000 [00:00<00:06, 3129.71it/s]"
     ]
    },
    {
     "name": "stdout",
     "output_type": "stream",
     "text": [
      "Error downloading a0196b91-79b3-47c8-9e51-282acaa13963: 404 Client Error: Not Found for url: https://geo-samples.beatport.com/track/a0196b91-79b3-47c8-9e51-282acaa13963.LOFI.mp3\n",
      "Error downloading a8b326ce-95af-4a23-83d5-ebec83c4952b: 404 Client Error: Not Found for url: https://geo-samples.beatport.com/track/a8b326ce-95af-4a23-83d5-ebec83c4952b.LOFI.mp3\n",
      "Error downloading 77c54e71-ed31-4d8e-9474-f8b7fd555a0d: 404 Client Error: Not Found for url: https://geo-samples.beatport.com/track/77c54e71-ed31-4d8e-9474-f8b7fd555a0d.LOFI.mp3\n"
     ]
    },
    {
     "name": "stderr",
     "output_type": "stream",
     "text": [
      "  5%|▍         | 997/20000 [00:00<00:08, 2264.08it/s]"
     ]
    },
    {
     "name": "stdout",
     "output_type": "stream",
     "text": [
      "Error downloading 485662be-e550-4b98-8d8f-5634e292da1a: 404 Client Error: Not Found for url: https://geo-samples.beatport.com/track/485662be-e550-4b98-8d8f-5634e292da1a.LOFI.mp3\n",
      "Error downloading c517223d-457d-488e-8e6e-3b5016fc3f7b: 404 Client Error: Not Found for url: https://geo-samples.beatport.com/track/c517223d-457d-488e-8e6e-3b5016fc3f7b.LOFI.mp3\n",
      "Error downloading d1e1683c-7f74-432e-854a-fdda91faf169: 404 Client Error: Not Found for url: https://geo-samples.beatport.com/track/d1e1683c-7f74-432e-854a-fdda91faf169.LOFI.mp3\n"
     ]
    },
    {
     "name": "stderr",
     "output_type": "stream",
     "text": [
      "  6%|▋         | 1256/20000 [00:00<00:10, 1808.05it/s]"
     ]
    },
    {
     "name": "stdout",
     "output_type": "stream",
     "text": [
      "Error downloading a615a173-df96-486d-8153-1336a27c3602: 404 Client Error: Not Found for url: https://geo-samples.beatport.com/track/a615a173-df96-486d-8153-1336a27c3602.LOFI.mp3\n",
      "Error downloading c8b96d17-40bd-4835-9088-b801a0f8f5ed: 404 Client Error: Not Found for url: https://geo-samples.beatport.com/track/c8b96d17-40bd-4835-9088-b801a0f8f5ed.LOFI.mp3\n",
      "Error downloading e250275a-80da-4164-9451-c131e3615b8d: 404 Client Error: Not Found for url: https://geo-samples.beatport.com/track/e250275a-80da-4164-9451-c131e3615b8d.LOFI.mp3\n",
      "Error downloading 5c4dd083-5d2a-4a42-8a3e-6bea5520e204: 404 Client Error: Not Found for url: https://geo-samples.beatport.com/track/5c4dd083-5d2a-4a42-8a3e-6bea5520e204.LOFI.mp3\n"
     ]
    },
    {
     "name": "stderr",
     "output_type": "stream",
     "text": [
      "  9%|▉         | 1855/20000 [00:00<00:08, 2035.68it/s]"
     ]
    },
    {
     "name": "stdout",
     "output_type": "stream",
     "text": [
      "Error downloading ce1d59fa-67c4-42a3-8f0b-110e9c653327: 404 Client Error: Not Found for url: https://geo-samples.beatport.com/track/ce1d59fa-67c4-42a3-8f0b-110e9c653327.LOFI.mp3\n",
      "Error downloading 4180545e-090e-4317-8eb4-d06baac52199: 404 Client Error: Not Found for url: https://geo-samples.beatport.com/track/4180545e-090e-4317-8eb4-d06baac52199.LOFI.mp3\n",
      "Error downloading 3f578170-e19a-4999-b824-69f16db1660f: 404 Client Error: Not Found for url: https://geo-samples.beatport.com/track/3f578170-e19a-4999-b824-69f16db1660f.LOFI.mp3\n"
     ]
    },
    {
     "name": "stderr",
     "output_type": "stream",
     "text": [
      " 10%|█         | 2091/20000 [00:01<00:09, 1833.31it/s]"
     ]
    },
    {
     "name": "stdout",
     "output_type": "stream",
     "text": [
      "Error downloading 9cd7174f-ef7e-4168-8d62-55ccf7647f1d: 404 Client Error: Not Found for url: https://geo-samples.beatport.com/track/9cd7174f-ef7e-4168-8d62-55ccf7647f1d.LOFI.mp3\n",
      "Error downloading ce428b17-d4d0-485d-8fc4-82db326be37d: 404 Client Error: Not Found for url: https://geo-samples.beatport.com/track/ce428b17-d4d0-485d-8fc4-82db326be37d.LOFI.mp3\n",
      "Error downloading 2b310332-bc41-4aa3-85bf-84d9e57ce7e3: 404 Client Error: Not Found for url: https://geo-samples.beatport.com/track/2b310332-bc41-4aa3-85bf-84d9e57ce7e3.LOFI.mp3\n",
      "Error downloading 1bcbcdc1-ca15-499f-b5f9-59ab8f7652ff: 404 Client Error: Not Found for url: https://geo-samples.beatport.com/track/1bcbcdc1-ca15-499f-b5f9-59ab8f7652ff.LOFI.mp3\n"
     ]
    },
    {
     "name": "stderr",
     "output_type": "stream",
     "text": [
      " 12%|█▏        | 2465/20000 [00:01<00:12, 1362.76it/s]"
     ]
    },
    {
     "name": "stdout",
     "output_type": "stream",
     "text": [
      "Error downloading cd7864ed-14da-44d6-b22a-ba9307f4dd5d: 404 Client Error: Not Found for url: https://geo-samples.beatport.com/track/cd7864ed-14da-44d6-b22a-ba9307f4dd5d.LOFI.mp3\n",
      "Error downloading 13e90692-97ed-466c-9829-1e7d5b6b2b56: 404 Client Error: Not Found for url: https://geo-samples.beatport.com/track/13e90692-97ed-466c-9829-1e7d5b6b2b56.LOFI.mp3\n",
      "Error downloading 6eb7fae0-ea4c-4c55-acb0-d91b576770b6: 404 Client Error: Not Found for url: https://geo-samples.beatport.com/track/6eb7fae0-ea4c-4c55-acb0-d91b576770b6.LOFI.mp3\n"
     ]
    },
    {
     "name": "stderr",
     "output_type": "stream",
     "text": [
      " 14%|█▎        | 2743/20000 [00:01<00:10, 1654.69it/s]"
     ]
    },
    {
     "name": "stdout",
     "output_type": "stream",
     "text": [
      "Error downloading 9688182e-d839-4d43-98e0-4d91fd12379e: 404 Client Error: Not Found for url: https://geo-samples.beatport.com/track/9688182e-d839-4d43-98e0-4d91fd12379e.LOFI.mp3\n",
      "Error downloading b7cee464-eabb-4ed5-9daa-9ce68322f0d0: 404 Client Error: Not Found for url: https://geo-samples.beatport.com/track/b7cee464-eabb-4ed5-9daa-9ce68322f0d0.LOFI.mp3\n",
      "Error downloading d6c91760-c1a4-4c65-908b-d1dcb90472d9: 404 Client Error: Not Found for url: https://geo-samples.beatport.com/track/d6c91760-c1a4-4c65-908b-d1dcb90472d9.LOFI.mp3\n",
      "Error downloading 28be4a2e-19b8-42ee-bc24-5c179fd34afe: 404 Client Error: Not Found for url: https://geo-samples.beatport.com/track/28be4a2e-19b8-42ee-bc24-5c179fd34afe.LOFI.mp3\n"
     ]
    },
    {
     "name": "stderr",
     "output_type": "stream",
     "text": [
      " 16%|█▋        | 3300/20000 [00:01<00:10, 1584.96it/s]"
     ]
    },
    {
     "name": "stdout",
     "output_type": "stream",
     "text": [
      "Error downloading 7e0add10-0bd3-417b-b815-4c051e4ac3fd: 404 Client Error: Not Found for url: https://geo-samples.beatport.com/track/7e0add10-0bd3-417b-b815-4c051e4ac3fd.LOFI.mp3\n",
      "Error downloading 6b1a09ca-2308-4345-8b5f-f504d598fde6: 404 Client Error: Not Found for url: https://geo-samples.beatport.com/track/6b1a09ca-2308-4345-8b5f-f504d598fde6.LOFI.mp3\n",
      "Error downloading 5c03d3a4-c473-4e96-8f4d-e8e91df2e98c: 404 Client Error: Not Found for url: https://geo-samples.beatport.com/track/5c03d3a4-c473-4e96-8f4d-e8e91df2e98c.LOFI.mp3\n"
     ]
    },
    {
     "name": "stderr",
     "output_type": "stream",
     "text": [
      " 19%|█▉        | 3756/20000 [00:02<00:10, 1601.57it/s]"
     ]
    },
    {
     "name": "stdout",
     "output_type": "stream",
     "text": [
      "Error downloading 49397347-9374-4218-8a7f-f9cb9935227d: 404 Client Error: Not Found for url: https://geo-samples.beatport.com/track/49397347-9374-4218-8a7f-f9cb9935227d.LOFI.mp3\n",
      "Error downloading 117a49e3-56c7-4ce0-99fa-731ebda9426e: 404 Client Error: Not Found for url: https://geo-samples.beatport.com/track/117a49e3-56c7-4ce0-99fa-731ebda9426e.LOFI.mp3\n",
      "Error downloading 6ee180ec-2072-470f-9ded-e94ecdd14d7c: 404 Client Error: Not Found for url: https://geo-samples.beatport.com/track/6ee180ec-2072-470f-9ded-e94ecdd14d7c.LOFI.mp3\n",
      "Error downloading 3c3e692d-4bad-4c59-a5de-20bba9375bb3: 404 Client Error: Not Found for url: https://geo-samples.beatport.com/track/3c3e692d-4bad-4c59-a5de-20bba9375bb3.LOFI.mp3\n"
     ]
    },
    {
     "name": "stderr",
     "output_type": "stream",
     "text": [
      " 21%|██        | 4103/20000 [00:02<00:07, 2010.35it/s]"
     ]
    },
    {
     "name": "stdout",
     "output_type": "stream",
     "text": [
      "Error downloading bf17110f-55c6-4b4d-90c9-d278e53158e8: 404 Client Error: Not Found for url: https://geo-samples.beatport.com/track/bf17110f-55c6-4b4d-90c9-d278e53158e8.LOFI.mp3\n",
      "Error downloading 544046fc-4685-49b1-ade5-84e928cb921d: 404 Client Error: Not Found for url: https://geo-samples.beatport.com/track/544046fc-4685-49b1-ade5-84e928cb921d.LOFI.mp3\n",
      "Error downloading c10ea70c-9170-462a-ac06-470c52c997a2: 404 Client Error: Not Found for url: https://geo-samples.beatport.com/track/c10ea70c-9170-462a-ac06-470c52c997a2.LOFI.mp3\n"
     ]
    },
    {
     "name": "stderr",
     "output_type": "stream",
     "text": [
      " 24%|██▎       | 4711/20000 [00:02<00:07, 2101.58it/s]"
     ]
    },
    {
     "name": "stdout",
     "output_type": "stream",
     "text": [
      "Error downloading 86df5c13-d2ad-4d42-9740-16cf1e59f6d1: 404 Client Error: Not Found for url: https://geo-samples.beatport.com/track/86df5c13-d2ad-4d42-9740-16cf1e59f6d1.LOFI.mp3\n",
      "Error downloading 30c71cad-89f6-4873-8a06-e2b60d06c605: 404 Client Error: Not Found for url: https://geo-samples.beatport.com/track/30c71cad-89f6-4873-8a06-e2b60d06c605.LOFI.mp3\n",
      "Error downloading 2f4f84e8-aae8-4557-b57b-9fe195a04762: 404 Client Error: Not Found for url: https://geo-samples.beatport.com/track/2f4f84e8-aae8-4557-b57b-9fe195a04762.LOFI.mp3\n"
     ]
    },
    {
     "name": "stderr",
     "output_type": "stream",
     "text": [
      " 26%|██▋       | 5274/20000 [00:02<00:07, 2011.84it/s]"
     ]
    },
    {
     "name": "stdout",
     "output_type": "stream",
     "text": [
      "Error downloading ad6ffaf3-27ac-4004-85c9-c6deca1278fd: 404 Client Error: Not Found for url: https://geo-samples.beatport.com/track/ad6ffaf3-27ac-4004-85c9-c6deca1278fd.LOFI.mp3\n",
      "Error downloading 8151eeb3-8dd7-470b-8a46-2a4c350e4977: 404 Client Error: Not Found for url: https://geo-samples.beatport.com/track/8151eeb3-8dd7-470b-8a46-2a4c350e4977.LOFI.mp3\n",
      "Error downloading b7dd375e-8b2d-46bc-9a8d-ac063f09e77a: 404 Client Error: Not Found for url: https://geo-samples.beatport.com/track/b7dd375e-8b2d-46bc-9a8d-ac063f09e77a.LOFI.mp3\n"
     ]
    },
    {
     "name": "stderr",
     "output_type": "stream",
     "text": [
      " 27%|██▋       | 5495/20000 [00:03<00:09, 1494.72it/s]"
     ]
    },
    {
     "name": "stdout",
     "output_type": "stream",
     "text": [
      "Error downloading 7e02cd3c-3277-48a9-afad-cb152b1d5bea: 404 Client Error: Not Found for url: https://geo-samples.beatport.com/track/7e02cd3c-3277-48a9-afad-cb152b1d5bea.LOFI.mp3\n",
      "Error downloading b9ad62c3-ef2c-496d-918b-a64cdab35fb1: 404 Client Error: Not Found for url: https://geo-samples.beatport.com/track/b9ad62c3-ef2c-496d-918b-a64cdab35fb1.LOFI.mp3\n",
      "Error downloading 1e8fde49-7005-488f-af87-fb7e0bbe133a: 404 Client Error: Not Found for url: https://geo-samples.beatport.com/track/1e8fde49-7005-488f-af87-fb7e0bbe133a.LOFI.mp3\n",
      "Error downloading e57bebe2-9e6e-455a-9501-cb17fbf11a49: 404 Client Error: Not Found for url: https://geo-samples.beatport.com/track/e57bebe2-9e6e-455a-9501-cb17fbf11a49.LOFI.mp3\n"
     ]
    },
    {
     "name": "stderr",
     "output_type": "stream",
     "text": [
      " 30%|██▉       | 5981/20000 [00:03<00:08, 1650.67it/s]"
     ]
    },
    {
     "name": "stdout",
     "output_type": "stream",
     "text": [
      "Error downloading 5b9afbb2-4dc3-4867-81c0-8ce8a0f34f41: 404 Client Error: Not Found for url: https://geo-samples.beatport.com/track/5b9afbb2-4dc3-4867-81c0-8ce8a0f34f41.LOFI.mp3\n",
      "Error downloading 945ea587-c514-40c0-8534-ef16805ec5eb: 404 Client Error: Not Found for url: https://geo-samples.beatport.com/track/945ea587-c514-40c0-8534-ef16805ec5eb.LOFI.mp3\n",
      "Error downloading b6150740-ac92-461f-85af-f5977bbe241a: 404 Client Error: Not Found for url: https://geo-samples.beatport.com/track/b6150740-ac92-461f-85af-f5977bbe241a.LOFI.mp3\n"
     ]
    },
    {
     "name": "stderr",
     "output_type": "stream",
     "text": [
      " 32%|███▏      | 6452/20000 [00:03<00:07, 1704.02it/s]"
     ]
    },
    {
     "name": "stdout",
     "output_type": "stream",
     "text": [
      "Error downloading afe33b5c-dcbb-4782-8849-2e720949fb12: 404 Client Error: Not Found for url: https://geo-samples.beatport.com/track/afe33b5c-dcbb-4782-8849-2e720949fb12.LOFI.mp3\n",
      "Error downloading 8f010443-4179-475d-803f-9a3778fc5b4b: 404 Client Error: Not Found for url: https://geo-samples.beatport.com/track/8f010443-4179-475d-803f-9a3778fc5b4b.LOFI.mp3\n",
      "Error downloading 11f48c22-2bdf-4595-b554-8a308c207c19: 404 Client Error: Not Found for url: https://geo-samples.beatport.com/track/11f48c22-2bdf-4595-b554-8a308c207c19.LOFI.mp3\n",
      "Error downloading 16272101-5635-4160-b433-6fac3b68dab8: 404 Client Error: Not Found for url: https://geo-samples.beatport.com/track/16272101-5635-4160-b433-6fac3b68dab8.LOFI.mp3\n"
     ]
    },
    {
     "name": "stderr",
     "output_type": "stream",
     "text": [
      " 35%|███▍      | 6943/20000 [00:04<00:07, 1799.99it/s]"
     ]
    },
    {
     "name": "stdout",
     "output_type": "stream",
     "text": [
      "Error downloading 875c8f61-c01f-4114-bcb2-7f87037ec900: 404 Client Error: Not Found for url: https://geo-samples.beatport.com/track/875c8f61-c01f-4114-bcb2-7f87037ec900.LOFI.mp3\n",
      "Error downloading 94957370-17bf-48a0-93f2-49944d167610: 404 Client Error: Not Found for url: https://geo-samples.beatport.com/track/94957370-17bf-48a0-93f2-49944d167610.LOFI.mp3\n",
      "Error downloading 309637bd-33cf-431a-a3d5-185c4c5123fa: 404 Client Error: Not Found for url: https://geo-samples.beatport.com/track/309637bd-33cf-431a-a3d5-185c4c5123fa.LOFI.mp3\n"
     ]
    },
    {
     "name": "stderr",
     "output_type": "stream",
     "text": [
      " 38%|███▊      | 7671/20000 [00:04<00:04, 2564.79it/s]"
     ]
    },
    {
     "name": "stdout",
     "output_type": "stream",
     "text": [
      "Error downloading 3e75f210-f5bd-4c06-88e7-336d5e20655c: 404 Client Error: Not Found for url: https://geo-samples.beatport.com/track/3e75f210-f5bd-4c06-88e7-336d5e20655c.LOFI.mp3\n",
      "Error downloading 0ae9c7b1-13fd-499a-93c1-5064e9a5633a: 404 Client Error: Not Found for url: https://geo-samples.beatport.com/track/0ae9c7b1-13fd-499a-93c1-5064e9a5633a.LOFI.mp3\n"
     ]
    },
    {
     "name": "stderr",
     "output_type": "stream",
     "text": [
      " 41%|████▏     | 8293/20000 [00:04<00:04, 2590.08it/s]"
     ]
    },
    {
     "name": "stdout",
     "output_type": "stream",
     "text": [
      "Error downloading 3b07faaf-68e2-466f-b206-cdec484de35f: 404 Client Error: Not Found for url: https://geo-samples.beatport.com/track/3b07faaf-68e2-466f-b206-cdec484de35f.LOFI.mp3\n",
      "Error downloading 8b0a490a-ef8a-4de9-b345-5c56dad19a90: 404 Client Error: Not Found for url: https://geo-samples.beatport.com/track/8b0a490a-ef8a-4de9-b345-5c56dad19a90.LOFI.mp3\n",
      "Error downloading dbefc2af-517b-4990-af77-2cd0716491e2: 404 Client Error: Not Found for url: https://geo-samples.beatport.com/track/dbefc2af-517b-4990-af77-2cd0716491e2.LOFI.mp3\n"
     ]
    },
    {
     "name": "stderr",
     "output_type": "stream",
     "text": [
      " 43%|████▎     | 8569/20000 [00:04<00:04, 2326.66it/s]"
     ]
    },
    {
     "name": "stdout",
     "output_type": "stream",
     "text": [
      "Error downloading 6ab6b005-b312-43f9-80a8-828fa7d509cb: 404 Client Error: Not Found for url: https://geo-samples.beatport.com/track/6ab6b005-b312-43f9-80a8-828fa7d509cb.LOFI.mp3\n",
      "Error downloading c45b423c-9598-4724-a359-57f9930eba91: 404 Client Error: Not Found for url: https://geo-samples.beatport.com/track/c45b423c-9598-4724-a359-57f9930eba91.LOFI.mp3\n",
      "Error downloading c7b6f369-df4f-468a-abc3-cf2ceaad4c2d: 404 Client Error: Not Found for url: https://geo-samples.beatport.com/track/c7b6f369-df4f-468a-abc3-cf2ceaad4c2d.LOFI.mp3\n",
      "Error downloading 2195c2d7-1451-4816-8c31-faa8e078a560: 404 Client Error: Not Found for url: https://geo-samples.beatport.com/track/2195c2d7-1451-4816-8c31-faa8e078a560.LOFI.mp3\n"
     ]
    },
    {
     "name": "stderr",
     "output_type": "stream",
     "text": [
      " 47%|████▋     | 9472/20000 [00:05<00:04, 2433.31it/s]"
     ]
    },
    {
     "name": "stdout",
     "output_type": "stream",
     "text": [
      "Error downloading 3b09d2e4-ec57-4dc8-b026-d24f0e2899fc: 404 Client Error: Not Found for url: https://geo-samples.beatport.com/track/3b09d2e4-ec57-4dc8-b026-d24f0e2899fc.LOFI.mp3\n",
      "Error downloading 4b867358-98a4-4245-bdc2-15377deb8be9: 404 Client Error: Not Found for url: https://geo-samples.beatport.com/track/4b867358-98a4-4245-bdc2-15377deb8be9.LOFI.mp3\n",
      "Error downloading b0dfbdde-7383-4454-91d8-11f3167d1a55: 404 Client Error: Not Found for url: https://geo-samples.beatport.com/track/b0dfbdde-7383-4454-91d8-11f3167d1a55.LOFI.mp3\n"
     ]
    },
    {
     "name": "stderr",
     "output_type": "stream",
     "text": [
      " 49%|████▊     | 9737/20000 [00:05<00:04, 2217.61it/s]"
     ]
    },
    {
     "name": "stdout",
     "output_type": "stream",
     "text": [
      "Error downloading ce42298e-1e41-4368-8f2d-d582f60f945c: 404 Client Error: Not Found for url: https://geo-samples.beatport.com/track/ce42298e-1e41-4368-8f2d-d582f60f945c.LOFI.mp3\n",
      "Error downloading a1561bc0-c4df-41b5-bc2e-e5d67e94dc22: 404 Client Error: Not Found for url: https://geo-samples.beatport.com/track/a1561bc0-c4df-41b5-bc2e-e5d67e94dc22.LOFI.mp3\n",
      "Error downloading 41b6b839-08da-4a53-a5a5-9bbf53809aeb: 404 Client Error: Not Found for url: https://geo-samples.beatport.com/track/41b6b839-08da-4a53-a5a5-9bbf53809aeb.LOFI.mp3\n"
     ]
    },
    {
     "name": "stderr",
     "output_type": "stream",
     "text": [
      " 54%|█████▍    | 10810/20000 [07:03<1:17:48,  1.97it/s]"
     ]
    },
    {
     "name": "stdout",
     "output_type": "stream",
     "text": [
      "Error downloading f818bb1c-5943-4e3d-aedb-bd2d1c3d6b74: 404 Client Error: Not Found for url: https://geo-samples.beatport.com/track/f818bb1c-5943-4e3d-aedb-bd2d1c3d6b74.LOFI.mp3\n"
     ]
    },
    {
     "name": "stderr",
     "output_type": "stream",
     "text": [
      " 57%|█████▋    | 11305/20000 [11:33<1:12:19,  2.00it/s]"
     ]
    },
    {
     "name": "stdout",
     "output_type": "stream",
     "text": [
      "Error downloading 5cc34e85-0d8b-4069-9c39-a8525dcc8d22: 404 Client Error: Not Found for url: https://geo-samples.beatport.com/track/5cc34e85-0d8b-4069-9c39-a8525dcc8d22.LOFI.mp3\n"
     ]
    },
    {
     "name": "stderr",
     "output_type": "stream",
     "text": [
      " 57%|█████▋    | 11399/20000 [12:20<1:03:56,  2.24it/s]"
     ]
    },
    {
     "name": "stdout",
     "output_type": "stream",
     "text": [
      "Error downloading 18c3fef8-e240-41d2-bb6b-5f5e926aaf10: 404 Client Error: Not Found for url: https://geo-samples.beatport.com/track/18c3fef8-e240-41d2-bb6b-5f5e926aaf10.LOFI.mp3\n"
     ]
    },
    {
     "name": "stderr",
     "output_type": "stream",
     "text": [
      " 57%|█████▋    | 11463/20000 [12:53<1:13:18,  1.94it/s]"
     ]
    },
    {
     "name": "stdout",
     "output_type": "stream",
     "text": [
      "Error downloading 644f7d58-d987-45ea-bd69-1f98ee2d4e9c: 404 Client Error: Not Found for url: https://geo-samples.beatport.com/track/644f7d58-d987-45ea-bd69-1f98ee2d4e9c.LOFI.mp3\n"
     ]
    },
    {
     "name": "stderr",
     "output_type": "stream",
     "text": [
      " 58%|█████▊    | 11545/20000 [13:35<1:04:53,  2.17it/s]"
     ]
    },
    {
     "name": "stdout",
     "output_type": "stream",
     "text": [
      "Error downloading 0585d354-f041-4a75-a8b5-94d740694c28: 404 Client Error: Not Found for url: https://geo-samples.beatport.com/track/0585d354-f041-4a75-a8b5-94d740694c28.LOFI.mp3\n"
     ]
    },
    {
     "name": "stderr",
     "output_type": "stream",
     "text": [
      " 58%|█████▊    | 11635/20000 [14:24<1:22:02,  1.70it/s]"
     ]
    },
    {
     "name": "stdout",
     "output_type": "stream",
     "text": [
      "Error downloading 926813e7-1528-4351-901f-613d230aeb64: 404 Client Error: Not Found for url: https://geo-samples.beatport.com/track/926813e7-1528-4351-901f-613d230aeb64.LOFI.mp3\n"
     ]
    },
    {
     "name": "stderr",
     "output_type": "stream",
     "text": [
      " 60%|█████▉    | 11991/20000 [17:43<1:10:54,  1.88it/s]"
     ]
    },
    {
     "name": "stdout",
     "output_type": "stream",
     "text": [
      "Error downloading 4aa34fa6-5864-4d4d-a267-fc3bfa8cdb0e: 404 Client Error: Not Found for url: https://geo-samples.beatport.com/track/4aa34fa6-5864-4d4d-a267-fc3bfa8cdb0e.LOFI.mp3\n"
     ]
    },
    {
     "name": "stderr",
     "output_type": "stream",
     "text": [
      " 62%|██████▏   | 12355/20000 [21:20<1:15:09,  1.70it/s]"
     ]
    },
    {
     "name": "stdout",
     "output_type": "stream",
     "text": [
      "Error downloading a40c0f86-59e0-4666-977e-a6cff1a69215: 404 Client Error: Not Found for url: https://geo-samples.beatport.com/track/a40c0f86-59e0-4666-977e-a6cff1a69215.LOFI.mp3\n"
     ]
    },
    {
     "name": "stderr",
     "output_type": "stream",
     "text": [
      " 62%|██████▏   | 12478/20000 [22:36<1:13:28,  1.71it/s]"
     ]
    },
    {
     "name": "stdout",
     "output_type": "stream",
     "text": [
      "Error downloading b5da65af-8391-4daa-bf71-c9ec35ac4bbf: 404 Client Error: Not Found for url: https://geo-samples.beatport.com/track/b5da65af-8391-4daa-bf71-c9ec35ac4bbf.LOFI.mp3\n"
     ]
    },
    {
     "name": "stderr",
     "output_type": "stream",
     "text": [
      " 63%|██████▎   | 12545/20000 [23:22<1:20:09,  1.55it/s]"
     ]
    },
    {
     "name": "stdout",
     "output_type": "stream",
     "text": [
      "Error downloading 5c1f0e92-35b4-4b7c-a9d2-8afaae417dcd: 404 Client Error: Not Found for url: https://geo-samples.beatport.com/track/5c1f0e92-35b4-4b7c-a9d2-8afaae417dcd.LOFI.mp3\n"
     ]
    },
    {
     "name": "stderr",
     "output_type": "stream",
     "text": [
      " 63%|██████▎   | 12583/20000 [23:46<1:31:00,  1.36it/s]"
     ]
    },
    {
     "name": "stdout",
     "output_type": "stream",
     "text": [
      "Error downloading abaf8c88-d0a6-43c7-a8d4-f23496fe2298: 404 Client Error: Not Found for url: https://geo-samples.beatport.com/track/abaf8c88-d0a6-43c7-a8d4-f23496fe2298.LOFI.mp3\n"
     ]
    },
    {
     "name": "stderr",
     "output_type": "stream",
     "text": [
      " 63%|██████▎   | 12589/20000 [23:50<1:18:02,  1.58it/s]"
     ]
    },
    {
     "name": "stdout",
     "output_type": "stream",
     "text": [
      "Error downloading 15f6feee-7a35-4f8b-b0eb-39d7b817eaf7: 404 Client Error: Not Found for url: https://geo-samples.beatport.com/track/15f6feee-7a35-4f8b-b0eb-39d7b817eaf7.LOFI.mp3\n"
     ]
    },
    {
     "name": "stderr",
     "output_type": "stream",
     "text": [
      " 63%|██████▎   | 12672/20000 [24:40<1:00:50,  2.01it/s]"
     ]
    },
    {
     "name": "stdout",
     "output_type": "stream",
     "text": [
      "Error downloading 503d4afc-a9e2-4ad2-b961-33e0b709e1aa: 404 Client Error: Not Found for url: https://geo-samples.beatport.com/track/503d4afc-a9e2-4ad2-b961-33e0b709e1aa.LOFI.mp3\n"
     ]
    },
    {
     "name": "stderr",
     "output_type": "stream",
     "text": [
      " 63%|██████▎   | 12696/20000 [24:53<1:02:27,  1.95it/s]"
     ]
    },
    {
     "name": "stdout",
     "output_type": "stream",
     "text": [
      "Error downloading 6d7fd9cb-4601-45c5-a5a1-f5290f102bbf: 404 Client Error: Not Found for url: https://geo-samples.beatport.com/track/6d7fd9cb-4601-45c5-a5a1-f5290f102bbf.LOFI.mp3\n"
     ]
    },
    {
     "name": "stderr",
     "output_type": "stream",
     "text": [
      " 65%|██████▍   | 12929/20000 [26:51<1:07:44,  1.74it/s]"
     ]
    },
    {
     "name": "stdout",
     "output_type": "stream",
     "text": [
      "Error downloading 05df5659-dde8-454c-9f7d-c2e620411558: 404 Client Error: Not Found for url: https://geo-samples.beatport.com/track/05df5659-dde8-454c-9f7d-c2e620411558.LOFI.mp3\n"
     ]
    },
    {
     "name": "stderr",
     "output_type": "stream",
     "text": [
      " 65%|██████▌   | 13018/20000 [27:42<1:01:47,  1.88it/s]"
     ]
    },
    {
     "name": "stdout",
     "output_type": "stream",
     "text": [
      "Error downloading 77daa180-5825-456a-a7f0-8c9ddc811e47: 404 Client Error: Not Found for url: https://geo-samples.beatport.com/track/77daa180-5825-456a-a7f0-8c9ddc811e47.LOFI.mp3\n"
     ]
    },
    {
     "name": "stderr",
     "output_type": "stream",
     "text": [
      " 67%|██████▋   | 13380/20000 [30:51<1:00:29,  1.82it/s]"
     ]
    },
    {
     "name": "stdout",
     "output_type": "stream",
     "text": [
      "Error downloading cde379ff-3f3f-4acf-86d6-e0806194bdd6: 404 Client Error: Not Found for url: https://geo-samples.beatport.com/track/cde379ff-3f3f-4acf-86d6-e0806194bdd6.LOFI.mp3\n"
     ]
    },
    {
     "name": "stderr",
     "output_type": "stream",
     "text": [
      " 67%|██████▋   | 13481/20000 [31:43<1:00:28,  1.80it/s]"
     ]
    },
    {
     "name": "stdout",
     "output_type": "stream",
     "text": [
      "Error downloading 227d31cd-79f1-43ad-a18f-d6fc2f475a77: 404 Client Error: Not Found for url: https://geo-samples.beatport.com/track/227d31cd-79f1-43ad-a18f-d6fc2f475a77.LOFI.mp3\n"
     ]
    },
    {
     "name": "stderr",
     "output_type": "stream",
     "text": [
      " 68%|██████▊   | 13584/20000 [32:46<1:00:12,  1.78it/s]"
     ]
    },
    {
     "name": "stdout",
     "output_type": "stream",
     "text": [
      "Error downloading 282eef97-4449-49e7-93dc-391a07ac2bfd: 404 Client Error: Not Found for url: https://geo-samples.beatport.com/track/282eef97-4449-49e7-93dc-391a07ac2bfd.LOFI.mp3\n"
     ]
    },
    {
     "name": "stderr",
     "output_type": "stream",
     "text": [
      " 70%|██████▉   | 13983/20000 [36:48<56:02,  1.79it/s]  "
     ]
    },
    {
     "name": "stdout",
     "output_type": "stream",
     "text": [
      "Error downloading 6ec51b0b-fb08-4ffa-b66e-4230bab8b9da: 404 Client Error: Not Found for url: https://geo-samples.beatport.com/track/6ec51b0b-fb08-4ffa-b66e-4230bab8b9da.LOFI.mp3\n"
     ]
    },
    {
     "name": "stderr",
     "output_type": "stream",
     "text": [
      " 71%|███████   | 14123/20000 [38:17<58:06,  1.69it/s]  "
     ]
    },
    {
     "name": "stdout",
     "output_type": "stream",
     "text": [
      "Error downloading 9a73e2c9-d7ba-40dc-a259-9632c0944c56: 404 Client Error: Not Found for url: https://geo-samples.beatport.com/track/9a73e2c9-d7ba-40dc-a259-9632c0944c56.LOFI.mp3\n"
     ]
    },
    {
     "name": "stderr",
     "output_type": "stream",
     "text": [
      " 71%|███████   | 14163/20000 [38:38<57:06,  1.70it/s]"
     ]
    },
    {
     "name": "stdout",
     "output_type": "stream",
     "text": [
      "Error downloading c41550ca-66c5-4c69-a7f8-2dd36c655aca: 404 Client Error: Not Found for url: https://geo-samples.beatport.com/track/c41550ca-66c5-4c69-a7f8-2dd36c655aca.LOFI.mp3\n"
     ]
    },
    {
     "name": "stderr",
     "output_type": "stream",
     "text": [
      " 72%|███████▏  | 14395/20000 [40:50<47:25,  1.97it/s]  "
     ]
    },
    {
     "name": "stdout",
     "output_type": "stream",
     "text": [
      "Error downloading 7f93528d-0c87-4904-bea4-7705a32e65bb: 404 Client Error: Not Found for url: https://geo-samples.beatport.com/track/7f93528d-0c87-4904-bea4-7705a32e65bb.LOFI.mp3\n"
     ]
    },
    {
     "name": "stderr",
     "output_type": "stream",
     "text": [
      " 73%|███████▎  | 14545/20000 [42:10<1:10:30,  1.29it/s]"
     ]
    },
    {
     "name": "stdout",
     "output_type": "stream",
     "text": [
      "Error downloading c953afef-07c5-4350-a105-1e077f4fc42d: 404 Client Error: Not Found for url: https://geo-samples.beatport.com/track/c953afef-07c5-4350-a105-1e077f4fc42d.LOFI.mp3\n"
     ]
    },
    {
     "name": "stderr",
     "output_type": "stream",
     "text": [
      " 73%|███████▎  | 14567/20000 [42:21<52:26,  1.73it/s]  "
     ]
    },
    {
     "name": "stdout",
     "output_type": "stream",
     "text": [
      "Error downloading 3463443b-db81-430e-97d1-034943b12ebd: 404 Client Error: Not Found for url: https://geo-samples.beatport.com/track/3463443b-db81-430e-97d1-034943b12ebd.LOFI.mp3\n"
     ]
    },
    {
     "name": "stderr",
     "output_type": "stream",
     "text": [
      " 74%|███████▍  | 14752/20000 [43:58<52:05,  1.68it/s]"
     ]
    },
    {
     "name": "stdout",
     "output_type": "stream",
     "text": [
      "Error downloading 0466c744-8e20-475b-a3c9-76cddf36c2ea: 404 Client Error: Not Found for url: https://geo-samples.beatport.com/track/0466c744-8e20-475b-a3c9-76cddf36c2ea.LOFI.mp3\n"
     ]
    },
    {
     "name": "stderr",
     "output_type": "stream",
     "text": [
      " 75%|███████▍  | 14911/20000 [45:26<46:41,  1.82it/s]  "
     ]
    },
    {
     "name": "stdout",
     "output_type": "stream",
     "text": [
      "Error downloading 408e1516-7d92-4dad-b95c-1416a612cc46: 404 Client Error: Not Found for url: https://geo-samples.beatport.com/track/408e1516-7d92-4dad-b95c-1416a612cc46.LOFI.mp3\n"
     ]
    },
    {
     "name": "stderr",
     "output_type": "stream",
     "text": [
      " 75%|███████▌  | 15078/20000 [46:55<43:33,  1.88it/s]  "
     ]
    },
    {
     "name": "stdout",
     "output_type": "stream",
     "text": [
      "Error downloading c5afb5d0-c8c7-4fad-911a-dd7a2501a478: 404 Client Error: Not Found for url: https://geo-samples.beatport.com/track/c5afb5d0-c8c7-4fad-911a-dd7a2501a478.LOFI.mp3\n"
     ]
    },
    {
     "name": "stderr",
     "output_type": "stream",
     "text": [
      " 76%|███████▌  | 15171/20000 [47:41<43:43,  1.84it/s]"
     ]
    },
    {
     "name": "stdout",
     "output_type": "stream",
     "text": [
      "Error downloading 6288671d-1960-4913-92ce-9884e74145eb: 404 Client Error: Not Found for url: https://geo-samples.beatport.com/track/6288671d-1960-4913-92ce-9884e74145eb.LOFI.mp3\n"
     ]
    },
    {
     "name": "stderr",
     "output_type": "stream",
     "text": [
      " 76%|███████▌  | 15248/20000 [48:21<39:47,  1.99it/s]  "
     ]
    },
    {
     "name": "stdout",
     "output_type": "stream",
     "text": [
      "Error downloading f5d12b2e-5619-4240-9bb3-6540e0a38188: 404 Client Error: Not Found for url: https://geo-samples.beatport.com/track/f5d12b2e-5619-4240-9bb3-6540e0a38188.LOFI.mp3\n"
     ]
    },
    {
     "name": "stderr",
     "output_type": "stream",
     "text": [
      " 76%|███████▋  | 15253/20000 [48:23<37:02,  2.14it/s]"
     ]
    },
    {
     "name": "stdout",
     "output_type": "stream",
     "text": [
      "Error downloading df7a4fcf-a269-472b-a685-7f110fe6e54b: 404 Client Error: Not Found for url: https://geo-samples.beatport.com/track/df7a4fcf-a269-472b-a685-7f110fe6e54b.LOFI.mp3\n"
     ]
    },
    {
     "name": "stderr",
     "output_type": "stream",
     "text": [
      " 77%|███████▋  | 15389/20000 [49:34<43:51,  1.75it/s]"
     ]
    },
    {
     "name": "stdout",
     "output_type": "stream",
     "text": [
      "Error downloading ce13ef8b-092b-494d-8dce-de4cc35ff0a8: 404 Client Error: Not Found for url: https://geo-samples.beatport.com/track/ce13ef8b-092b-494d-8dce-de4cc35ff0a8.LOFI.mp3\n"
     ]
    },
    {
     "name": "stderr",
     "output_type": "stream",
     "text": [
      " 77%|███████▋  | 15410/20000 [49:44<37:55,  2.02it/s]"
     ]
    },
    {
     "name": "stdout",
     "output_type": "stream",
     "text": [
      "Error downloading 540ab33b-663e-43f4-abfd-b28f87477751: 404 Client Error: Not Found for url: https://geo-samples.beatport.com/track/540ab33b-663e-43f4-abfd-b28f87477751.LOFI.mp3\n"
     ]
    },
    {
     "name": "stderr",
     "output_type": "stream",
     "text": [
      " 78%|███████▊  | 15640/20000 [51:50<35:23,  2.05it/s]  "
     ]
    },
    {
     "name": "stdout",
     "output_type": "stream",
     "text": [
      "Error downloading c6122fa9-0ab1-412a-ab02-3aed99c5bcd2: 404 Client Error: Not Found for url: https://geo-samples.beatport.com/track/c6122fa9-0ab1-412a-ab02-3aed99c5bcd2.LOFI.mp3\n"
     ]
    },
    {
     "name": "stderr",
     "output_type": "stream",
     "text": [
      " 80%|███████▉  | 15918/20000 [54:19<33:54,  2.01it/s]  "
     ]
    },
    {
     "name": "stdout",
     "output_type": "stream",
     "text": [
      "Error downloading 59d9e352-4d74-450f-860a-e65080bc4da9: 404 Client Error: Not Found for url: https://geo-samples.beatport.com/track/59d9e352-4d74-450f-860a-e65080bc4da9.LOFI.mp3\n"
     ]
    },
    {
     "name": "stderr",
     "output_type": "stream",
     "text": [
      " 80%|███████▉  | 15946/20000 [54:34<34:00,  1.99it/s]"
     ]
    },
    {
     "name": "stdout",
     "output_type": "stream",
     "text": [
      "Error downloading 873fa54e-c80a-47cb-9b55-3f608fb19664: 404 Client Error: Not Found for url: https://geo-samples.beatport.com/track/873fa54e-c80a-47cb-9b55-3f608fb19664.LOFI.mp3\n"
     ]
    },
    {
     "name": "stderr",
     "output_type": "stream",
     "text": [
      " 80%|███████▉  | 15956/20000 [54:39<33:26,  2.02it/s]"
     ]
    },
    {
     "name": "stdout",
     "output_type": "stream",
     "text": [
      "Error downloading ac08ae70-ef51-4835-aebb-d364b7e1e4de: 404 Client Error: Not Found for url: https://geo-samples.beatport.com/track/ac08ae70-ef51-4835-aebb-d364b7e1e4de.LOFI.mp3\n"
     ]
    },
    {
     "name": "stderr",
     "output_type": "stream",
     "text": [
      " 80%|████████  | 16099/20000 [55:58<36:22,  1.79it/s]"
     ]
    },
    {
     "name": "stdout",
     "output_type": "stream",
     "text": [
      "Error downloading d136b96c-71e3-472e-be71-8e674523acae: 404 Client Error: Not Found for url: https://geo-samples.beatport.com/track/d136b96c-71e3-472e-be71-8e674523acae.LOFI.mp3\n"
     ]
    },
    {
     "name": "stderr",
     "output_type": "stream",
     "text": [
      " 81%|████████  | 16120/20000 [56:08<29:22,  2.20it/s]"
     ]
    },
    {
     "name": "stdout",
     "output_type": "stream",
     "text": [
      "Error downloading c5f5df8f-a3ba-4bd6-be01-3bfd2ed00f74: 404 Client Error: Not Found for url: https://geo-samples.beatport.com/track/c5f5df8f-a3ba-4bd6-be01-3bfd2ed00f74.LOFI.mp3\n"
     ]
    },
    {
     "name": "stderr",
     "output_type": "stream",
     "text": [
      " 81%|████████  | 16177/20000 [56:38<32:29,  1.96it/s]"
     ]
    },
    {
     "name": "stdout",
     "output_type": "stream",
     "text": [
      "Error downloading 6c8656f1-074c-4399-8670-2ad809ff4875: 404 Client Error: Not Found for url: https://geo-samples.beatport.com/track/6c8656f1-074c-4399-8670-2ad809ff4875.LOFI.mp3\n"
     ]
    },
    {
     "name": "stderr",
     "output_type": "stream",
     "text": [
      " 82%|████████▏ | 16400/20000 [58:32<29:21,  2.04it/s]"
     ]
    },
    {
     "name": "stdout",
     "output_type": "stream",
     "text": [
      "Error downloading 2fe503f7-98fc-4766-b6b9-e9532d7f82ff: 404 Client Error: Not Found for url: https://geo-samples.beatport.com/track/2fe503f7-98fc-4766-b6b9-e9532d7f82ff.LOFI.mp3\n"
     ]
    },
    {
     "name": "stderr",
     "output_type": "stream",
     "text": [
      " 83%|████████▎ | 16517/20000 [59:31<26:25,  2.20it/s]"
     ]
    },
    {
     "name": "stdout",
     "output_type": "stream",
     "text": [
      "Error downloading 4fe8c801-0c1a-4f8b-ad22-a85dd0cc7afc: 404 Client Error: Not Found for url: https://geo-samples.beatport.com/track/4fe8c801-0c1a-4f8b-ad22-a85dd0cc7afc.LOFI.mp3\n"
     ]
    },
    {
     "name": "stderr",
     "output_type": "stream",
     "text": [
      " 83%|████████▎ | 16523/20000 [59:34<25:20,  2.29it/s]"
     ]
    },
    {
     "name": "stdout",
     "output_type": "stream",
     "text": [
      "Error downloading 12714cd9-d11e-44a9-87ee-2bc0b0648c44: 404 Client Error: Not Found for url: https://geo-samples.beatport.com/track/12714cd9-d11e-44a9-87ee-2bc0b0648c44.LOFI.mp3\n"
     ]
    },
    {
     "name": "stderr",
     "output_type": "stream",
     "text": [
      " 83%|████████▎ | 16571/20000 [59:59<32:14,  1.77it/s]"
     ]
    },
    {
     "name": "stdout",
     "output_type": "stream",
     "text": [
      "Error downloading 1ba12da1-354f-4233-9138-78acdbb88b10: 404 Client Error: Not Found for url: https://geo-samples.beatport.com/track/1ba12da1-354f-4233-9138-78acdbb88b10.LOFI.mp3\n"
     ]
    },
    {
     "name": "stderr",
     "output_type": "stream",
     "text": [
      " 84%|████████▍ | 16876/20000 [1:02:36<27:47,  1.87it/s]"
     ]
    },
    {
     "name": "stdout",
     "output_type": "stream",
     "text": [
      "Error downloading 2ec3221b-321a-4076-bbd7-208186875584: 404 Client Error: Not Found for url: https://geo-samples.beatport.com/track/2ec3221b-321a-4076-bbd7-208186875584.LOFI.mp3\n"
     ]
    },
    {
     "name": "stderr",
     "output_type": "stream",
     "text": [
      " 86%|████████▌ | 17176/20000 [1:05:09<21:18,  2.21it/s]"
     ]
    },
    {
     "name": "stdout",
     "output_type": "stream",
     "text": [
      "Error downloading b84e4467-36c8-4638-a5ec-66cfd1b5f0e6: 404 Client Error: Not Found for url: https://geo-samples.beatport.com/track/b84e4467-36c8-4638-a5ec-66cfd1b5f0e6.LOFI.mp3\n"
     ]
    },
    {
     "name": "stderr",
     "output_type": "stream",
     "text": [
      " 87%|████████▋ | 17359/20000 [1:06:41<21:10,  2.08it/s]"
     ]
    },
    {
     "name": "stdout",
     "output_type": "stream",
     "text": [
      "Error downloading bbd2e81a-8140-4f80-9080-0f668ae998c6: 404 Client Error: Not Found for url: https://geo-samples.beatport.com/track/bbd2e81a-8140-4f80-9080-0f668ae998c6.LOFI.mp3\n"
     ]
    },
    {
     "name": "stderr",
     "output_type": "stream",
     "text": [
      " 87%|████████▋ | 17417/20000 [1:07:10<22:22,  1.92it/s]"
     ]
    },
    {
     "name": "stdout",
     "output_type": "stream",
     "text": [
      "Error downloading 07781b4c-9b2c-47f7-a98c-2fa24779e3a5: 404 Client Error: Not Found for url: https://geo-samples.beatport.com/track/07781b4c-9b2c-47f7-a98c-2fa24779e3a5.LOFI.mp3\n"
     ]
    },
    {
     "name": "stderr",
     "output_type": "stream",
     "text": [
      " 87%|████████▋ | 17453/20000 [1:07:30<20:54,  2.03it/s]"
     ]
    },
    {
     "name": "stdout",
     "output_type": "stream",
     "text": [
      "Error downloading 31a89175-9a36-4087-afa4-4094c0732721: 404 Client Error: Not Found for url: https://geo-samples.beatport.com/track/31a89175-9a36-4087-afa4-4094c0732721.LOFI.mp3\n"
     ]
    },
    {
     "name": "stderr",
     "output_type": "stream",
     "text": [
      " 90%|████████▉ | 17940/20000 [1:11:45<17:31,  1.96it/s]"
     ]
    },
    {
     "name": "stdout",
     "output_type": "stream",
     "text": [
      "Error downloading 3e8f845c-8f7e-472f-9d00-5241d512e339: 404 Client Error: Not Found for url: https://geo-samples.beatport.com/track/3e8f845c-8f7e-472f-9d00-5241d512e339.LOFI.mp3\n"
     ]
    },
    {
     "name": "stderr",
     "output_type": "stream",
     "text": [
      " 90%|████████▉ | 17991/20000 [1:12:12<17:40,  1.89it/s]"
     ]
    },
    {
     "name": "stdout",
     "output_type": "stream",
     "text": [
      "Error downloading bf395211-61a2-4b08-8973-2aad0c0335b7: 404 Client Error: Not Found for url: https://geo-samples.beatport.com/track/bf395211-61a2-4b08-8973-2aad0c0335b7.LOFI.mp3\n"
     ]
    },
    {
     "name": "stderr",
     "output_type": "stream",
     "text": [
      " 90%|█████████ | 18071/20000 [1:12:55<18:18,  1.76it/s]"
     ]
    },
    {
     "name": "stdout",
     "output_type": "stream",
     "text": [
      "Error downloading 51464613-717e-437e-ab48-53cb5bf4b1b0: 404 Client Error: Not Found for url: https://geo-samples.beatport.com/track/51464613-717e-437e-ab48-53cb5bf4b1b0.LOFI.mp3\n"
     ]
    },
    {
     "name": "stderr",
     "output_type": "stream",
     "text": [
      " 92%|█████████▏| 18308/20000 [1:15:02<13:29,  2.09it/s]"
     ]
    },
    {
     "name": "stdout",
     "output_type": "stream",
     "text": [
      "Error downloading 50952121-1be5-4484-9101-3d417f2c1030: 404 Client Error: Not Found for url: https://geo-samples.beatport.com/track/50952121-1be5-4484-9101-3d417f2c1030.LOFI.mp3\n"
     ]
    },
    {
     "name": "stderr",
     "output_type": "stream",
     "text": [
      " 92%|█████████▏| 18387/20000 [1:15:45<13:35,  1.98it/s]"
     ]
    },
    {
     "name": "stdout",
     "output_type": "stream",
     "text": [
      "Error downloading f4e1f5ef-3e13-4557-8e7f-fe58d6ae5fd1: 404 Client Error: Not Found for url: https://geo-samples.beatport.com/track/f4e1f5ef-3e13-4557-8e7f-fe58d6ae5fd1.LOFI.mp3\n"
     ]
    },
    {
     "name": "stderr",
     "output_type": "stream",
     "text": [
      " 93%|█████████▎| 18597/20000 [1:17:35<11:41,  2.00it/s]"
     ]
    },
    {
     "name": "stdout",
     "output_type": "stream",
     "text": [
      "Error downloading 407d2851-5a71-4da1-9feb-7af4e978f631: 404 Client Error: Not Found for url: https://geo-samples.beatport.com/track/407d2851-5a71-4da1-9feb-7af4e978f631.LOFI.mp3\n"
     ]
    },
    {
     "name": "stderr",
     "output_type": "stream",
     "text": [
      " 94%|█████████▍| 18835/20000 [1:19:37<09:39,  2.01it/s]"
     ]
    },
    {
     "name": "stdout",
     "output_type": "stream",
     "text": [
      "Error downloading 406f5f2d-f16c-4dc1-ae4d-e30d7bf0b068: 404 Client Error: Not Found for url: https://geo-samples.beatport.com/track/406f5f2d-f16c-4dc1-ae4d-e30d7bf0b068.LOFI.mp3\n"
     ]
    },
    {
     "name": "stderr",
     "output_type": "stream",
     "text": [
      " 96%|█████████▌| 19156/20000 [1:22:36<06:32,  2.15it/s]"
     ]
    },
    {
     "name": "stdout",
     "output_type": "stream",
     "text": [
      "Error downloading 24587f8b-9b56-4061-bfb2-2825f17eadd7: 404 Client Error: Not Found for url: https://geo-samples.beatport.com/track/24587f8b-9b56-4061-bfb2-2825f17eadd7.LOFI.mp3\n"
     ]
    },
    {
     "name": "stderr",
     "output_type": "stream",
     "text": [
      " 96%|█████████▋| 19300/20000 [1:23:46<05:39,  2.06it/s]"
     ]
    },
    {
     "name": "stdout",
     "output_type": "stream",
     "text": [
      "Error downloading c3d43a34-0184-48db-904b-c3817289eb0d: 404 Client Error: Not Found for url: https://geo-samples.beatport.com/track/c3d43a34-0184-48db-904b-c3817289eb0d.LOFI.mp3\n"
     ]
    },
    {
     "name": "stderr",
     "output_type": "stream",
     "text": [
      " 97%|█████████▋| 19353/20000 [1:24:12<05:41,  1.89it/s]"
     ]
    },
    {
     "name": "stdout",
     "output_type": "stream",
     "text": [
      "Error downloading 6f6d1dde-9a22-4741-aa21-22b91d2ebbf1: 404 Client Error: Not Found for url: https://geo-samples.beatport.com/track/6f6d1dde-9a22-4741-aa21-22b91d2ebbf1.LOFI.mp3\n"
     ]
    },
    {
     "name": "stderr",
     "output_type": "stream",
     "text": [
      " 98%|█████████▊| 19528/20000 [1:25:35<02:54,  2.71it/s]"
     ]
    },
    {
     "name": "stdout",
     "output_type": "stream",
     "text": [
      "Error downloading 561ba28e-94c8-4b67-9b19-34994ccc8d70: 404 Client Error: Not Found for url: https://geo-samples.beatport.com/track/561ba28e-94c8-4b67-9b19-34994ccc8d70.LOFI.mp3\n"
     ]
    },
    {
     "name": "stderr",
     "output_type": "stream",
     "text": [
      " 98%|█████████▊| 19671/20000 [1:26:43<02:35,  2.11it/s]"
     ]
    },
    {
     "name": "stdout",
     "output_type": "stream",
     "text": [
      "Error downloading b1fff5d6-da3f-4655-910e-ec7a9605531e: 404 Client Error: Not Found for url: https://geo-samples.beatport.com/track/b1fff5d6-da3f-4655-910e-ec7a9605531e.LOFI.mp3\n"
     ]
    },
    {
     "name": "stderr",
     "output_type": "stream",
     "text": [
      " 98%|█████████▊| 19694/20000 [1:26:54<02:36,  1.95it/s]"
     ]
    },
    {
     "name": "stdout",
     "output_type": "stream",
     "text": [
      "Error downloading 8f88c18e-b603-4178-90bf-05485b1d172d: 404 Client Error: Not Found for url: https://geo-samples.beatport.com/track/8f88c18e-b603-4178-90bf-05485b1d172d.LOFI.mp3\n"
     ]
    },
    {
     "name": "stderr",
     "output_type": "stream",
     "text": [
      " 99%|█████████▊| 19724/20000 [1:27:08<02:05,  2.19it/s]"
     ]
    },
    {
     "name": "stdout",
     "output_type": "stream",
     "text": [
      "Error downloading 0703a43b-d1bc-46fd-8a24-28e638ba094c: 404 Client Error: Not Found for url: https://geo-samples.beatport.com/track/0703a43b-d1bc-46fd-8a24-28e638ba094c.LOFI.mp3\n"
     ]
    },
    {
     "name": "stderr",
     "output_type": "stream",
     "text": [
      " 99%|█████████▊| 19745/20000 [1:27:18<02:01,  2.09it/s]"
     ]
    },
    {
     "name": "stdout",
     "output_type": "stream",
     "text": [
      "Error downloading c04d7751-c357-420b-bf2b-e5e3daf7926f: 404 Client Error: Not Found for url: https://geo-samples.beatport.com/track/c04d7751-c357-420b-bf2b-e5e3daf7926f.LOFI.mp3\n"
     ]
    },
    {
     "name": "stderr",
     "output_type": "stream",
     "text": [
      "100%|██████████| 20000/20000 [1:29:29<00:00,  3.72it/s]\n"
     ]
    }
   ],
   "source": [
    "data = bp_media.sample(n=20000, random_state=42)\n",
    "saved_file_paths, successful_track_ids, failed_samples = load_audio_from_url(data, 'sample_uuid', 'track_id')"
   ]
  },
  {
   "cell_type": "code",
   "execution_count": 8,
   "metadata": {},
   "outputs": [
    {
     "name": "stderr",
     "output_type": "stream",
     "text": [
      "c:\\Users\\Shank\\anaconda3\\envs\\dsenv3\\lib\\site-packages\\librosa\\core\\pitch.py:101: UserWarning: Trying to estimate tuning from empty frequency set.\n",
      "  return pitch_tuning(\n"
     ]
    }
   ],
   "source": [
    "# # Initialize lists to store the track IDs, chroma features, and MFCC features\n",
    "# sample_track_id_list = []\n",
    "# sample_chroma_list = []\n",
    "# sample_mfcc_list = []\n",
    "\n",
    "# # Loop through each audio file and corresponding track_id\n",
    "# for audio_file, track_id in zip(sample_saved_file_paths, sampled_data['track_id']):  # Assuming sampled_data has 'track_id'\n",
    "#     try:\n",
    "#         # Extract Chroma and MFCC features\n",
    "#         chroma = extract_chroma(audio_file)  # Extract chroma features\n",
    "#         mfcc = extract_mfcc(audio_file)      # Extract MFCC features\n",
    "        \n",
    "#         # Append the extracted features and track_id to their respective lists\n",
    "#         sample_track_id_list.append(track_id)  # Store the track_id\n",
    "#         sample_chroma_list.append(chroma)      # Store the chroma features\n",
    "#         sample_mfcc_list.append(mfcc)          # Store the MFCC features\n",
    "\n",
    "#     except Exception as e:\n",
    "#         print(f\"Error processing {audio_file}: {e}\")\n",
    "#         continue"
   ]
  },
  {
   "cell_type": "code",
   "execution_count": 9,
   "metadata": {},
   "outputs": [],
   "source": [
    "# # Initialize lists to store the track IDs, chroma features, and MFCC features\n",
    "# track_id_list = []\n",
    "# chroma_list = []\n",
    "# mfcc_list = []\n",
    "\n",
    "# # Loop through each audio file and corresponding track_id\n",
    "# for audio_file, track_id in zip(saved_file_paths, data['track_id']):  # Assuming sampled_data has 'track_id'\n",
    "#     try:\n",
    "#         # Extract Chroma and MFCC features\n",
    "#         chroma = extract_chroma(audio_file)  # Extract chroma features\n",
    "#         mfcc = extract_mfcc(audio_file)      # Extract MFCC features\n",
    "        \n",
    "#         # Append the extracted features and track_id to their respective lists\n",
    "#         track_id_list.append(track_id)  # Store the track_id\n",
    "#         chroma_list.append(chroma)      # Store the chroma features\n",
    "#         mfcc_list.append(mfcc)          # Store the MFCC features\n",
    "\n",
    "#     except Exception as e:\n",
    "#         print(f\"Error processing {audio_file}: {e}\")\n",
    "#         continue"
   ]
  },
  {
   "cell_type": "code",
   "execution_count": 59,
   "metadata": {},
   "outputs": [],
   "source": [
    "# np.save('data/audio_chroma_list.npy', chroma_list)\n",
    "# np.save('data/audio_track_id_list.npy', track_id_list)\n",
    "# np.save('data/audio_mfcc_list.npy', mfcc_list)"
   ]
  },
  {
   "cell_type": "code",
   "execution_count": 30,
   "metadata": {},
   "outputs": [],
   "source": [
    "# np.save('data/sample_audio_chroma_list.npy', sample_chroma_list)\n",
    "# np.save('data/sample_audio_track_id_list.npy', sample_track_id_list)\n",
    "# np.save('data/sample_audio_mfcc_list.npy', sample_mfcc_list)"
   ]
  },
  {
   "cell_type": "code",
   "execution_count": 60,
   "metadata": {},
   "outputs": [],
   "source": [
    "chroma_list = np.load('data/audio_chroma_list.npy')\n",
    "track_id_list = np.load('data/audio_track_id_list.npy')\n",
    "mfcc_list = np.load('data/audio_mfcc_list.npy')"
   ]
  },
  {
   "cell_type": "code",
   "execution_count": 32,
   "metadata": {},
   "outputs": [],
   "source": [
    "sample_chroma_list = np.load('data/sample_audio_chroma_list.npy')\n",
    "sample_track_id_list = np.load('data/sample_audio_track_id_list.npy')\n",
    "sample_mfcc_list = np.load('data/sample_audio_mfcc_list.npy')"
   ]
  },
  {
   "cell_type": "code",
   "execution_count": 61,
   "metadata": {},
   "outputs": [],
   "source": [
    "track_id_list = list(track_id_list)\n",
    "sample_track_id_list = list(sample_track_id_list)"
   ]
  },
  {
   "cell_type": "code",
   "execution_count": 62,
   "metadata": {},
   "outputs": [],
   "source": [
    "sample_combined_features_list = []\n",
    "for chroma, mfcc in zip(sample_chroma_list, sample_mfcc_list):\n",
    "    # Ensure both have the same time axis length (T)\n",
    "    min_t = min(chroma.shape[1], mfcc.shape[1])\n",
    "    chroma = chroma[:, :min_t]  # Trim Chroma to match MFCC\n",
    "    mfcc = mfcc[:, :min_t]  # Trim MFCC to match Chroma\n",
    "    \n",
    "    # Concatenate Chroma and MFCC features along the feature axis (rows)\n",
    "    sample_combined_features = np.concatenate((chroma, mfcc), axis=0)\n",
    "    \n",
    "    # Flatten the combined features for clustering\n",
    "    sample_combined_features_list.append(sample_combined_features.flatten())\n",
    "\n",
    "# Convert the combined feature list into a numpy array for clustering\n",
    "sample_combined_features_array = np.array(sample_combined_features_list)"
   ]
  },
  {
   "cell_type": "code",
   "execution_count": 63,
   "metadata": {},
   "outputs": [],
   "source": [
    "combined_features_list = []\n",
    "for chroma, mfcc in zip(chroma_list, mfcc_list):\n",
    "    # Ensure both have the same time axis length (T)\n",
    "    min_t = min(chroma.shape[1], mfcc.shape[1])\n",
    "    chroma = chroma[:, :min_t]  # Trim Chroma to match MFCC\n",
    "    mfcc = mfcc[:, :min_t]  # Trim MFCC to match Chroma\n",
    "    \n",
    "    # Concatenate Chroma and MFCC features along the feature axis (rows)\n",
    "    combined_features = np.concatenate((chroma, mfcc), axis=0)\n",
    "    \n",
    "    # Flatten the combined features for clustering\n",
    "    combined_features_list.append(combined_features.flatten())\n",
    "\n",
    "# Convert the combined feature list into a numpy array for clustering\n",
    "combined_features_array = np.array(combined_features_list)"
   ]
  },
  {
   "cell_type": "code",
   "execution_count": 64,
   "metadata": {},
   "outputs": [],
   "source": [
    "scaler = StandardScaler()\n",
    "features_scaled = scaler.fit_transform(combined_features_array)\n",
    "sample_features_scaled = scaler.fit_transform(sample_combined_features_array)"
   ]
  },
  {
   "cell_type": "code",
   "execution_count": 65,
   "metadata": {},
   "outputs": [
    {
     "name": "stdout",
     "output_type": "stream",
     "text": [
      "The optimal number of clusters is: 4\n"
     ]
    }
   ],
   "source": [
    "sil_scores = []\n",
    "\n",
    "# Range of cluster numbers to test\n",
    "cluster_range = range(4, 9)\n",
    "\n",
    "for n_clusters in cluster_range:\n",
    "    # Apply KMeans on the original feature list\n",
    "    kmeans = KMeans(n_clusters=n_clusters)\n",
    "    clusters = kmeans.fit_predict(sample_features_scaled)\n",
    "    \n",
    "    # Calculate the silhouette score\n",
    "    sil_score = silhouette_score(sample_features_scaled, clusters)\n",
    "    sil_scores.append(sil_score)\n",
    "\n",
    "# Find the number of clusters with the highest silhouette score\n",
    "peak_silo = cluster_range[sil_scores.index(max(sil_scores))]\n",
    "\n",
    "print(f\"The optimal number of clusters is: {peak_silo}\")"
   ]
  },
  {
   "cell_type": "code",
   "execution_count": 66,
   "metadata": {},
   "outputs": [
    {
     "name": "stdout",
     "output_type": "stream",
     "text": [
      "Init 1/1 with method k-means++\n",
      "Inertia for init 1/1: 9758750.0\n",
      "Minibatch step 1/39738: mean batch inertia: 64642.745\n",
      "Minibatch step 2/39738: mean batch inertia: 39673.7375, ewa inertia: 39673.7375\n",
      "Minibatch step 3/39738: mean batch inertia: 41092.2425, ewa inertia: 39680.87642803221\n",
      "Minibatch step 4/39738: mean batch inertia: 39014.0775, ewa inertia: 39677.52062064403\n",
      "Minibatch step 5/39738: mean batch inertia: 38133.0975, ewa inertia: 39669.74798289544\n",
      "Minibatch step 6/39738: mean batch inertia: 37575.7025, ewa inertia: 39659.209253741465\n",
      "Minibatch step 7/39738: mean batch inertia: 39574.9825, ewa inertia: 39658.78536469395\n",
      "Minibatch step 8/39738: mean batch inertia: 41225.875, ewa inertia: 39666.6720764972\n",
      "Minibatch step 9/39738: mean batch inertia: 38014.975, ewa inertia: 39658.359559755896\n",
      "Minibatch step 10/39738: mean batch inertia: 35897.7925, ewa inertia: 39639.43370641037\n",
      "Minibatch step 11/39738: mean batch inertia: 37033.5775, ewa inertia: 39626.319180962906\n",
      "Minibatch step 12/39738: mean batch inertia: 36949.2875, ewa inertia: 39612.84644980557\n",
      "Minibatch step 13/39738: mean batch inertia: 37781.1975, ewa inertia: 39603.62828699829\n",
      "Minibatch step 14/39738: mean batch inertia: 38956.1625, ewa inertia: 39600.36977775321\n",
      "Minibatch step 15/39738: mean batch inertia: 38802.31, ewa inertia: 39596.35337222853\n",
      "Minibatch step 16/39738: mean batch inertia: 36157.73, ewa inertia: 39579.047768946046\n",
      "Minibatch step 17/39738: mean batch inertia: 35378.1, ewa inertia: 39557.90560604244\n",
      "Minibatch step 18/39738: mean batch inertia: 36330.42, ewa inertia: 39541.66259846296\n",
      "Minibatch step 19/39738: mean batch inertia: 35275.2775, ewa inertia: 39520.19110828449\n",
      "Minibatch step 20/39738: mean batch inertia: 36489.24, ewa inertia: 39504.93720235452\n",
      "Minibatch step 21/39738: mean batch inertia: 37213.365, ewa inertia: 39493.40437798434\n",
      "Minibatch step 22/39738: mean batch inertia: 35154.7575, ewa inertia: 39471.569215035255\n",
      "Minibatch step 23/39738: mean batch inertia: 35827.75, ewa inertia: 39453.230920042624\n",
      "Minibatch step 24/39738: mean batch inertia: 37155.4425, ewa inertia: 39441.66681123516\n",
      "Minibatch step 25/39738: mean batch inertia: 36756.98, ewa inertia: 39428.155554007004\n",
      "Minibatch step 26/39738: mean batch inertia: 36576.8925, ewa inertia: 39413.80596641764\n",
      "Minibatch step 27/39738: mean batch inertia: 36198.1, ewa inertia: 39397.62224237931\n",
      "Minibatch step 28/39738: mean batch inertia: 38331.785, ewa inertia: 39392.258189825814\n",
      "Minibatch step 29/39738: mean batch inertia: 38523.5875, ewa inertia: 39387.88641987198\n",
      "Minibatch step 30/39738: mean batch inertia: 35829.69, ewa inertia: 39369.979039802165\n",
      "Minibatch step 31/39738: mean batch inertia: 38779.9725, ewa inertia: 39367.00970643628\n",
      "Minibatch step 32/39738: mean batch inertia: 36940.685, ewa inertia: 39354.7987114366\n",
      "Minibatch step 33/39738: mean batch inertia: 38181.6625, ewa inertia: 39348.89465400612\n",
      "Minibatch step 34/39738: mean batch inertia: 36779.345, ewa inertia: 39335.962849003576\n",
      "Minibatch step 35/39738: mean batch inertia: 37524.7675, ewa inertia: 39326.84762329143\n",
      "Minibatch step 36/39738: mean batch inertia: 36558.6125, ewa inertia: 39312.9158914178\n",
      "Minibatch step 37/39738: mean batch inertia: 35592.595, ewa inertia: 39294.19258547206\n",
      "Minibatch step 38/39738: mean batch inertia: 38771.315, ewa inertia: 39291.56109284261\n",
      "Minibatch step 39/39738: mean batch inertia: 36138.755, ewa inertia: 39275.69392579258\n",
      "Minibatch step 40/39738: mean batch inertia: 36810.0675, ewa inertia: 39263.28513653343\n",
      "Minibatch step 41/39738: mean batch inertia: 35296.4525, ewa inertia: 39243.321207814086\n",
      "Minibatch step 42/39738: mean batch inertia: 37491.51, ewa inertia: 39234.50484541945\n",
      "Minibatch step 43/39738: mean batch inertia: 35765.28, ewa inertia: 39217.04523371628\n",
      "Minibatch step 44/39738: mean batch inertia: 37025.23, ewa inertia: 39206.01445750231\n",
      "Minibatch step 45/39738: mean batch inertia: 39154.0275, ewa inertia: 39205.75282208458\n",
      "Minibatch step 46/39738: mean batch inertia: 43672.035, ewa inertia: 39228.230336819935\n",
      "Minibatch step 47/39738: mean batch inertia: 39593.955, ewa inertia: 39230.0709239522\n",
      "Minibatch step 48/39738: mean batch inertia: 36803.8325, ewa inertia: 39217.860363187465\n",
      "Minibatch step 49/39738: mean batch inertia: 35397.25, ewa inertia: 39198.632329150285\n",
      "Minibatch step 50/39738: mean batch inertia: 37086.475, ewa inertia: 39188.002448278865\n",
      "Minibatch step 51/39738: mean batch inertia: 37249.925, ewa inertia: 39178.248661422906\n",
      "Minibatch step 52/39738: mean batch inertia: 35525.89, ewa inertia: 39159.86738985057\n",
      "Minibatch step 53/39738: mean batch inertia: 36991.135, ewa inertia: 39148.95278295651\n",
      "Minibatch step 54/39738: mean batch inertia: 37438.5925, ewa inertia: 39140.34503115502\n",
      "Minibatch step 55/39738: mean batch inertia: 36863.7325, ewa inertia: 39128.88749451106\n",
      "Minibatch step 56/39738: mean batch inertia: 35086.3875, ewa inertia: 39108.54275372338\n",
      "Minibatch step 57/39738: mean batch inertia: 35951.1325, ewa inertia: 39092.65241525472\n",
      "Minibatch step 58/39738: mean batch inertia: 40007.705, ewa inertia: 39097.25761195701\n",
      "Minibatch step 59/39738: mean batch inertia: 37553.625, ewa inertia: 39089.48895261148\n",
      "Minibatch step 60/39738: mean batch inertia: 36243.1525, ewa inertia: 39075.16415919119\n",
      "Minibatch step 61/39738: mean batch inertia: 37207.57, ewa inertia: 39065.76509447458\n",
      "Minibatch step 62/39738: mean batch inertia: 37528.9175, ewa inertia: 39058.030582172236\n",
      "Minibatch step 63/39738: mean batch inertia: 35180.985, ewa inertia: 39038.518525895575\n",
      "Minibatch step 64/39738: mean batch inertia: 38566.535, ewa inertia: 39036.14316844266\n",
      "Minibatch step 65/39738: mean batch inertia: 36946.9675, ewa inertia: 39025.62894766539\n",
      "Minibatch step 66/39738: mean batch inertia: 34944.1875, ewa inertia: 39005.088225734515\n",
      "Minibatch step 67/39738: mean batch inertia: 37270.25, ewa inertia: 38996.35728348119\n",
      "Minibatch step 68/39738: mean batch inertia: 36118.03, ewa inertia: 38981.87148940227\n",
      "Minibatch step 69/39738: mean batch inertia: 35794.7675, ewa inertia: 38965.83171089496\n",
      "Minibatch step 70/39738: mean batch inertia: 37042.8275, ewa inertia: 38956.153783311194\n",
      "Minibatch step 71/39738: mean batch inertia: 36794.535, ewa inertia: 38945.274977154615\n",
      "Minibatch step 72/39738: mean batch inertia: 41243.6625, ewa inertia: 38956.84210107432\n",
      "Minibatch step 73/39738: mean batch inertia: 35149.7775, ewa inertia: 38937.682238965244\n",
      "Minibatch step 74/39738: mean batch inertia: 38589.865, ewa inertia: 38935.93177475304\n",
      "Minibatch step 75/39738: mean batch inertia: 38500.255, ewa inertia: 38933.73913874522\n",
      "Minibatch step 76/39738: mean batch inertia: 34805.53, ewa inertia: 38912.96304846467\n",
      "Minibatch step 77/39738: mean batch inertia: 35169.875, ewa inertia: 38894.125161960066\n",
      "Minibatch step 78/39738: mean batch inertia: 38406.3575, ewa inertia: 38891.670367486186\n",
      "Minibatch step 79/39738: mean batch inertia: 39107.26, ewa inertia: 38892.75536815309\n",
      "Minibatch step 80/39738: mean batch inertia: 35955.285, ewa inertia: 38877.971923924844\n",
      "Minibatch step 81/39738: mean batch inertia: 36939.825, ewa inertia: 38868.217787417925\n",
      "Minibatch step 82/39738: mean batch inertia: 36930.49, ewa inertia: 38858.4657603046\n",
      "Minibatch step 83/39738: mean batch inertia: 36976.205, ewa inertia: 38848.99288279929\n",
      "Minibatch step 84/39738: mean batch inertia: 36807.015, ewa inertia: 38838.71619491404\n",
      "Minibatch step 85/39738: mean batch inertia: 36734.78, ewa inertia: 38828.12768864875\n",
      "Minibatch step 86/39738: mean batch inertia: 36775.4275, ewa inertia: 38817.7970384794\n",
      "Minibatch step 87/39738: mean batch inertia: 36486.425, ewa inertia: 38806.0639129712\n",
      "Minibatch step 88/39738: mean batch inertia: 36601.9025, ewa inertia: 38794.97100198493\n",
      "Minibatch step 89/39738: mean batch inertia: 36309.89, ewa inertia: 38782.464303434426\n",
      "Minibatch step 90/39738: mean batch inertia: 36563.235, ewa inertia: 38771.295560085484\n",
      "Minibatch step 91/39738: mean batch inertia: 35065.3225, ewa inertia: 38752.64446265173\n",
      "Minibatch step 92/39738: mean batch inertia: 37756.73, ewa inertia: 38747.632311355046\n",
      "Minibatch step 93/39738: mean batch inertia: 39088.65, ewa inertia: 38749.34855538446\n",
      "Minibatch step 94/39738: mean batch inertia: 36199.635, ewa inertia: 38736.516579766016\n",
      "Minibatch step 95/39738: mean batch inertia: 36837.375, ewa inertia: 38726.95874594736\n",
      "Minibatch step 96/39738: mean batch inertia: 35777.275, ewa inertia: 38712.113835298405\n",
      "Minibatch step 97/39738: mean batch inertia: 36116.7325, ewa inertia: 38699.05202686712\n",
      "Minibatch step 98/39738: mean batch inertia: 35526.395, ewa inertia: 38683.08495577065\n",
      "Minibatch step 99/39738: mean batch inertia: 36787.355, ewa inertia: 38673.54429167518\n",
      "Minibatch step 100/39738: mean batch inertia: 37793.545, ewa inertia: 38669.115508123716\n",
      "Minibatch step 101/39738: mean batch inertia: 38944.265, ewa inertia: 38670.5002564472\n",
      "Minibatch step 102/39738: mean batch inertia: 36087.4525, ewa inertia: 38657.500519373985\n",
      "Minibatch step 103/39738: mean batch inertia: 36982.63, ewa inertia: 38649.07137735398\n",
      "Minibatch step 104/39738: mean batch inertia: 36391.5925, ewa inertia: 38637.710134891204\n",
      "Minibatch step 105/39738: mean batch inertia: 37019.21, ewa inertia: 38629.56468881727\n",
      "Minibatch step 106/39738: mean batch inertia: 37061.39, ewa inertia: 38621.67251625151\n",
      "Minibatch step 107/39738: mean batch inertia: 35645.26, ewa inertia: 38606.693087382606\n",
      "Minibatch step 108/39738: mean batch inertia: 37906.525, ewa inertia: 38603.16934260464\n",
      "Minibatch step 109/39738: mean batch inertia: 35700.4175, ewa inertia: 38588.560626738494\n",
      "Minibatch step 110/39738: mean batch inertia: 38416.35, ewa inertia: 38587.69394014192\n",
      "Minibatch step 111/39738: mean batch inertia: 37396.3975, ewa inertia: 38581.69848749903\n",
      "Minibatch step 112/39738: mean batch inertia: 35716.74, ewa inertia: 38567.279974728524\n",
      "Minibatch step 113/39738: mean batch inertia: 38488.355, ewa inertia: 38566.882768011215\n",
      "Minibatch step 114/39738: mean batch inertia: 39045.9325, ewa inertia: 38569.2936876488\n",
      "Minibatch step 115/39738: mean batch inertia: 39088.495, ewa inertia: 38571.90667865208\n",
      "Minibatch step 116/39738: mean batch inertia: 37910.545, ewa inertia: 38568.578235377536\n",
      "Minibatch step 117/39738: mean batch inertia: 35175.47, ewa inertia: 38551.50169669924\n",
      "Minibatch step 118/39738: mean batch inertia: 38987.1275, ewa inertia: 38553.694076182386\n",
      "Minibatch step 119/39738: mean batch inertia: 36129.41, ewa inertia: 38541.493351088364\n",
      "Minibatch step 120/39738: mean batch inertia: 36141.3825, ewa inertia: 38529.41428288964\n",
      "Minibatch step 121/39738: mean batch inertia: 38550.0425, ewa inertia: 38529.51809877846\n",
      "Minibatch step 122/39738: mean batch inertia: 34771.075, ewa inertia: 38510.60293471818\n",
      "Minibatch step 123/39738: mean batch inertia: 37682.12, ewa inertia: 38506.433418187145\n",
      "Minibatch step 124/39738: mean batch inertia: 37358.3525, ewa inertia: 38500.6554568475\n",
      "Minibatch step 125/39738: mean batch inertia: 36858.91, ewa inertia: 38492.39302374811\n",
      "Minibatch step 126/39738: mean batch inertia: 37393.54, ewa inertia: 38486.86281225466\n",
      "Minibatch step 127/39738: mean batch inertia: 38681.115, ewa inertia: 38487.840427693736\n",
      "Minibatch step 128/39738: mean batch inertia: 36443.2475, ewa inertia: 38477.550579039016\n",
      "Minibatch step 129/39738: mean batch inertia: 34390.305, ewa inertia: 38456.98064658285\n",
      "Minibatch step 130/39738: mean batch inertia: 37864.145, ewa inertia: 38453.99707513553\n",
      "Minibatch step 131/39738: mean batch inertia: 36881.5525, ewa inertia: 38446.08341345895\n",
      "Minibatch step 132/39738: mean batch inertia: 39227.8875, ewa inertia: 38450.01800876112\n",
      "Minibatch step 133/39738: mean batch inertia: 38252.7925, ewa inertia: 38449.02542945181\n",
      "Minibatch step 134/39738: mean batch inertia: 34456.55, ewa inertia: 38428.93244792463\n",
      "Minibatch step 135/39738: mean batch inertia: 37446.575, ewa inertia: 38423.98852518721\n",
      "Minibatch step 136/39738: mean batch inertia: 36150.885, ewa inertia: 38412.54864836192\n",
      "Minibatch step 137/39738: mean batch inertia: 36672.105, ewa inertia: 38403.78949562733\n",
      "Minibatch step 138/39738: mean batch inertia: 39825.725, ewa inertia: 38410.94568840223\n",
      "Minibatch step 139/39738: mean batch inertia: 38264.5225, ewa inertia: 38410.20878257232\n",
      "Minibatch step 140/39738: mean batch inertia: 36281.3825, ewa inertia: 38399.495011648454\n",
      "Minibatch step 141/39738: mean batch inertia: 37924.42, ewa inertia: 38397.10409563613\n",
      "Minibatch step 142/39738: mean batch inertia: 36393.1675, ewa inertia: 38387.01885861733\n",
      "Minibatch step 143/39738: mean batch inertia: 38346.84, ewa inertia: 38386.81664996803\n",
      "Minibatch step 144/39738: mean batch inertia: 38174.275, ewa inertia: 38385.74698892139\n",
      "Minibatch step 145/39738: mean batch inertia: 36806.275, ewa inertia: 38377.797960290685\n",
      "Minibatch step 146/39738: mean batch inertia: 38507.21, ewa inertia: 38378.44925389768\n",
      "Minibatch step 147/39738: mean batch inertia: 35453.14, ewa inertia: 38363.727013062766\n",
      "Minibatch step 148/39738: mean batch inertia: 38419.485, ewa inertia: 38364.007626987965\n",
      "Minibatch step 149/39738: mean batch inertia: 37538.555, ewa inertia: 38359.853361124915\n",
      "Minibatch step 150/39738: mean batch inertia: 38688.6675, ewa inertia: 38361.50818819524\n",
      "Minibatch step 151/39738: mean batch inertia: 37415.8775, ewa inertia: 38356.749100685454\n",
      "Minibatch step 152/39738: mean batch inertia: 36934.0725, ewa inertia: 38349.58917818578\n",
      "Minibatch step 153/39738: mean batch inertia: 37775.14, ewa inertia: 38346.698140550216\n",
      "Minibatch step 154/39738: mean batch inertia: 38970.6875, ewa inertia: 38349.83849968182\n",
      "Minibatch step 155/39738: mean batch inertia: 34231.39, ewa inertia: 38329.111531892784\n",
      "Minibatch step 156/39738: mean batch inertia: 37056.37, ewa inertia: 38322.706189507815\n",
      "Minibatch step 157/39738: mean batch inertia: 36585.505, ewa inertia: 38313.96335513687\n",
      "Minibatch step 158/39738: mean batch inertia: 35762.17, ewa inertia: 38301.120912483944\n",
      "Minibatch step 159/39738: mean batch inertia: 37414.1475, ewa inertia: 38296.657030186594\n",
      "Minibatch step 160/39738: mean batch inertia: 34378.575, ewa inertia: 38276.93844925964\n",
      "Minibatch step 161/39738: mean batch inertia: 36496.895, ewa inertia: 38267.980002106844\n",
      "Minibatch step 162/39738: mean batch inertia: 36546.8975, ewa inertia: 38259.318288457594\n",
      "Minibatch step 163/39738: mean batch inertia: 34086.8125, ewa inertia: 38238.31926586848\n",
      "Minibatch step 164/39738: mean batch inertia: 38726.705, ewa inertia: 38240.77717092199\n",
      "Minibatch step 165/39738: mean batch inertia: 35707.735, ewa inertia: 38228.02909759073\n",
      "Minibatch step 166/39738: mean batch inertia: 38397.2325, ewa inertia: 38228.880649691426\n",
      "Minibatch step 167/39738: mean batch inertia: 36557.96, ewa inertia: 38220.47138623047\n",
      "Minibatch step 168/39738: mean batch inertia: 36484.1575, ewa inertia: 38211.73301740193\n",
      "Minibatch step 169/39738: mean batch inertia: 39589.2275, ewa inertia: 38218.665551285165\n",
      "Minibatch step 170/39738: mean batch inertia: 36902.32, ewa inertia: 38212.04076240099\n",
      "Minibatch step 171/39738: mean batch inertia: 35883.7725, ewa inertia: 38200.32325730586\n",
      "Minibatch step 172/39738: mean batch inertia: 37160.8, ewa inertia: 38195.091635477445\n",
      "Minibatch step 173/39738: mean batch inertia: 36360.5975, ewa inertia: 38185.859153668294\n",
      "Minibatch step 174/39738: mean batch inertia: 35061.875, ewa inertia: 38170.13703915563\n",
      "Minibatch step 175/39738: mean batch inertia: 36979.795, ewa inertia: 38164.14638973864\n",
      "Minibatch step 176/39738: mean batch inertia: 36725.745, ewa inertia: 38156.907328894464\n",
      "Minibatch step 177/39738: mean batch inertia: 36277.56, ewa inertia: 38147.44911385221\n",
      "Minibatch step 178/39738: mean batch inertia: 36040.23, ewa inertia: 38136.84408559931\n",
      "Minibatch step 179/39738: mean batch inertia: 35137.64, ewa inertia: 38121.749953311446\n",
      "Minibatch step 180/39738: mean batch inertia: 36738.44, ewa inertia: 38114.788151835295\n",
      "Minibatch step 181/39738: mean batch inertia: 36296.0575, ewa inertia: 38105.6350031094\n",
      "Minibatch step 182/39738: mean batch inertia: 35449.5, ewa inertia: 38092.26743892666\n",
      "Minibatch step 183/39738: mean batch inertia: 36213.6475, ewa inertia: 38082.8128846291\n",
      "Minibatch step 184/39738: mean batch inertia: 39197.6275, ewa inertia: 38088.423426226334\n",
      "Minibatch step 185/39738: mean batch inertia: 37187.645, ewa inertia: 38083.890067261935\n",
      "Minibatch step 186/39738: mean batch inertia: 35998.3225, ewa inertia: 38073.39400502106\n",
      "Minibatch step 187/39738: mean batch inertia: 37466.4775, ewa inertia: 38070.339568659605\n",
      "Minibatch step 188/39738: mean batch inertia: 35576.055, ewa inertia: 38057.78655120284\n",
      "Minibatch step 189/39738: mean batch inertia: 36614.735, ewa inertia: 38050.52408743231\n",
      "Minibatch step 190/39738: mean batch inertia: 36604.565, ewa inertia: 38043.246990867476\n",
      "Minibatch step 191/39738: mean batch inertia: 37504.855, ewa inertia: 38040.53741869401\n",
      "Minibatch step 192/39738: mean batch inertia: 34696.9075, ewa inertia: 38023.709890165104\n",
      "Minibatch step 193/39738: mean batch inertia: 36846.605, ewa inertia: 38017.785859515054\n",
      "Minibatch step 194/39738: mean batch inertia: 35878.29, ewa inertia: 38007.01839167652\n",
      "Minibatch step 195/39738: mean batch inertia: 39810.61, ewa inertia: 38016.0953499469\n",
      "Minibatch step 196/39738: mean batch inertia: 35642.2775, ewa inertia: 38004.14860686715\n",
      "Minibatch step 197/39738: mean batch inertia: 36639.705, ewa inertia: 37997.28175429107\n",
      "Minibatch step 198/39738: mean batch inertia: 39899.32, ewa inertia: 38006.854166197\n",
      "Minibatch step 199/39738: mean batch inertia: 36095.735, ewa inertia: 37997.23605262781\n",
      "Minibatch step 200/39738: mean batch inertia: 38865.6375, ewa inertia: 38001.606467561745\n",
      "Minibatch step 201/39738: mean batch inertia: 38467.815, ewa inertia: 38003.95276113215\n",
      "Minibatch step 202/39738: mean batch inertia: 39570.5975, ewa inertia: 38011.83723389947\n",
      "Minibatch step 203/39738: mean batch inertia: 39242.11, ewa inertia: 38018.02884319036\n",
      "Minibatch step 204/39738: mean batch inertia: 36524.1625, ewa inertia: 38010.510643174304\n",
      "Minibatch step 205/39738: mean batch inertia: 35439.6525, ewa inertia: 37997.5722529218\n",
      "Minibatch step 206/39738: mean batch inertia: 37965.795, ewa inertia: 37997.4123271396\n",
      "Minibatch step 207/39738: mean batch inertia: 37454.53, ewa inertia: 37994.68015639406\n",
      "Minibatch step 208/39738: mean batch inertia: 36433.94, ewa inertia: 37986.82539969354\n",
      "Minibatch step 209/39738: mean batch inertia: 38273.2875, ewa inertia: 37988.26708112437\n",
      "Minibatch step 210/39738: mean batch inertia: 38051.995, ewa inertia: 37988.58780542672\n",
      "Minibatch step 211/39738: mean batch inertia: 36733.75, ewa inertia: 37982.272567352105\n",
      "Minibatch step 212/39738: mean batch inertia: 37212.79, ewa inertia: 37978.39998271521\n",
      "Minibatch step 213/39738: mean batch inertia: 35378.2175, ewa inertia: 37965.314011488656\n",
      "Minibatch step 214/39738: mean batch inertia: 36618.5475, ewa inertia: 37958.536122653786\n",
      "Minibatch step 215/39738: mean batch inertia: 34879.45, ewa inertia: 37943.039967028955\n",
      "Minibatch step 216/39738: mean batch inertia: 34470.65, ewa inertia: 37925.56442617828\n",
      "Minibatch step 217/39738: mean batch inertia: 35760.4425, ewa inertia: 37914.667989710346\n",
      "Minibatch step 218/39738: mean batch inertia: 36230.8175, ewa inertia: 37906.1936540802\n",
      "Minibatch step 219/39738: mean batch inertia: 37789.005, ewa inertia: 37905.603877260466\n",
      "Minibatch step 220/39738: mean batch inertia: 36251.7775, ewa inertia: 37897.28064436032\n",
      "Minibatch step 221/39738: mean batch inertia: 35357.76, ewa inertia: 37884.49996673394\n",
      "Minibatch step 222/39738: mean batch inertia: 37669.61, ewa inertia: 37883.418487283845\n",
      "Minibatch step 223/39738: mean batch inertia: 35497.9325, ewa inertia: 37871.41302182192\n",
      "Minibatch step 224/39738: mean batch inertia: 36138.06, ewa inertia: 37862.68955417309\n",
      "Minibatch step 225/39738: mean batch inertia: 35320.02, ewa inertia: 37849.893028988525\n",
      "Minibatch step 226/39738: mean batch inertia: 39192.9075, ewa inertia: 37856.652034881896\n",
      "Minibatch step 227/39738: mean batch inertia: 38086.6575, ewa inertia: 37857.80958629165\n",
      "Minibatch step 228/39738: mean batch inertia: 34544.54, ewa inertia: 37841.134852591145\n",
      "Minibatch step 229/39738: mean batch inertia: 35141.595, ewa inertia: 37827.548844274126\n",
      "Minibatch step 230/39738: mean batch inertia: 37413.82, ewa inertia: 37825.466665893284\n",
      "Minibatch step 231/39738: mean batch inertia: 37585.48, ewa inertia: 37824.25888196831\n",
      "Minibatch step 232/39738: mean batch inertia: 37339.9975, ewa inertia: 37821.82173359403\n",
      "Minibatch step 233/39738: mean batch inertia: 35107.06, ewa inertia: 37808.1591179242\n",
      "Minibatch step 234/39738: mean batch inertia: 35704.4075, ewa inertia: 37797.571540581856\n",
      "Minibatch step 235/39738: mean batch inertia: 35095.035, ewa inertia: 37783.970450795336\n",
      "Minibatch step 236/39738: mean batch inertia: 36330.52, ewa inertia: 37776.655652351474\n",
      "Minibatch step 237/39738: mean batch inertia: 37538.715, ewa inertia: 37775.458165424694\n",
      "Minibatch step 238/39738: mean batch inertia: 37129.195, ewa inertia: 37772.20570862839\n",
      "Minibatch step 239/39738: mean batch inertia: 36868.4625, ewa inertia: 37767.65742876614\n",
      "Minibatch step 240/39738: mean batch inertia: 37906.4025, ewa inertia: 37768.355692838784\n",
      "Minibatch step 241/39738: mean batch inertia: 39314.0375, ewa inertia: 37776.134665194906\n",
      "Minibatch step 242/39738: mean batch inertia: 39300.0425, ewa inertia: 37783.8040554053\n",
      "Minibatch step 243/39738: mean batch inertia: 37166.845, ewa inertia: 37780.699077773665\n",
      "Minibatch step 244/39738: mean batch inertia: 36393.19, ewa inertia: 37773.71614331079\n",
      "Minibatch step 245/39738: mean batch inertia: 37173.2275, ewa inertia: 37770.69405653016\n",
      "Minibatch step 246/39738: mean batch inertia: 37480.125, ewa inertia: 37769.231705968865\n",
      "Minibatch step 247/39738: mean batch inertia: 35609.86, ewa inertia: 37758.364208706815\n",
      "Minibatch step 248/39738: mean batch inertia: 37607.15, ewa inertia: 37757.603191048496\n",
      "Minibatch step 249/39738: mean batch inertia: 36230.2025, ewa inertia: 37749.916222296364\n",
      "Minibatch step 250/39738: mean batch inertia: 35426.45, ewa inertia: 37738.222884489136\n",
      "Minibatch step 251/39738: mean batch inertia: 34648.6175, ewa inertia: 37722.673788442386\n",
      "Minibatch step 252/39738: mean batch inertia: 39098.8575, ewa inertia: 37729.599725591645\n",
      "Minibatch step 253/39738: mean batch inertia: 35209.65, ewa inertia: 37716.91754277538\n",
      "Minibatch step 254/39738: mean batch inertia: 36236.5375, ewa inertia: 37709.46721543378\n",
      "Minibatch step 255/39738: mean batch inertia: 36490.2275, ewa inertia: 37703.33113231635\n",
      "Minibatch step 256/39738: mean batch inertia: 37287.905, ewa inertia: 37701.24041197254\n",
      "Minibatch step 257/39738: mean batch inertia: 36483.8, ewa inertia: 37695.11338423236\n",
      "Minibatch step 258/39738: mean batch inertia: 37781.64, ewa inertia: 37695.54884782455\n",
      "Minibatch step 259/39738: mean batch inertia: 35799.335, ewa inertia: 37686.00574843943\n",
      "Minibatch step 260/39738: mean batch inertia: 36988.005, ewa inertia: 37682.49291125554\n",
      "Minibatch step 261/39738: mean batch inertia: 40219.55, ewa inertia: 37695.261190514444\n",
      "Minibatch step 262/39738: mean batch inertia: 34067.3225, ewa inertia: 37677.00281763818\n",
      "Minibatch step 263/39738: mean batch inertia: 35313.71, ewa inertia: 37665.10904402148\n",
      "Minibatch step 264/39738: mean batch inertia: 37660.23, ewa inertia: 37665.084489195004\n",
      "Minibatch step 265/39738: mean batch inertia: 36501.735, ewa inertia: 37659.22968552518\n",
      "Minibatch step 266/39738: mean batch inertia: 36969.24, ewa inertia: 37655.75716571881\n",
      "Minibatch step 267/39738: mean batch inertia: 36511.7975, ewa inertia: 37649.99994545852\n",
      "Minibatch step 268/39738: mean batch inertia: 37613.1325, ewa inertia: 37649.81440220005\n",
      "Minibatch step 269/39738: mean batch inertia: 35634.7975, ewa inertia: 37639.67340118244\n",
      "Minibatch step 270/39738: mean batch inertia: 39049.4625, ewa inertia: 37646.76846458866\n",
      "Minibatch step 271/39738: mean batch inertia: 40307.7575, ewa inertia: 37660.16045772108\n",
      "Minibatch step 272/39738: mean batch inertia: 37816.3375, ewa inertia: 37660.946451894604\n",
      "Minibatch step 273/39738: mean batch inertia: 36811.035, ewa inertia: 37656.66909179449\n",
      "Minibatch step 274/39738: mean batch inertia: 35821.4375, ewa inertia: 37647.43289857962\n",
      "Minibatch step 275/39738: mean batch inertia: 35800.22, ewa inertia: 37638.13640689074\n",
      "Minibatch step 276/39738: mean batch inertia: 37329.12, ewa inertia: 37636.581216116254\n",
      "Minibatch step 277/39738: mean batch inertia: 36869.195, ewa inertia: 37632.7191818127\n",
      "Minibatch step 278/39738: mean batch inertia: 35678.36, ewa inertia: 37622.88345367072\n",
      "Minibatch step 279/39738: mean batch inertia: 38834.625, ewa inertia: 37628.98180065779\n",
      "Minibatch step 280/39738: mean batch inertia: 36145.5075, ewa inertia: 37621.51590080546\n",
      "Minibatch step 281/39738: mean batch inertia: 36493.395, ewa inertia: 37615.83839249743\n",
      "Minibatch step 282/39738: mean batch inertia: 38217.6425, ewa inertia: 37618.86709963132\n",
      "Minibatch step 283/39738: mean batch inertia: 38100.945, ewa inertia: 37621.293259170176\n",
      "Minibatch step 284/39738: mean batch inertia: 35631.1375, ewa inertia: 37611.27737714114\n",
      "Minibatch step 285/39738: mean batch inertia: 35731.85, ewa inertia: 37601.81875923907\n",
      "Minibatch step 286/39738: mean batch inertia: 37070.115, ewa inertia: 37599.142847013405\n",
      "Minibatch step 287/39738: mean batch inertia: 37385.4875, ewa inertia: 37598.067581049574\n",
      "Minibatch step 288/39738: mean batch inertia: 36885.1725, ewa inertia: 37594.47978496981\n",
      "Minibatch step 289/39738: mean batch inertia: 34634.5225, ewa inertia: 37579.58317055124\n",
      "Minibatch step 290/39738: mean batch inertia: 38317.1475, ewa inertia: 37583.29511986905\n",
      "Minibatch step 291/39738: mean batch inertia: 38636.45, ewa inertia: 37588.59534573785\n",
      "Minibatch step 292/39738: mean batch inertia: 34944.285, ewa inertia: 37575.28729165764\n",
      "Minibatch step 293/39738: mean batch inertia: 37648.195, ewa inertia: 37575.65421520239\n",
      "Minibatch step 294/39738: mean batch inertia: 35521.4025, ewa inertia: 37565.31575664577\n",
      "Minibatch step 295/39738: mean batch inertia: 35437.1275, ewa inertia: 37554.605196723045\n",
      "Minibatch step 296/39738: mean batch inertia: 37505.4125, ewa inertia: 37554.35762401684\n",
      "Minibatch step 297/39738: mean batch inertia: 37108.2775, ewa inertia: 37552.11263094177\n",
      "Minibatch step 298/39738: mean batch inertia: 37818.15, ewa inertia: 37553.45152056964\n",
      "Minibatch step 299/39738: mean batch inertia: 37056.16, ewa inertia: 37550.948795252225\n",
      "Minibatch step 300/39738: mean batch inertia: 37486.865, ewa inertia: 37550.62627992635\n",
      "Minibatch step 301/39738: mean batch inertia: 37524.95, ewa inertia: 37550.49705858802\n",
      "Minibatch step 302/39738: mean batch inertia: 36510.7425, ewa inertia: 37545.26427268672\n",
      "Minibatch step 303/39738: mean batch inertia: 34741.915, ewa inertia: 37531.15582138986\n",
      "Minibatch step 304/39738: mean batch inertia: 37222.9, ewa inertia: 37529.60445842364\n",
      "Minibatch step 305/39738: mean batch inertia: 36994.4225, ewa inertia: 37526.91104142101\n",
      "Minibatch step 306/39738: mean batch inertia: 36047.2325, ewa inertia: 37519.46424453414\n",
      "Minibatch step 307/39738: mean batch inertia: 37463.085, ewa inertia: 37519.18050399798\n",
      "Minibatch step 308/39738: mean batch inertia: 39556.6375, ewa inertia: 37529.43443955914\n",
      "Minibatch step 309/39738: mean batch inertia: 36566.3225, ewa inertia: 37524.58737393479\n",
      "Minibatch step 310/39738: mean batch inertia: 36252.2025, ewa inertia: 37518.183826506836\n",
      "Minibatch step 311/39738: mean batch inertia: 38010.2975, ewa inertia: 37520.66049320786\n",
      "Minibatch step 312/39738: mean batch inertia: 36531.175, ewa inertia: 37515.68069706691\n",
      "Minibatch step 313/39738: mean batch inertia: 38428.8175, ewa inertia: 37520.276252189884\n",
      "Minibatch step 314/39738: mean batch inertia: 37362.295, ewa inertia: 37519.48117794635\n",
      "Minibatch step 315/39738: mean batch inertia: 35900.685, ewa inertia: 37511.33424197279\n",
      "Minibatch step 316/39738: mean batch inertia: 34836.9575, ewa inertia: 37497.87487236045\n",
      "Minibatch step 317/39738: mean batch inertia: 35555.4725, ewa inertia: 37488.099319404435\n",
      "Minibatch step 318/39738: mean batch inertia: 37918.9225, ewa inertia: 37490.267528667624\n",
      "Minibatch step 319/39738: mean batch inertia: 36543.53, ewa inertia: 37485.50287074781\n",
      "Minibatch step 320/39738: mean batch inertia: 36094.7925, ewa inertia: 37478.503825097345\n",
      "Minibatch step 321/39738: mean batch inertia: 37625.2625, ewa inertia: 37479.242419334405\n",
      "Minibatch step 322/39738: mean batch inertia: 37663.225, ewa inertia: 37480.168350792206\n",
      "Minibatch step 323/39738: mean batch inertia: 35401.13, ewa inertia: 37469.70514822153\n",
      "Minibatch step 324/39738: mean batch inertia: 35273.075, ewa inertia: 37458.65013992651\n",
      "Minibatch step 325/39738: mean batch inertia: 36563.505, ewa inertia: 37454.14513167323\n",
      "Minibatch step 326/39738: mean batch inertia: 39011.61, ewa inertia: 37461.983404790124\n",
      "Minibatch step 327/39738: mean batch inertia: 38036.3625, ewa inertia: 37464.87408971821\n",
      "Minibatch step 328/39738: mean batch inertia: 34361.475, ewa inertia: 37449.25557391691\n",
      "Minibatch step 329/39738: mean batch inertia: 39117.76, ewa inertia: 37457.65267721879\n",
      "Minibatch step 330/39738: mean batch inertia: 34527.4475, ewa inertia: 37442.905796608735\n",
      "Minibatch step 331/39738: mean batch inertia: 36521.72, ewa inertia: 37438.26973321362\n",
      "Minibatch step 332/39738: mean batch inertia: 36602.8575, ewa inertia: 37434.06534351451\n",
      "Minibatch step 333/39738: mean batch inertia: 39915.0525, ewa inertia: 37446.55143891705\n",
      "Minibatch step 334/39738: mean batch inertia: 36410.7325, ewa inertia: 37441.33845985859\n",
      "Minibatch step 335/39738: mean batch inertia: 37382.02, ewa inertia: 37441.03992709634\n",
      "Minibatch step 336/39738: mean batch inertia: 38745.3925, ewa inertia: 37447.604358766715\n",
      "Minibatch step 337/39738: mean batch inertia: 37555.3, ewa inertia: 37448.14635998077\n",
      "Minibatch step 338/39738: mean batch inertia: 37506.6375, ewa inertia: 37448.44072908001\n",
      "Minibatch step 339/39738: mean batch inertia: 34975.7175, ewa inertia: 37435.99622364931\n",
      "Minibatch step 340/39738: mean batch inertia: 36354.6675, ewa inertia: 37430.55420692233\n",
      "Minibatch step 341/39738: mean batch inertia: 36641.1825, ewa inertia: 37426.58152596147\n",
      "Minibatch step 342/39738: mean batch inertia: 39361.435, ewa inertia: 37436.31908748154\n",
      "Minibatch step 343/39738: mean batch inertia: 36237.3975, ewa inertia: 37430.28525966332\n",
      "Minibatch step 344/39738: mean batch inertia: 37726.4225, ewa inertia: 37431.7756332936\n",
      "Minibatch step 345/39738: mean batch inertia: 36691.5575, ewa inertia: 37428.050328143654\n",
      "Minibatch step 346/39738: mean batch inertia: 39381.09, ewa inertia: 37437.87941557122\n",
      "Minibatch step 347/39738: mean batch inertia: 37220.565, ewa inertia: 37436.78573456683\n",
      "Minibatch step 348/39738: mean batch inertia: 37030.45, ewa inertia: 37434.7407635826\n",
      "Minibatch step 349/39738: mean batch inertia: 37216.8225, ewa inertia: 37433.6440435847\n",
      "Minibatch step 350/39738: mean batch inertia: 38183.17, ewa inertia: 37437.41619233365\n",
      "Minibatch step 351/39738: mean batch inertia: 36281.09, ewa inertia: 37431.59673489866\n",
      "Converged (lack of improvement in inertia) at step 351/39738\n"
     ]
    }
   ],
   "source": [
    "# Use the peak_silo number of clusters for final model\n",
    "mbkmeans = MiniBatchKMeans(n_clusters=peak_silo, batch_size=50, random_state=42,verbose=1) \n",
    "mbkmeans_clusters = mbkmeans.fit_predict(features_scaled)"
   ]
  },
  {
   "cell_type": "code",
   "execution_count": 67,
   "metadata": {},
   "outputs": [
    {
     "data": {
      "image/png": "[encoded data removed]",
      "text/plain": [
       "<Figure size 640x480 with 2 Axes>"
      ]
     },
     "metadata": {},
     "output_type": "display_data"
    }
   ],
   "source": [
    "# Apply PCA to reduce dimensions to 2D for visualization\n",
    "pca = PCA(n_components=2)\n",
    "features_pca = pca.fit_transform(features_scaled)\n",
    "\n",
    "# Now visualize in 2D after PCA\n",
    "plt.scatter(features_pca[:, 0], features_pca[:, 1], c=mbkmeans_clusters, cmap='viridis')\n",
    "plt.colorbar()\n",
    "plt.title('KMeans Clustering Visualized with PCA')\n",
    "plt.show()"
   ]
  },
  {
   "cell_type": "code",
   "execution_count": 68,
   "metadata": {},
   "outputs": [
    {
     "name": "stdout",
     "output_type": "stream",
     "text": [
      "Cluster 0: 2780 members\n",
      "Cluster 1: 6416 members\n",
      "Cluster 2: 3138 members\n",
      "Cluster 3: 7535 members\n"
     ]
    }
   ],
   "source": [
    "# Assuming mbkmeans_clusters is an array of cluster labels\n",
    "unique_clusters, counts = np.unique(mbkmeans_clusters, return_counts=True)\n",
    "\n",
    "# This will print the cluster labels and their respective counts\n",
    "for cluster, count in zip(unique_clusters, counts):\n",
    "    print(f\"Cluster {cluster}: {count} members\")"
   ]
  },
  {
   "cell_type": "code",
   "execution_count": 69,
   "metadata": {},
   "outputs": [],
   "source": [
    "num_clusters = len(np.unique(mbkmeans_clusters))  # Get the number of clusters\n",
    "cluster_labels = to_categorical(mbkmeans_clusters, num_classes=num_clusters)"
   ]
  },
  {
   "cell_type": "code",
   "execution_count": 70,
   "metadata": {},
   "outputs": [],
   "source": [
    "# Perform train-test split\n",
    "X_train, X_test, y_train, y_test = train_test_split(features_scaled, cluster_labels, test_size=0.8, random_state=42)"
   ]
  },
  {
   "cell_type": "code",
   "execution_count": 71,
   "metadata": {},
   "outputs": [
    {
     "name": "stderr",
     "output_type": "stream",
     "text": [
      "c:\\Users\\Shank\\anaconda3\\envs\\dsenv3\\lib\\site-packages\\keras\\src\\layers\\core\\dense.py:87: UserWarning: Do not pass an `input_shape`/`input_dim` argument to a layer. When using Sequential models, prefer using an `Input(shape)` object as the first layer in the model instead.\n",
      "  super().__init__(activity_regularizer=activity_regularizer, **kwargs)\n"
     ]
    }
   ],
   "source": [
    "model = Sequential()\n",
    "\n",
    "# Input layer (based on your extracted feature dimensions)\n",
    "model.add(Dense(128, activation='relu', input_dim=features_scaled.shape[1]))\n",
    "model.add(Dropout(0.5))\n",
    "\n",
    "# Hidden layer\n",
    "model.add(Dense(64, activation='relu'))\n",
    "model.add(Dropout(0.5))\n",
    "\n",
    "# Output layer for predicting clusters\n",
    "model.add(Dense(num_clusters, activation='softmax'))\n",
    "\n",
    "# Compile the model\n",
    "model.compile(optimizer=Adam(), loss='categorical_crossentropy', metrics=['accuracy'])"
   ]
  },
  {
   "cell_type": "code",
   "execution_count": 72,
   "metadata": {},
   "outputs": [
    {
     "name": "stdout",
     "output_type": "stream",
     "text": [
      "Epoch 1/10\n",
      "\u001b[1m125/125\u001b[0m \u001b[32m━━━━━━━━━━━━━━━━━━━━\u001b[0m\u001b[37m\u001b[0m \u001b[1m9s\u001b[0m 65ms/step - accuracy: 0.6195 - loss: 5.8852 - val_accuracy: 0.8530 - val_loss: 0.9880\n",
      "Epoch 2/10\n",
      "\u001b[1m125/125\u001b[0m \u001b[32m━━━━━━━━━━━━━━━━━━━━\u001b[0m\u001b[37m\u001b[0m \u001b[1m6s\u001b[0m 52ms/step - accuracy: 0.7566 - loss: 3.6295 - val_accuracy: 0.8688 - val_loss: 0.5513\n",
      "Epoch 3/10\n",
      "\u001b[1m125/125\u001b[0m \u001b[32m━━━━━━━━━━━━━━━━━━━━\u001b[0m\u001b[37m\u001b[0m \u001b[1m6s\u001b[0m 52ms/step - accuracy: 0.8032 - loss: 1.9248 - val_accuracy: 0.8606 - val_loss: 0.4040\n",
      "Epoch 4/10\n",
      "\u001b[1m125/125\u001b[0m \u001b[32m━━━━━━━━━━━━━━━━━━━━\u001b[0m\u001b[37m\u001b[0m \u001b[1m6s\u001b[0m 51ms/step - accuracy: 0.8226 - loss: 1.2124 - val_accuracy: 0.8486 - val_loss: 0.3280\n",
      "Epoch 5/10\n",
      "\u001b[1m125/125\u001b[0m \u001b[32m━━━━━━━━━━━━━━━━━━━━\u001b[0m\u001b[37m\u001b[0m \u001b[1m6s\u001b[0m 51ms/step - accuracy: 0.8386 - loss: 0.8945 - val_accuracy: 0.8745 - val_loss: 0.3270\n",
      "Epoch 6/10\n",
      "\u001b[1m125/125\u001b[0m \u001b[32m━━━━━━━━━━━━━━━━━━━━\u001b[0m\u001b[37m\u001b[0m \u001b[1m7s\u001b[0m 52ms/step - accuracy: 0.8516 - loss: 0.6853 - val_accuracy: 0.8734 - val_loss: 0.3211\n",
      "Epoch 7/10\n",
      "\u001b[1m125/125\u001b[0m \u001b[32m━━━━━━━━━━━━━━━━━━━━\u001b[0m\u001b[37m\u001b[0m \u001b[1m6s\u001b[0m 52ms/step - accuracy: 0.8485 - loss: 0.5523 - val_accuracy: 0.8391 - val_loss: 0.3207\n",
      "Epoch 8/10\n",
      "\u001b[1m125/125\u001b[0m \u001b[32m━━━━━━━━━━━━━━━━━━━━\u001b[0m\u001b[37m\u001b[0m \u001b[1m6s\u001b[0m 52ms/step - accuracy: 0.8551 - loss: 0.4996 - val_accuracy: 0.9022 - val_loss: 0.2937\n",
      "Epoch 9/10\n",
      "\u001b[1m125/125\u001b[0m \u001b[32m━━━━━━━━━━━━━━━━━━━━\u001b[0m\u001b[37m\u001b[0m \u001b[1m7s\u001b[0m 52ms/step - accuracy: 0.8709 - loss: 0.4091 - val_accuracy: 0.8710 - val_loss: 0.3140\n",
      "Epoch 10/10\n",
      "\u001b[1m125/125\u001b[0m \u001b[32m━━━━━━━━━━━━━━━━━━━━\u001b[0m\u001b[37m\u001b[0m \u001b[1m7s\u001b[0m 53ms/step - accuracy: 0.8772 - loss: 0.4388 - val_accuracy: 0.8697 - val_loss: 0.3135\n"
     ]
    },
    {
     "data": {
      "text/plain": [
       "<keras.src.callbacks.history.History at 0x1e14d49dea0>"
      ]
     },
     "execution_count": 72,
     "metadata": {},
     "output_type": "execute_result"
    }
   ],
   "source": [
    "# Train the model using the training data\n",
    "model.fit(X_train, y_train, epochs=10, batch_size=32, validation_data=(X_test, y_test))"
   ]
  },
  {
   "cell_type": "code",
   "execution_count": 73,
   "metadata": {},
   "outputs": [
    {
     "name": "stdout",
     "output_type": "stream",
     "text": [
      "\u001b[1m497/497\u001b[0m \u001b[32m━━━━━━━━━━━━━━━━━━━━\u001b[0m\u001b[37m\u001b[0m \u001b[1m2s\u001b[0m 4ms/step\n"
     ]
    }
   ],
   "source": [
    "# Step 1: Predict on the test set\n",
    "y_pred = model.predict(X_test)\n",
    "\n",
    "# Step 2: Convert predictions and true labels from one-hot encoding back to class labels\n",
    "y_pred_classes = np.argmax(y_pred, axis=1)\n",
    "y_true_classes = np.argmax(y_test, axis=1)"
   ]
  },
  {
   "cell_type": "code",
   "execution_count": 74,
   "metadata": {},
   "outputs": [
    {
     "name": "stdout",
     "output_type": "stream",
     "text": [
      "Classification Report:\n",
      "\n",
      "              precision    recall  f1-score   support\n",
      "\n",
      "           0       0.73      0.96      0.83      2232\n",
      "           1       0.90      0.74      0.81      5115\n",
      "           2       0.93      0.79      0.85      2486\n",
      "           3       0.90      0.98      0.93      6063\n",
      "\n",
      "    accuracy                           0.87     15896\n",
      "   macro avg       0.86      0.87      0.86     15896\n",
      "weighted avg       0.88      0.87      0.87     15896\n",
      "\n"
     ]
    }
   ],
   "source": [
    "print(\"Classification Report:\\n\")\n",
    "print(classification_report(y_true_classes, y_pred_classes))"
   ]
  },
  {
   "cell_type": "code",
   "execution_count": 75,
   "metadata": {},
   "outputs": [
    {
     "data": {
      "image/png": "[encoded data removed]",
      "text/plain": [
       "<Figure size 1000x800 with 2 Axes>"
      ]
     },
     "metadata": {},
     "output_type": "display_data"
    }
   ],
   "source": [
    "conf_matrix = confusion_matrix(y_true_classes, y_pred_classes)\n",
    "\n",
    "# Step 5: Plot the confusion matrix\n",
    "plt.figure(figsize=(10, 8))\n",
    "sns.heatmap(conf_matrix, annot=True, fmt='d', cmap='Blues')\n",
    "plt.title(\"Confusion Matrix\")\n",
    "plt.ylabel('True Labels')\n",
    "plt.xlabel('Predicted Labels')\n",
    "plt.show()"
   ]
  },
  {
   "cell_type": "code",
   "execution_count": 76,
   "metadata": {},
   "outputs": [],
   "source": [
    "bp_song = pd.read_csv('data/bp_song.csv')"
   ]
  },
  {
   "cell_type": "code",
   "execution_count": 77,
   "metadata": {},
   "outputs": [],
   "source": [
    "def compute_similarity(features_list, input_feature_vector, metric='euclidean'):\n",
    "    if metric == 'euclidean':\n",
    "        distances = [euclidean(input_feature_vector, feature) for feature in features_list]\n",
    "    # You can add other metrics like cosine similarity\n",
    "    return np.array(distances)"
   ]
  },
  {
   "cell_type": "code",
   "execution_count": 78,
   "metadata": {},
   "outputs": [],
   "source": [
    "def recommend_items(input_track_id, features_list, track_ids_list, bp_song=bp_song, top_n=5):\n",
    "    # Find the index of the input track's features\n",
    "    input_index = track_ids_list.index(input_track_id)\n",
    "    \n",
    "    # Get the feature vector of the input track\n",
    "    input_feature_vector = features_list[input_index]\n",
    "    \n",
    "    # Compute similarity between the input track and all other tracks\n",
    "    similarities = compute_similarity(features_list, input_feature_vector, metric='euclidean')\n",
    "    \n",
    "    # Get the indices of the top_n most similar tracks (excluding the input track itself)\n",
    "    most_similar_indices = similarities.argsort()[1:top_n + 1]  # Exclude the input track itself\n",
    "    \n",
    "    # Fetch the track_ids of the most similar items\n",
    "    recommended_track_ids = [track_ids_list[idx] for idx in most_similar_indices]\n",
    "    \n",
    "    # Fetch the corresponding song titles and artists from the bp_song DataFrame\n",
    "    recommended_songs = bp_song[bp_song['track_id'].isin(recommended_track_ids)]\n",
    "    \n",
    "    return recommended_songs[['track_id', 'song']]"
   ]
  },
  {
   "cell_type": "code",
   "execution_count": 80,
   "metadata": {},
   "outputs": [
    {
     "name": "stdout",
     "output_type": "stream",
     "text": [
      "Top 5 recommendations for Booyah feat. We Are Loud feat. Sonny Wilson by Showtek, Sonny Wilson, We Are Loud:\n",
      "\n",
      "         track_id                                               song\n",
      "2815019   6024493                     Street Gang by Richard H. Kirk\n",
      "3337845   6964058                          Folie à deux by Mechanist\n",
      "5986043  11717401                         Test Drive by Dura, Oziriz\n",
      "9090506  16185430  Surrender (feat. Shanokee) (Arctic Moon Remix)...\n",
      "9801787  17049495                             The Dizko by Argy (UK)\n"
     ]
    }
   ],
   "source": [
    "input_track_id = 4993057  # Example track_id\n",
    "top_n_recommendations = 5  # Get top 5 recommendations\n",
    "\n",
    "# Fetch the input song's title and artist\n",
    "input_song_info = bp_song[bp_song['track_id'] == input_track_id]['song'].values[0]\n",
    "\n",
    "# Get the top N recommended songs\n",
    "recommended_songs = recommend_items(input_track_id, features_scaled, track_id_list, bp_song, top_n=top_n_recommendations)\n",
    "\n",
    "# Output message with input song and recommendations\n",
    "print(f\"Top {top_n_recommendations} recommendations for {input_song_info}:\\n\")\n",
    "print(recommended_songs)"
   ]
  },
  {
   "cell_type": "code",
   "execution_count": 81,
   "metadata": {},
   "outputs": [],
   "source": [
    "np.save('data/audio_features_list.npy', features_scaled)\n",
    "np.save('data/audio_track_ids_list.npy', track_id_list)"
   ]
  },
  {
   "cell_type": "code",
   "execution_count": null,
   "metadata": {},
   "outputs": [],
   "source": []
  }
 ],
 "metadata": {
  "kernelspec": {
   "display_name": "dsenv3",
   "language": "python",
   "name": "python3"
  },
  "language_info": {
   "codemirror_mode": {
    "name": "ipython",
    "version": 3
   },
   "file_extension": ".py",
   "mimetype": "text/x-python",
   "name": "python",
   "nbconvert_exporter": "python",
   "pygments_lexer": "ipython3",
   "version": "3.10.13"
  }
 },
 "nbformat": 4,
 "nbformat_minor": 2
}
