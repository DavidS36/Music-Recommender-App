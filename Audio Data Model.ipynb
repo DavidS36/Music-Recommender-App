{
 "cells": [
  {
   "cell_type": "code",
   "execution_count": 11,
   "metadata": {},
   "outputs": [],
   "source": [
    "import pandas as pd\n",
    "import seaborn as sns\n",
    "import matplotlib.pyplot as plt\n",
    "from sklearn.preprocessing import MinMaxScaler, LabelEncoder, StandardScaler\n",
    "from sklearn.model_selection import train_test_split\n",
    "\n",
    "import os\n",
    "import numpy as np\n",
    "import pandas as pd\n",
    "from tensorflow.keras.preprocessing.image import ImageDataGenerator\n",
    "from tensorflow.keras.models import Sequential\n",
    "from tensorflow.keras.callbacks import EarlyStopping, ReduceLROnPlateau, ModelCheckpoint\n",
    "from tensorflow.keras.layers import Conv2D, MaxPooling2D, Flatten, Dense, Dropout\n",
    "from sklearn.model_selection import train_test_split\n",
    "from PIL import Image\n",
    "\n",
    "import requests\n",
    "from PIL import Image\n",
    "import numpy as np\n",
    "from io import BytesIO\n",
    "import os\n",
    "\n",
    "from glob import glob\n",
    "\n",
    "import librosa\n",
    "import librosa.display\n",
    "import IPython.display as ipd\n",
    "import requests\n",
    "import numpy as np\n",
    "import librosa\n",
    "from tqdm import tqdm\n",
    "import os\n",
    "\n",
    "from IPython.display import Audio\n"
   ]
  },
  {
   "cell_type": "code",
   "execution_count": 2,
   "metadata": {},
   "outputs": [
    {
     "name": "stderr",
     "output_type": "stream",
     "text": [
      "C:\\Users\\Shank\\AppData\\Local\\Temp\\ipykernel_19376\\1573399701.py:1: DtypeWarning: Columns (16) have mixed types. Specify dtype option on import or set low_memory=False.\n",
      "  bp_track = pd.read_csv('data/bp_track.csv')\n"
     ]
    }
   ],
   "source": [
    "bp_track = pd.read_csv('data/bp_track.csv')"
   ]
  },
  {
   "cell_type": "code",
   "execution_count": 3,
   "metadata": {},
   "outputs": [],
   "source": [
    "bp_track_media = pd.read_csv('data/bp_track_media.csv')"
   ]
  },
  {
   "cell_type": "code",
   "execution_count": 4,
   "metadata": {},
   "outputs": [],
   "source": [
    "bp_genre = pd.read_csv('data/bp_genre.csv')"
   ]
  },
  {
   "cell_type": "code",
   "execution_count": 5,
   "metadata": {},
   "outputs": [
    {
     "data": {
      "text/html": [
       "<div>\n",
       "<style scoped>\n",
       "    .dataframe tbody tr th:only-of-type {\n",
       "        vertical-align: middle;\n",
       "    }\n",
       "\n",
       "    .dataframe tbody tr th {\n",
       "        vertical-align: top;\n",
       "    }\n",
       "\n",
       "    .dataframe thead th {\n",
       "        text-align: right;\n",
       "    }\n",
       "</style>\n",
       "<table border=\"1\" class=\"dataframe\">\n",
       "  <thead>\n",
       "    <tr style=\"text-align: right;\">\n",
       "      <th></th>\n",
       "      <th>genre_id</th>\n",
       "      <th>genre_name</th>\n",
       "      <th>song_count</th>\n",
       "      <th>genre_url</th>\n",
       "      <th>updated_on</th>\n",
       "    </tr>\n",
       "  </thead>\n",
       "  <tbody>\n",
       "    <tr>\n",
       "      <th>0</th>\n",
       "      <td>8</td>\n",
       "      <td>Hard Dance / Hardcore</td>\n",
       "      <td>178646</td>\n",
       "      <td>/genre/hard-dance-hardcore/8</td>\n",
       "      <td>2023-09-19 15:01:03</td>\n",
       "    </tr>\n",
       "    <tr>\n",
       "      <th>1</th>\n",
       "      <td>50</td>\n",
       "      <td>Nu Disco / Disco</td>\n",
       "      <td>157934</td>\n",
       "      <td>/genre/nu-disco-disco/50</td>\n",
       "      <td>2023-09-19 15:01:03</td>\n",
       "    </tr>\n",
       "    <tr>\n",
       "      <th>2</th>\n",
       "      <td>12</td>\n",
       "      <td>Deep House</td>\n",
       "      <td>897280</td>\n",
       "      <td>/genre/deep-house/12</td>\n",
       "      <td>2023-09-19 15:01:03</td>\n",
       "    </tr>\n",
       "    <tr>\n",
       "      <th>3</th>\n",
       "      <td>85</td>\n",
       "      <td>Bass / Club</td>\n",
       "      <td>20716</td>\n",
       "      <td>/genre/bass-club/85</td>\n",
       "      <td>2023-09-19 15:01:03</td>\n",
       "    </tr>\n",
       "    <tr>\n",
       "      <th>4</th>\n",
       "      <td>94</td>\n",
       "      <td>Electro (Classic / Detroit / Modern)</td>\n",
       "      <td>19615</td>\n",
       "      <td>/genre/electro-classic-detroit-modern/94</td>\n",
       "      <td>2023-09-19 15:01:03</td>\n",
       "    </tr>\n",
       "  </tbody>\n",
       "</table>\n",
       "</div>"
      ],
      "text/plain": [
       "   genre_id                            genre_name  song_count  \\\n",
       "0         8                 Hard Dance / Hardcore      178646   \n",
       "1        50                      Nu Disco / Disco      157934   \n",
       "2        12                            Deep House      897280   \n",
       "3        85                           Bass / Club       20716   \n",
       "4        94  Electro (Classic / Detroit / Modern)       19615   \n",
       "\n",
       "                                  genre_url           updated_on  \n",
       "0              /genre/hard-dance-hardcore/8  2023-09-19 15:01:03  \n",
       "1                  /genre/nu-disco-disco/50  2023-09-19 15:01:03  \n",
       "2                      /genre/deep-house/12  2023-09-19 15:01:03  \n",
       "3                       /genre/bass-club/85  2023-09-19 15:01:03  \n",
       "4  /genre/electro-classic-detroit-modern/94  2023-09-19 15:01:03  "
      ]
     },
     "execution_count": 5,
     "metadata": {},
     "output_type": "execute_result"
    }
   ],
   "source": [
    "bp_genre.head()"
   ]
  },
  {
   "cell_type": "code",
   "execution_count": 6,
   "metadata": {},
   "outputs": [
    {
     "data": {
      "text/html": [
       "<div>\n",
       "<style scoped>\n",
       "    .dataframe tbody tr th:only-of-type {\n",
       "        vertical-align: middle;\n",
       "    }\n",
       "\n",
       "    .dataframe tbody tr th {\n",
       "        vertical-align: top;\n",
       "    }\n",
       "\n",
       "    .dataframe thead th {\n",
       "        text-align: right;\n",
       "    }\n",
       "</style>\n",
       "<table border=\"1\" class=\"dataframe\">\n",
       "  <thead>\n",
       "    <tr style=\"text-align: right;\">\n",
       "      <th></th>\n",
       "      <th>track_id</th>\n",
       "      <th>wave_img_id</th>\n",
       "      <th>wave_img_uuid</th>\n",
       "      <th>sample_uuid</th>\n",
       "      <th>sample_start</th>\n",
       "      <th>sample_end</th>\n",
       "      <th>updated_on</th>\n",
       "      <th>genre_id</th>\n",
       "    </tr>\n",
       "  </thead>\n",
       "  <tbody>\n",
       "    <tr>\n",
       "      <th>0</th>\n",
       "      <td>17767172</td>\n",
       "      <td>34401296.0</td>\n",
       "      <td>09d00050-0a43-42f1-bb6e-c22bf9591a80</td>\n",
       "      <td>09d00050-0a43-42f1-bb6e-c22bf9591a80</td>\n",
       "      <td>172732.0</td>\n",
       "      <td>292732.0</td>\n",
       "      <td>2023-09-14 16:19:56</td>\n",
       "      <td>99</td>\n",
       "    </tr>\n",
       "    <tr>\n",
       "      <th>1</th>\n",
       "      <td>17775434</td>\n",
       "      <td>34430784.0</td>\n",
       "      <td>b9509b0f-2b7d-4254-84df-cc53eded7904</td>\n",
       "      <td>b9509b0f-2b7d-4254-84df-cc53eded7904</td>\n",
       "      <td>163532.0</td>\n",
       "      <td>283532.0</td>\n",
       "      <td>2023-09-14 16:19:56</td>\n",
       "      <td>99</td>\n",
       "    </tr>\n",
       "    <tr>\n",
       "      <th>2</th>\n",
       "      <td>17800962</td>\n",
       "      <td>34520332.0</td>\n",
       "      <td>a9519a6a-a7cf-4a9e-aa55-b1b0ea80870b</td>\n",
       "      <td>a9519a6a-a7cf-4a9e-aa55-b1b0ea80870b</td>\n",
       "      <td>157108.0</td>\n",
       "      <td>277108.0</td>\n",
       "      <td>2023-09-14 16:19:56</td>\n",
       "      <td>99</td>\n",
       "    </tr>\n",
       "    <tr>\n",
       "      <th>3</th>\n",
       "      <td>17610335</td>\n",
       "      <td>33799612.0</td>\n",
       "      <td>93747c55-cfb1-4df5-9c6a-ce9f5751983f</td>\n",
       "      <td>93747c55-cfb1-4df5-9c6a-ce9f5751983f</td>\n",
       "      <td>162976.0</td>\n",
       "      <td>282976.0</td>\n",
       "      <td>2023-09-14 16:19:56</td>\n",
       "      <td>99</td>\n",
       "    </tr>\n",
       "    <tr>\n",
       "      <th>4</th>\n",
       "      <td>17610338</td>\n",
       "      <td>33799613.0</td>\n",
       "      <td>e104a0f7-dfb7-4e10-8ed3-056e018c9775</td>\n",
       "      <td>e104a0f7-dfb7-4e10-8ed3-056e018c9775</td>\n",
       "      <td>174826.0</td>\n",
       "      <td>294826.0</td>\n",
       "      <td>2023-09-14 16:19:56</td>\n",
       "      <td>99</td>\n",
       "    </tr>\n",
       "  </tbody>\n",
       "</table>\n",
       "</div>"
      ],
      "text/plain": [
       "   track_id  wave_img_id                         wave_img_uuid  \\\n",
       "0  17767172   34401296.0  09d00050-0a43-42f1-bb6e-c22bf9591a80   \n",
       "1  17775434   34430784.0  b9509b0f-2b7d-4254-84df-cc53eded7904   \n",
       "2  17800962   34520332.0  a9519a6a-a7cf-4a9e-aa55-b1b0ea80870b   \n",
       "3  17610335   33799612.0  93747c55-cfb1-4df5-9c6a-ce9f5751983f   \n",
       "4  17610338   33799613.0  e104a0f7-dfb7-4e10-8ed3-056e018c9775   \n",
       "\n",
       "                            sample_uuid  sample_start  sample_end  \\\n",
       "0  09d00050-0a43-42f1-bb6e-c22bf9591a80      172732.0    292732.0   \n",
       "1  b9509b0f-2b7d-4254-84df-cc53eded7904      163532.0    283532.0   \n",
       "2  a9519a6a-a7cf-4a9e-aa55-b1b0ea80870b      157108.0    277108.0   \n",
       "3  93747c55-cfb1-4df5-9c6a-ce9f5751983f      162976.0    282976.0   \n",
       "4  e104a0f7-dfb7-4e10-8ed3-056e018c9775      174826.0    294826.0   \n",
       "\n",
       "            updated_on  genre_id  \n",
       "0  2023-09-14 16:19:56        99  \n",
       "1  2023-09-14 16:19:56        99  \n",
       "2  2023-09-14 16:19:56        99  \n",
       "3  2023-09-14 16:19:56        99  \n",
       "4  2023-09-14 16:19:56        99  "
      ]
     },
     "execution_count": 6,
     "metadata": {},
     "output_type": "execute_result"
    }
   ],
   "source": [
    "# Perform the merge to add only 'genre_id' from bp_track to bp_track_media\n",
    "bp_media = pd.merge(bp_track_media, bp_track[['track_id', 'genre_id']], on='track_id', how='inner')\n",
    "\n",
    "# Display the first few rows to verify\n",
    "bp_media.head()"
   ]
  },
  {
   "cell_type": "code",
   "execution_count": 7,
   "metadata": {},
   "outputs": [],
   "source": [
    "# Assuming bp_media contains the genre_id and you want to replace it with genre_name\n",
    "\n",
    "# Merge bp_media with bp_genre on 'genre_id'\n",
    "bp_media = pd.merge(bp_media, bp_genre[['genre_id', 'genre_name']], on='genre_id', how='left')\n",
    "\n",
    "# Optionally, drop 'genre_id' if you no longer need it\n",
    "bp_media.drop('genre_id', axis=1, inplace=True)"
   ]
  },
  {
   "cell_type": "code",
   "execution_count": 9,
   "metadata": {},
   "outputs": [],
   "source": [
    "sampled_data = bp_media.sample(n=1000, random_state=42)"
   ]
  },
  {
   "cell_type": "code",
   "execution_count": 17,
   "metadata": {},
   "outputs": [],
   "source": [
    "import os\n",
    "import requests\n",
    "from tqdm import tqdm\n",
    "\n",
    "def load_audio_from_url(df, sample_uuid_column, n_mfcc=13, max_length=200):\n",
    "    audio_features = []\n",
    "    failed_samples = []  # List to store IDs of failed audio downloads\n",
    "    saved_file_paths = []  # List to collect the paths of saved audio files\n",
    "    \n",
    "    base_url = \"https://geo-samples.beatport.com/track/\"  # Base URL for audio files\n",
    "    save_directory = \"audio_files\"  # Directory to save downloaded audio\n",
    "    os.makedirs(save_directory, exist_ok=True)\n",
    "    \n",
    "    for sample_uuid in tqdm(df[sample_uuid_column]):\n",
    "        # Construct full audio URL\n",
    "        audio_url = f\"{base_url}{sample_uuid}.LOFI.mp3\"\n",
    "        save_path = os.path.join(save_directory, f\"{sample_uuid}.mp3\")\n",
    "        \n",
    "        try:\n",
    "            # Send a request to download the audio file\n",
    "            response = requests.get(audio_url)\n",
    "            response.raise_for_status()  # Raise an exception for failed requests\n",
    "\n",
    "            # Save the downloaded audio file locally\n",
    "            with open(save_path, 'wb') as f:\n",
    "                f.write(response.content)\n",
    "            \n",
    "            # Append the file path to the saved file paths list\n",
    "            saved_file_paths.append(save_path)\n",
    "        \n",
    "        except Exception as e:\n",
    "            print(f\"Error loading audio {sample_uuid}: {e}\")\n",
    "            failed_samples.append(sample_uuid)  # Add the sample_uuid to the failed list\n",
    "    \n",
    "    return saved_file_paths, failed_samples"
   ]
  },
  {
   "cell_type": "code",
   "execution_count": 18,
   "metadata": {},
   "outputs": [
    {
     "name": "stderr",
     "output_type": "stream",
     "text": [
      " 13%|█▎        | 132/1000 [00:40<03:54,  3.69it/s]"
     ]
    },
    {
     "name": "stdout",
     "output_type": "stream",
     "text": [
      "Error loading audio a0196b91-79b3-47c8-9e51-282acaa13963: 404 Client Error: Not Found for url: https://geo-samples.beatport.com/track/a0196b91-79b3-47c8-9e51-282acaa13963.LOFI.mp3\n"
     ]
    },
    {
     "name": "stderr",
     "output_type": "stream",
     "text": [
      " 20%|██        | 201/1000 [01:02<03:52,  3.44it/s]"
     ]
    },
    {
     "name": "stdout",
     "output_type": "stream",
     "text": [
      "Error loading audio a8b326ce-95af-4a23-83d5-ebec83c4952b: 404 Client Error: Not Found for url: https://geo-samples.beatport.com/track/a8b326ce-95af-4a23-83d5-ebec83c4952b.LOFI.mp3\n"
     ]
    },
    {
     "name": "stderr",
     "output_type": "stream",
     "text": [
      " 44%|████▍     | 440/1000 [02:25<03:12,  2.91it/s]"
     ]
    },
    {
     "name": "stdout",
     "output_type": "stream",
     "text": [
      "Error loading audio 77c54e71-ed31-4d8e-9474-f8b7fd555a0d: 404 Client Error: Not Found for url: https://geo-samples.beatport.com/track/77c54e71-ed31-4d8e-9474-f8b7fd555a0d.LOFI.mp3\n"
     ]
    },
    {
     "name": "stderr",
     "output_type": "stream",
     "text": [
      " 67%|██████▋   | 666/1000 [03:55<02:05,  2.66it/s]"
     ]
    },
    {
     "name": "stdout",
     "output_type": "stream",
     "text": [
      "Error loading audio 485662be-e550-4b98-8d8f-5634e292da1a: 404 Client Error: Not Found for url: https://geo-samples.beatport.com/track/485662be-e550-4b98-8d8f-5634e292da1a.LOFI.mp3\n"
     ]
    },
    {
     "name": "stderr",
     "output_type": "stream",
     "text": [
      " 73%|███████▎  | 727/1000 [04:20<01:45,  2.58it/s]"
     ]
    },
    {
     "name": "stdout",
     "output_type": "stream",
     "text": [
      "Error loading audio c517223d-457d-488e-8e6e-3b5016fc3f7b: 404 Client Error: Not Found for url: https://geo-samples.beatport.com/track/c517223d-457d-488e-8e6e-3b5016fc3f7b.LOFI.mp3\n"
     ]
    },
    {
     "name": "stderr",
     "output_type": "stream",
     "text": [
      " 74%|███████▍  | 742/1000 [04:26<01:36,  2.66it/s]"
     ]
    },
    {
     "name": "stdout",
     "output_type": "stream",
     "text": [
      "Error loading audio d1e1683c-7f74-432e-854a-fdda91faf169: 404 Client Error: Not Found for url: https://geo-samples.beatport.com/track/d1e1683c-7f74-432e-854a-fdda91faf169.LOFI.mp3\n"
     ]
    },
    {
     "name": "stderr",
     "output_type": "stream",
     "text": [
      "100%|██████████| 1000/1000 [05:49<00:00,  2.86it/s]\n"
     ]
    }
   ],
   "source": [
    "saved_file_paths, failed_sample_uuids = load_audio_from_url(sampled_data, 'sample_uuid')"
   ]
  },
  {
   "cell_type": "code",
   "execution_count": 19,
   "metadata": {},
   "outputs": [],
   "source": [
    "# Function to extract MFCCs from an audio file\n",
    "def extract_mfcc(audio_file_path, n_mfcc=13, max_length=200):\n",
    "    try:\n",
    "        # Load the audio file using librosa\n",
    "        signal, sample_rate = librosa.load(audio_file_path, sr=None)\n",
    "\n",
    "        # Extract MFCC features\n",
    "        mfccs = librosa.feature.mfcc(y=signal, sr=sample_rate, n_mfcc=n_mfcc)\n",
    "\n",
    "        # Pad or truncate MFCCs to a fixed length\n",
    "        if mfccs.shape[1] < max_length:\n",
    "            mfccs_padded = np.pad(mfccs, ((0, 0), (0, max_length - mfccs.shape[1])), mode='constant')\n",
    "        else:\n",
    "            mfccs_padded = mfccs[:, :max_length]\n",
    "\n",
    "        return mfccs_padded\n",
    "    \n",
    "    except Exception as e:\n",
    "        print(f\"Error processing audio file {audio_file_path}: {e}\")\n",
    "        return None"
   ]
  },
  {
   "cell_type": "code",
   "execution_count": 20,
   "metadata": {},
   "outputs": [
    {
     "name": "stderr",
     "output_type": "stream",
     "text": [
      "  0%|          | 0/994 [00:00<?, ?it/s]"
     ]
    },
    {
     "name": "stderr",
     "output_type": "stream",
     "text": [
      "100%|██████████| 994/994 [06:06<00:00,  2.71it/s]\n"
     ]
    },
    {
     "name": "stdout",
     "output_type": "stream",
     "text": [
      "Extracted MFCC features shape: (994, 13, 200)\n",
      "Genre labels shape: (994,)\n"
     ]
    }
   ],
   "source": [
    "# Initialize lists to hold MFCC features and genres\n",
    "mfcc_features = []\n",
    "genres = []\n",
    "\n",
    "# Iterate over all saved audio files (from the load_audio_from_url function)\n",
    "for audio_file_path in tqdm(saved_file_paths):\n",
    "    # Extract the sample_uuid from the file path (assuming the file name is in the form 'sample_uuid.mp3')\n",
    "    sample_uuid = os.path.basename(audio_file_path).replace('.mp3', '')  # Extract just the sample_uuid\n",
    "\n",
    "    # Find the corresponding genre in the DataFrame\n",
    "    genre = sampled_data.loc[sampled_data['sample_uuid'] == sample_uuid, 'genre_name'].values\n",
    "    if len(genre) == 0:\n",
    "        print(f\"Genre not found for {sample_uuid}, skipping.\")\n",
    "        continue\n",
    "\n",
    "    genre = genre[0]  # Extract the genre value\n",
    "\n",
    "    # Extract MFCC features\n",
    "    mfccs = extract_mfcc(audio_file_path)\n",
    "\n",
    "    # Only append if MFCC extraction was successful\n",
    "    if mfccs is not None:\n",
    "        mfcc_features.append(mfccs)  # Append MFCC features\n",
    "        genres.append(genre)  # Append the corresponding genre\n",
    "\n",
    "# Convert the lists of MFCC features and genres into NumPy arrays\n",
    "mfcc_features = np.array(mfcc_features)\n",
    "genres = np.array(genres)\n",
    "\n",
    "print(f\"Extracted MFCC features shape: {mfcc_features.shape}\")\n",
    "print(f\"Genre labels shape: {genres.shape}\")"
   ]
  },
  {
   "cell_type": "code",
   "execution_count": 21,
   "metadata": {},
   "outputs": [
    {
     "name": "stdout",
     "output_type": "stream",
     "text": [
      "Training set shape: (795, 13, 200), (795, 30)\n",
      "Test set shape: (199, 13, 200), (199, 30)\n"
     ]
    }
   ],
   "source": [
    "from sklearn.model_selection import train_test_split\n",
    "from sklearn.preprocessing import StandardScaler\n",
    "from tensorflow.keras.utils import to_categorical\n",
    "\n",
    "# 1. Normalize the MFCC features\n",
    "scaler = StandardScaler()\n",
    "\n",
    "# Reshape the MFCC features to 2D array for scaling (before reshaping back)\n",
    "mfcc_reshaped = mfcc_features.reshape(mfcc_features.shape[0], -1)\n",
    "\n",
    "# Fit the scaler to the data and transform it\n",
    "mfcc_normalized = scaler.fit_transform(mfcc_reshaped)\n",
    "\n",
    "# Reshape back to the original shape after scaling\n",
    "mfcc_normalized = mfcc_normalized.reshape(mfcc_features.shape)\n",
    "\n",
    "# 2. Convert genre labels to numerical format (if they are strings)\n",
    "# This step assumes that genres are strings. If they are already numbers, you can skip it.\n",
    "from sklearn.preprocessing import LabelEncoder\n",
    "label_encoder = LabelEncoder()\n",
    "genres_encoded = label_encoder.fit_transform(genres)\n",
    "\n",
    "# One-hot encode the genres for the classification task\n",
    "genres_one_hot = to_categorical(genres_encoded)\n",
    "\n",
    "# 3. Split the data into training and testing sets\n",
    "X_train, X_test, y_train, y_test = train_test_split(\n",
    "    mfcc_normalized, genres_one_hot, test_size=0.2, random_state=42\n",
    ")\n",
    "\n",
    "print(f\"Training set shape: {X_train.shape}, {y_train.shape}\")\n",
    "print(f\"Test set shape: {X_test.shape}, {y_test.shape}\")"
   ]
  },
  {
   "cell_type": "code",
   "execution_count": 22,
   "metadata": {},
   "outputs": [
    {
     "name": "stdout",
     "output_type": "stream",
     "text": [
      "Model: \"sequential\"\n",
      "_________________________________________________________________\n",
      " Layer (type)                Output Shape              Param #   \n",
      "=================================================================\n",
      " conv2d (Conv2D)             (None, 11, 198, 32)       320       \n",
      "                                                                 \n",
      " max_pooling2d (MaxPooling2D  (None, 5, 99, 32)        0         \n",
      " )                                                               \n",
      "                                                                 \n",
      " conv2d_1 (Conv2D)           (None, 3, 97, 64)         18496     \n",
      "                                                                 \n",
      " max_pooling2d_1 (MaxPooling  (None, 1, 48, 64)        0         \n",
      " 2D)                                                             \n",
      "                                                                 \n",
      " flatten (Flatten)           (None, 3072)              0         \n",
      "                                                                 \n",
      " dense (Dense)               (None, 128)               393344    \n",
      "                                                                 \n",
      " dropout (Dropout)           (None, 128)               0         \n",
      "                                                                 \n",
      " dense_1 (Dense)             (None, 30)                3870      \n",
      "                                                                 \n",
      "=================================================================\n",
      "Total params: 416,030\n",
      "Trainable params: 416,030\n",
      "Non-trainable params: 0\n",
      "_________________________________________________________________\n"
     ]
    }
   ],
   "source": [
    "# Reshape MFCC features for the CNN (add a channel dimension)\n",
    "X_train_cnn = X_train.reshape(X_train.shape[0], X_train.shape[1], X_train.shape[2], 1)\n",
    "X_test_cnn = X_test.reshape(X_test.shape[0], X_test.shape[1], X_test.shape[2], 1)\n",
    "\n",
    "# Number of genres (output classes)\n",
    "num_classes = y_train.shape[1]\n",
    "\n",
    "# Build the CNN model\n",
    "model = Sequential([\n",
    "    Conv2D(32, (3, 3), activation='relu', input_shape=(X_train_cnn.shape[1], X_train_cnn.shape[2], 1)),\n",
    "    MaxPooling2D((2, 2)),\n",
    "    Conv2D(64, (3, 3), activation='relu'),\n",
    "    MaxPooling2D((2, 2)),\n",
    "    Flatten(),\n",
    "    Dense(128, activation='relu'),\n",
    "    Dropout(0.5),  # Dropout to prevent overfitting\n",
    "    Dense(num_classes, activation='softmax')  # Output layer with softmax for classification\n",
    "])\n",
    "\n",
    "# Compile the model\n",
    "model.compile(optimizer='adam', loss='categorical_crossentropy', metrics=['accuracy'])\n",
    "\n",
    "# Print model summary\n",
    "model.summary()"
   ]
  },
  {
   "cell_type": "code",
   "execution_count": 23,
   "metadata": {},
   "outputs": [
    {
     "name": "stdout",
     "output_type": "stream",
     "text": [
      "Epoch 1/100\n",
      "53/53 [==============================] - 2s 19ms/step - loss: 3.1521 - accuracy: 0.1107 - val_loss: 2.9454 - val_accuracy: 0.1307 - lr: 0.0010\n",
      "Epoch 2/100\n",
      "53/53 [==============================] - 1s 10ms/step - loss: 2.9576 - accuracy: 0.1220 - val_loss: 2.8590 - val_accuracy: 0.1759 - lr: 0.0010\n",
      "Epoch 3/100\n",
      "53/53 [==============================] - 0s 8ms/step - loss: 2.8442 - accuracy: 0.1635 - val_loss: 2.9203 - val_accuracy: 0.1709 - lr: 0.0010\n",
      "Epoch 4/100\n",
      "53/53 [==============================] - 0s 8ms/step - loss: 2.7571 - accuracy: 0.1799 - val_loss: 2.9248 - val_accuracy: 0.1709 - lr: 0.0010\n",
      "Epoch 5/100\n",
      "53/53 [==============================] - 0s 8ms/step - loss: 2.6827 - accuracy: 0.2050 - val_loss: 2.8676 - val_accuracy: 0.1156 - lr: 0.0010\n",
      "Epoch 6/100\n",
      "53/53 [==============================] - 0s 7ms/step - loss: 2.5440 - accuracy: 0.2491 - val_loss: 2.8636 - val_accuracy: 0.1809 - lr: 0.0010\n",
      "Epoch 7/100\n",
      "53/53 [==============================] - 0s 8ms/step - loss: 2.4216 - accuracy: 0.2805 - val_loss: 2.9163 - val_accuracy: 0.1608 - lr: 0.0010\n",
      "Epoch 8/100\n",
      "53/53 [==============================] - 0s 8ms/step - loss: 2.2209 - accuracy: 0.3421 - val_loss: 3.0270 - val_accuracy: 0.1658 - lr: 2.0000e-04\n",
      "Epoch 9/100\n",
      "53/53 [==============================] - 0s 8ms/step - loss: 2.0925 - accuracy: 0.3811 - val_loss: 3.0183 - val_accuracy: 0.1558 - lr: 2.0000e-04\n",
      "Epoch 10/100\n",
      "53/53 [==============================] - 0s 8ms/step - loss: 2.0162 - accuracy: 0.4050 - val_loss: 3.0553 - val_accuracy: 0.1508 - lr: 2.0000e-04\n",
      "Epoch 11/100\n",
      "53/53 [==============================] - 0s 8ms/step - loss: 1.9439 - accuracy: 0.4352 - val_loss: 3.0550 - val_accuracy: 0.1558 - lr: 2.0000e-04\n",
      "Epoch 12/100\n",
      "53/53 [==============================] - 0s 8ms/step - loss: 1.8485 - accuracy: 0.4579 - val_loss: 3.0765 - val_accuracy: 0.1407 - lr: 2.0000e-04\n",
      "7/7 [==============================] - 0s 5ms/step - loss: 2.8590 - accuracy: 0.1759\n",
      "Test Accuracy: 0.18\n"
     ]
    }
   ],
   "source": [
    "from tensorflow.keras.callbacks import EarlyStopping, ReduceLROnPlateau, ModelCheckpoint\n",
    "\n",
    "# Define the path where the best model will be saved\n",
    "model_checkpoint_path = 'best_model_audio.h5'\n",
    "\n",
    "# Callbacks\n",
    "early_stopping = EarlyStopping(monitor='val_loss', patience=10, restore_best_weights=True)\n",
    "reduce_lr = ReduceLROnPlateau(monitor='val_loss', factor=0.2, patience=5, min_lr=0.000001)\n",
    "model_checkpoint = ModelCheckpoint(model_checkpoint_path, monitor='val_loss', save_best_only=True)\n",
    "\n",
    "# Train the model with the callbacks\n",
    "history = model.fit(X_train_cnn, y_train, epochs=100, batch_size=15, validation_data=(X_test_cnn, y_test), callbacks=[early_stopping, reduce_lr, model_checkpoint])\n",
    "\n",
    "# Evaluate the best model on the test data\n",
    "test_loss, test_accuracy = model.evaluate(X_test_cnn, y_test)\n",
    "print(f\"Test Accuracy: {test_accuracy:.2f}\")\n"
   ]
  },
  {
   "cell_type": "markdown",
   "metadata": {},
   "source": [
    "_________"
   ]
  },
  {
   "cell_type": "markdown",
   "metadata": {},
   "source": [
    "# Manual Grouping"
   ]
  },
  {
   "cell_type": "code",
   "execution_count": 24,
   "metadata": {},
   "outputs": [],
   "source": [
    "genre_mapping = {\n",
    "    # House Group\n",
    "    'House': 'House',\n",
    "    'Tech House': 'House',\n",
    "    'Deep House': 'House',\n",
    "    'Progressive House': 'House',\n",
    "    'Funky House': 'House',\n",
    "    'Jackin House': 'House',\n",
    "    'Afro House': 'House',\n",
    "    'Bass House': 'House',\n",
    "\n",
    "    # Techno Group\n",
    "    'Techno (Peak Time / Driving)': 'Techno',\n",
    "    'Techno (Raw / Deep / Hypnotic)': 'Techno',\n",
    "    'Minimal / Deep Tech': 'Techno',\n",
    "    'Melodic House & Techno': 'Techno',\n",
    "    'Hard Techno': 'Techno',\n",
    "\n",
    "    # Trance Group\n",
    "    'Trance (Main Floor)': 'Trance',\n",
    "    'Psy-Trance': 'Trance',\n",
    "    'Trance (Raw / Deep / Hypnotic)': 'Trance',\n",
    "\n",
    "    # Bass Music Group\n",
    "    'Drum & Bass': 'Bass Music',\n",
    "    'Dubstep': 'Bass Music',\n",
    "    '140 / Deep Dubstep / Grime': 'Bass Music',\n",
    "    'Trap / Wave': 'Bass Music',\n",
    "    'Breaks / Breakbeat / UK Bass': 'Bass Music',\n",
    "    'Bass / Club': 'Bass Music',\n",
    "    'UK Garage / Bassline': 'Bass Music',\n",
    "\n",
    "    # Hard Dance & Hardcore Group\n",
    "    'Hard Dance / Hardcore': 'Hard Dance & Hardcore',\n",
    "\n",
    "    # Dance/Pop Group\n",
    "    'Mainstage': 'Dance/Pop',\n",
    "    'Dance / Electro Pop': 'Dance/Pop',\n",
    "    'Nu Disco / Disco': 'Dance/Pop',\n",
    "\n",
    "    # Downtempo & World Group\n",
    "    'Organic House / Downtempo': 'Downtempo & World',\n",
    "    'Amapiano': 'Downtempo & World',\n",
    "\n",
    "    # Experimental & Indie Group\n",
    "    'Electronica': 'Experimental & Indie',\n",
    "    'Indie Dance': 'Experimental & Indie',\n",
    "    'Electro (Classic / Detroit / Modern)': 'Experimental & Indie'\n",
    "}\n"
   ]
  },
  {
   "cell_type": "code",
   "execution_count": 25,
   "metadata": {},
   "outputs": [
    {
     "name": "stdout",
     "output_type": "stream",
     "text": [
      "                              genre_name            broad_genre\n",
      "0                  Hard Dance / Hardcore  Hard Dance & Hardcore\n",
      "1                       Nu Disco / Disco              Dance/Pop\n",
      "2                             Deep House                  House\n",
      "3                            Bass / Club             Bass Music\n",
      "4   Electro (Classic / Detroit / Modern)   Experimental & Indie\n",
      "5                            Hard Techno                 Techno\n",
      "6                                Dubstep             Bass Music\n",
      "7             140 / Deep Dubstep / Grime             Bass Music\n",
      "8                            Funky House                  House\n",
      "9                      Progressive House                  House\n",
      "10             Organic House / Downtempo      Downtempo & World\n",
      "11                           Indie Dance   Experimental & Indie\n",
      "12                            Afro House                  House\n",
      "13                   Minimal / Deep Tech                 Techno\n",
      "14                             Mainstage              Dance/Pop\n",
      "15                          Jackin House                  House\n",
      "16                           Drum & Bass             Bass Music\n",
      "17                           Electronica   Experimental & Indie\n",
      "18                              Amapiano      Downtempo & World\n",
      "19                Melodic House & Techno                 Techno\n",
      "20                                 House                  House\n",
      "21                            Bass House                  House\n",
      "22                   Dance / Electro Pop              Dance/Pop\n",
      "23          Breaks / Breakbeat / UK Bass             Bass Music\n",
      "24                            Psy-Trance                 Trance\n",
      "25        Techno (Raw / Deep / Hypnotic)                 Techno\n",
      "26                            Tech House                  House\n",
      "27        Trance (Raw / Deep / Hypnotic)                 Trance\n",
      "28                   Trance (Main Floor)                 Trance\n",
      "29          Techno (Peak Time / Driving)                 Techno\n",
      "30                  UK Garage / Bassline             Bass Music\n",
      "31                           Trap / Wave             Bass Music\n"
     ]
    }
   ],
   "source": [
    "# Assuming your DataFrame is df and it has a column 'genre_name'\n",
    "bp_genre['broad_genre'] = bp_genre['genre_name'].map(genre_mapping)\n",
    "\n",
    "# Check the result\n",
    "print(bp_genre[['genre_name', 'broad_genre']])"
   ]
  },
  {
   "cell_type": "code",
   "execution_count": 27,
   "metadata": {},
   "outputs": [],
   "source": [
    "# Perform the merge to add only 'genre_id' from bp_track to bp_track_media\n",
    "bp_media = pd.merge(bp_track_media, bp_track[['track_id', 'genre_id']], on='track_id', how='inner')"
   ]
  },
  {
   "cell_type": "code",
   "execution_count": 28,
   "metadata": {},
   "outputs": [],
   "source": [
    "# Merge bp_media with bp_genre on 'genre_id'\n",
    "bp_media = pd.merge(bp_media, bp_genre[['genre_id', 'broad_genre']], on='genre_id', how='left')\n",
    "\n",
    "# Optionally, drop 'genre_id' if you no longer need it\n",
    "bp_media.drop('genre_id', axis=1, inplace=True)"
   ]
  },
  {
   "cell_type": "code",
   "execution_count": 30,
   "metadata": {},
   "outputs": [],
   "source": [
    "sampled_data = bp_media.sample(n=1000, random_state=42)"
   ]
  },
  {
   "cell_type": "code",
   "execution_count": 31,
   "metadata": {},
   "outputs": [
    {
     "name": "stderr",
     "output_type": "stream",
     "text": [
      "100%|██████████| 994/994 [05:53<00:00,  2.81it/s]\n"
     ]
    },
    {
     "name": "stdout",
     "output_type": "stream",
     "text": [
      "Extracted MFCC features shape: (994, 13, 200)\n",
      "Genre labels shape: (994,)\n"
     ]
    }
   ],
   "source": [
    "# Initialize lists to hold MFCC features and genres\n",
    "mfcc_features = []\n",
    "genres = []\n",
    "\n",
    "# Iterate over all saved audio files (from the load_audio_from_url function)\n",
    "for audio_file_path in tqdm(saved_file_paths):\n",
    "    # Extract the sample_uuid from the file path (assuming the file name is in the form 'sample_uuid.mp3')\n",
    "    sample_uuid = os.path.basename(audio_file_path).replace('.mp3', '')  # Extract just the sample_uuid\n",
    "\n",
    "    # Find the corresponding genre in the DataFrame\n",
    "    genre = sampled_data.loc[sampled_data['sample_uuid'] == sample_uuid, 'broad_genre'].values\n",
    "    if len(genre) == 0:\n",
    "        print(f\"Genre not found for {sample_uuid}, skipping.\")\n",
    "        continue\n",
    "\n",
    "    genre = genre[0]  # Extract the genre value\n",
    "\n",
    "    # Extract MFCC features\n",
    "    mfccs = extract_mfcc(audio_file_path)\n",
    "\n",
    "    # Only append if MFCC extraction was successful\n",
    "    if mfccs is not None:\n",
    "        mfcc_features.append(mfccs)  # Append MFCC features\n",
    "        genres.append(genre)  # Append the corresponding genre\n",
    "\n",
    "# Convert the lists of MFCC features and genres into NumPy arrays\n",
    "mfcc_features = np.array(mfcc_features)\n",
    "genres = np.array(genres)\n",
    "\n",
    "print(f\"Extracted MFCC features shape: {mfcc_features.shape}\")\n",
    "print(f\"Genre labels shape: {genres.shape}\")\n"
   ]
  },
  {
   "cell_type": "code",
   "execution_count": 32,
   "metadata": {},
   "outputs": [],
   "source": [
    "from sklearn.model_selection import train_test_split\n",
    "from sklearn.preprocessing import StandardScaler\n",
    "from tensorflow.keras.utils import to_categorical\n",
    "\n",
    "# 1. Normalize the MFCC features\n",
    "scaler = StandardScaler()\n",
    "\n",
    "# Reshape the MFCC features to 2D array for scaling (before reshaping back)\n",
    "mfcc_reshaped = mfcc_features.reshape(mfcc_features.shape[0], -1)\n",
    "\n",
    "# Fit the scaler to the data and transform it\n",
    "mfcc_normalized = scaler.fit_transform(mfcc_reshaped)\n",
    "\n",
    "# Reshape back to the original shape after scaling\n",
    "mfcc_normalized = mfcc_normalized.reshape(mfcc_features.shape)"
   ]
  },
  {
   "cell_type": "code",
   "execution_count": 33,
   "metadata": {},
   "outputs": [
    {
     "name": "stdout",
     "output_type": "stream",
     "text": [
      "Training set shape: (795, 13, 200), (795, 8)\n",
      "Test set shape: (199, 13, 200), (199, 8)\n"
     ]
    }
   ],
   "source": [
    "# 2. Convert genre labels to numerical format (if they are strings)\n",
    "# This step assumes that genres are strings. If they are already numbers, you can skip it.\n",
    "from sklearn.preprocessing import LabelEncoder\n",
    "label_encoder = LabelEncoder()\n",
    "genres_encoded = label_encoder.fit_transform(genres)\n",
    "\n",
    "# One-hot encode the genres for the classification task\n",
    "genres_one_hot = to_categorical(genres_encoded)\n",
    "\n",
    "# 3. Split the data into training and testing sets\n",
    "X_train, X_test, y_train, y_test = train_test_split(\n",
    "    mfcc_normalized, genres_one_hot, test_size=0.2, random_state=42\n",
    ")\n",
    "\n",
    "print(f\"Training set shape: {X_train.shape}, {y_train.shape}\")\n",
    "print(f\"Test set shape: {X_test.shape}, {y_test.shape}\")"
   ]
  },
  {
   "cell_type": "code",
   "execution_count": 34,
   "metadata": {},
   "outputs": [
    {
     "name": "stdout",
     "output_type": "stream",
     "text": [
      "Model: \"sequential_1\"\n",
      "_________________________________________________________________\n",
      " Layer (type)                Output Shape              Param #   \n",
      "=================================================================\n",
      " conv2d_2 (Conv2D)           (None, 11, 198, 32)       320       \n",
      "                                                                 \n",
      " max_pooling2d_2 (MaxPooling  (None, 5, 99, 32)        0         \n",
      " 2D)                                                             \n",
      "                                                                 \n",
      " conv2d_3 (Conv2D)           (None, 3, 97, 64)         18496     \n",
      "                                                                 \n",
      " max_pooling2d_3 (MaxPooling  (None, 1, 48, 64)        0         \n",
      " 2D)                                                             \n",
      "                                                                 \n",
      " flatten_1 (Flatten)         (None, 3072)              0         \n",
      "                                                                 \n",
      " dense_2 (Dense)             (None, 128)               393344    \n",
      "                                                                 \n",
      " dropout_1 (Dropout)         (None, 128)               0         \n",
      "                                                                 \n",
      " dense_3 (Dense)             (None, 8)                 1032      \n",
      "                                                                 \n",
      "=================================================================\n",
      "Total params: 413,192\n",
      "Trainable params: 413,192\n",
      "Non-trainable params: 0\n",
      "_________________________________________________________________\n"
     ]
    }
   ],
   "source": [
    "# Reshape MFCC features for the CNN (add a channel dimension)\n",
    "X_train_cnn = X_train.reshape(X_train.shape[0], X_train.shape[1], X_train.shape[2], 1)\n",
    "X_test_cnn = X_test.reshape(X_test.shape[0], X_test.shape[1], X_test.shape[2], 1)\n",
    "\n",
    "# Number of genres (output classes)\n",
    "num_classes = y_train.shape[1]\n",
    "\n",
    "# Build the CNN model\n",
    "model = Sequential([\n",
    "    Conv2D(32, (3, 3), activation='relu', input_shape=(X_train_cnn.shape[1], X_train_cnn.shape[2], 1)),\n",
    "    MaxPooling2D((2, 2)),\n",
    "    Conv2D(64, (3, 3), activation='relu'),\n",
    "    MaxPooling2D((2, 2)),\n",
    "    Flatten(),\n",
    "    Dense(128, activation='relu'),\n",
    "    Dropout(0.5),  # Dropout to prevent overfitting\n",
    "    Dense(num_classes, activation='softmax')  # Output layer with softmax for classification\n",
    "])\n",
    "\n",
    "# Compile the model\n",
    "model.compile(optimizer='adam', loss='categorical_crossentropy', metrics=['accuracy'])\n",
    "\n",
    "# Print model summary\n",
    "model.summary()"
   ]
  },
  {
   "cell_type": "code",
   "execution_count": 35,
   "metadata": {},
   "outputs": [
    {
     "name": "stdout",
     "output_type": "stream",
     "text": [
      "Epoch 1/100\n",
      "53/53 [==============================] - 1s 15ms/step - loss: 1.8265 - accuracy: 0.3057 - val_loss: 1.7328 - val_accuracy: 0.3668 - lr: 0.0010\n",
      "Epoch 2/100\n",
      "53/53 [==============================] - 1s 13ms/step - loss: 1.7394 - accuracy: 0.3358 - val_loss: 1.7115 - val_accuracy: 0.3769 - lr: 0.0010\n",
      "Epoch 3/100\n",
      "53/53 [==============================] - 1s 18ms/step - loss: 1.6787 - accuracy: 0.3459 - val_loss: 1.6927 - val_accuracy: 0.3769 - lr: 0.0010\n",
      "Epoch 4/100\n",
      "53/53 [==============================] - 0s 8ms/step - loss: 1.6152 - accuracy: 0.3673 - val_loss: 1.7010 - val_accuracy: 0.3618 - lr: 0.0010\n",
      "Epoch 5/100\n",
      "53/53 [==============================] - 0s 8ms/step - loss: 1.6004 - accuracy: 0.3736 - val_loss: 1.7141 - val_accuracy: 0.3618 - lr: 0.0010\n",
      "Epoch 6/100\n",
      "53/53 [==============================] - 0s 8ms/step - loss: 1.5538 - accuracy: 0.3836 - val_loss: 1.7299 - val_accuracy: 0.3769 - lr: 0.0010\n",
      "Epoch 7/100\n",
      "53/53 [==============================] - 0s 8ms/step - loss: 1.4899 - accuracy: 0.4302 - val_loss: 1.8159 - val_accuracy: 0.2915 - lr: 0.0010\n",
      "Epoch 8/100\n",
      "53/53 [==============================] - 0s 8ms/step - loss: 1.4162 - accuracy: 0.4465 - val_loss: 1.7704 - val_accuracy: 0.3417 - lr: 0.0010\n",
      "Epoch 9/100\n",
      "53/53 [==============================] - 0s 7ms/step - loss: 1.3264 - accuracy: 0.5057 - val_loss: 1.7806 - val_accuracy: 0.3417 - lr: 2.0000e-04\n",
      "Epoch 10/100\n",
      "53/53 [==============================] - 0s 8ms/step - loss: 1.2386 - accuracy: 0.5321 - val_loss: 1.8142 - val_accuracy: 0.3166 - lr: 2.0000e-04\n",
      "Epoch 11/100\n",
      "53/53 [==============================] - 0s 8ms/step - loss: 1.1835 - accuracy: 0.5585 - val_loss: 1.8389 - val_accuracy: 0.3317 - lr: 2.0000e-04\n",
      "Epoch 12/100\n",
      "53/53 [==============================] - 1s 10ms/step - loss: 1.1455 - accuracy: 0.5472 - val_loss: 1.8781 - val_accuracy: 0.3467 - lr: 2.0000e-04\n",
      "Epoch 13/100\n",
      "53/53 [==============================] - 0s 8ms/step - loss: 1.1084 - accuracy: 0.5748 - val_loss: 1.8231 - val_accuracy: 0.2965 - lr: 2.0000e-04\n",
      "7/7 [==============================] - 0s 4ms/step - loss: 1.6927 - accuracy: 0.3769\n",
      "Test Accuracy: 0.38\n"
     ]
    }
   ],
   "source": [
    "from tensorflow.keras.callbacks import EarlyStopping, ReduceLROnPlateau, ModelCheckpoint\n",
    "\n",
    "# Define the path where the best model will be saved\n",
    "model_checkpoint_path = 'best_model_audio.h5'\n",
    "\n",
    "# Callbacks\n",
    "early_stopping = EarlyStopping(monitor='val_loss', patience=10, restore_best_weights=True)\n",
    "reduce_lr = ReduceLROnPlateau(monitor='val_loss', factor=0.2, patience=5, min_lr=0.000001)\n",
    "model_checkpoint = ModelCheckpoint(model_checkpoint_path, monitor='val_loss', save_best_only=True)\n",
    "\n",
    "# Train the model with the callbacks\n",
    "history = model.fit(X_train_cnn, y_train, epochs=100, batch_size=15, validation_data=(X_test_cnn, y_test), callbacks=[early_stopping, reduce_lr, model_checkpoint])\n",
    "\n",
    "# Evaluate the best model on the test data\n",
    "test_loss, test_accuracy = model.evaluate(X_test_cnn, y_test)\n",
    "print(f\"Test Accuracy: {test_accuracy:.2f}\")\n"
   ]
  },
  {
   "cell_type": "markdown",
   "metadata": {},
   "source": [
    "______________"
   ]
  },
  {
   "cell_type": "markdown",
   "metadata": {},
   "source": [
    "# KMeans Clustering"
   ]
  },
  {
   "cell_type": "code",
   "execution_count": 36,
   "metadata": {},
   "outputs": [],
   "source": [
    "from sklearn.cluster import KMeans\n",
    "from sklearn.metrics import silhouette_score"
   ]
  },
  {
   "cell_type": "code",
   "execution_count": 37,
   "metadata": {},
   "outputs": [
    {
     "name": "stderr",
     "output_type": "stream",
     "text": [
      " 13%|█▎        | 132/1000 [01:03<10:01,  1.44it/s]"
     ]
    },
    {
     "name": "stdout",
     "output_type": "stream",
     "text": [
      "Error loading audio a0196b91-79b3-47c8-9e51-282acaa13963: 404 Client Error: Not Found for url: https://geo-samples.beatport.com/track/a0196b91-79b3-47c8-9e51-282acaa13963.LOFI.mp3\n"
     ]
    },
    {
     "name": "stderr",
     "output_type": "stream",
     "text": [
      " 20%|██        | 201/1000 [01:29<04:19,  3.08it/s]"
     ]
    },
    {
     "name": "stdout",
     "output_type": "stream",
     "text": [
      "Error loading audio a8b326ce-95af-4a23-83d5-ebec83c4952b: 404 Client Error: Not Found for url: https://geo-samples.beatport.com/track/a8b326ce-95af-4a23-83d5-ebec83c4952b.LOFI.mp3\n"
     ]
    },
    {
     "name": "stderr",
     "output_type": "stream",
     "text": [
      " 44%|████▍     | 440/1000 [03:10<03:31,  2.65it/s]"
     ]
    },
    {
     "name": "stdout",
     "output_type": "stream",
     "text": [
      "Error loading audio 77c54e71-ed31-4d8e-9474-f8b7fd555a0d: 404 Client Error: Not Found for url: https://geo-samples.beatport.com/track/77c54e71-ed31-4d8e-9474-f8b7fd555a0d.LOFI.mp3\n"
     ]
    },
    {
     "name": "stderr",
     "output_type": "stream",
     "text": [
      " 67%|██████▋   | 666/1000 [04:45<02:55,  1.91it/s]"
     ]
    },
    {
     "name": "stdout",
     "output_type": "stream",
     "text": [
      "Error loading audio 485662be-e550-4b98-8d8f-5634e292da1a: 404 Client Error: Not Found for url: https://geo-samples.beatport.com/track/485662be-e550-4b98-8d8f-5634e292da1a.LOFI.mp3\n"
     ]
    },
    {
     "name": "stderr",
     "output_type": "stream",
     "text": [
      " 73%|███████▎  | 727/1000 [05:18<02:45,  1.65it/s]"
     ]
    },
    {
     "name": "stdout",
     "output_type": "stream",
     "text": [
      "Error loading audio c517223d-457d-488e-8e6e-3b5016fc3f7b: 404 Client Error: Not Found for url: https://geo-samples.beatport.com/track/c517223d-457d-488e-8e6e-3b5016fc3f7b.LOFI.mp3\n"
     ]
    },
    {
     "name": "stderr",
     "output_type": "stream",
     "text": [
      " 74%|███████▍  | 742/1000 [05:27<02:57,  1.45it/s]"
     ]
    },
    {
     "name": "stdout",
     "output_type": "stream",
     "text": [
      "Error loading audio d1e1683c-7f74-432e-854a-fdda91faf169: 404 Client Error: Not Found for url: https://geo-samples.beatport.com/track/d1e1683c-7f74-432e-854a-fdda91faf169.LOFI.mp3\n"
     ]
    },
    {
     "name": "stderr",
     "output_type": "stream",
     "text": [
      "100%|██████████| 1000/1000 [07:50<00:00,  2.12it/s]\n"
     ]
    }
   ],
   "source": [
    "sampled_data = bp_media.sample(n=1000, random_state=42)\n",
    "\n",
    "saved_file_paths, failed_samples_uuids = load_audio_from_url(sampled_data, 'sample_uuid')"
   ]
  },
  {
   "cell_type": "code",
   "execution_count": 40,
   "metadata": {},
   "outputs": [],
   "source": [
    "def extract_mfcc(audio_file_path, n_mfcc=13, max_length=200):\n",
    "    try:\n",
    "        # Load the audio file using librosa\n",
    "        signal, sample_rate = librosa.load(audio_file_path, sr=None)\n",
    "\n",
    "        # Extract MFCC features\n",
    "        mfccs = librosa.feature.mfcc(y=signal, sr=sample_rate, n_mfcc=n_mfcc)\n",
    "\n",
    "        # Pad or truncate MFCC to a fixed length\n",
    "        if mfccs.shape[1] < max_length:\n",
    "            mfccs_padded = np.pad(mfccs, ((0, 0), (0, max_length - mfccs.shape[1])), mode='constant')\n",
    "        else:\n",
    "            mfccs_padded = mfccs[:, :max_length]\n",
    "        \n",
    "        # Flatten the MFCCs to 1D\n",
    "        return mfccs_padded.flatten()\n",
    "\n",
    "    except Exception as e:\n",
    "        print(f\"Error processing audio file {audio_file_path}: {e}\")\n",
    "        return None"
   ]
  },
  {
   "cell_type": "code",
   "execution_count": 41,
   "metadata": {},
   "outputs": [],
   "source": [
    "features_list = []\n",
    "for audio_file_path in saved_file_paths:\n",
    "    mfcc_features = extract_mfcc(audio_file_path)  # Using your extract_mfcc function\n",
    "    features_list.append(mfcc_features)\n",
    "\n",
    "# Convert features list to a numpy array for clustering\n",
    "features_list = np.array(features_list)"
   ]
  },
  {
   "cell_type": "code",
   "execution_count": 42,
   "metadata": {},
   "outputs": [],
   "source": [
    "scaler = StandardScaler()\n",
    "features_list_scaled = scaler.fit_transform(features_list)"
   ]
  },
  {
   "cell_type": "code",
   "execution_count": 43,
   "metadata": {},
   "outputs": [
    {
     "name": "stderr",
     "output_type": "stream",
     "text": [
      "c:\\Users\\Shank\\anaconda3\\envs\\dsenv\\lib\\site-packages\\sklearn\\cluster\\_kmeans.py:1446: UserWarning: KMeans is known to have a memory leak on Windows with MKL, when there are less chunks than available threads. You can avoid it by setting the environment variable OMP_NUM_THREADS=4.\n",
      "  warnings.warn(\n",
      "c:\\Users\\Shank\\anaconda3\\envs\\dsenv\\lib\\site-packages\\sklearn\\cluster\\_kmeans.py:1446: UserWarning: KMeans is known to have a memory leak on Windows with MKL, when there are less chunks than available threads. You can avoid it by setting the environment variable OMP_NUM_THREADS=4.\n",
      "  warnings.warn(\n",
      "c:\\Users\\Shank\\anaconda3\\envs\\dsenv\\lib\\site-packages\\sklearn\\cluster\\_kmeans.py:1446: UserWarning: KMeans is known to have a memory leak on Windows with MKL, when there are less chunks than available threads. You can avoid it by setting the environment variable OMP_NUM_THREADS=4.\n",
      "  warnings.warn(\n",
      "c:\\Users\\Shank\\anaconda3\\envs\\dsenv\\lib\\site-packages\\sklearn\\cluster\\_kmeans.py:1446: UserWarning: KMeans is known to have a memory leak on Windows with MKL, when there are less chunks than available threads. You can avoid it by setting the environment variable OMP_NUM_THREADS=4.\n",
      "  warnings.warn(\n",
      "c:\\Users\\Shank\\anaconda3\\envs\\dsenv\\lib\\site-packages\\sklearn\\cluster\\_kmeans.py:1446: UserWarning: KMeans is known to have a memory leak on Windows with MKL, when there are less chunks than available threads. You can avoid it by setting the environment variable OMP_NUM_THREADS=4.\n",
      "  warnings.warn(\n",
      "c:\\Users\\Shank\\anaconda3\\envs\\dsenv\\lib\\site-packages\\sklearn\\cluster\\_kmeans.py:1446: UserWarning: KMeans is known to have a memory leak on Windows with MKL, when there are less chunks than available threads. You can avoid it by setting the environment variable OMP_NUM_THREADS=4.\n",
      "  warnings.warn(\n",
      "c:\\Users\\Shank\\anaconda3\\envs\\dsenv\\lib\\site-packages\\sklearn\\cluster\\_kmeans.py:1446: UserWarning: KMeans is known to have a memory leak on Windows with MKL, when there are less chunks than available threads. You can avoid it by setting the environment variable OMP_NUM_THREADS=4.\n",
      "  warnings.warn(\n",
      "c:\\Users\\Shank\\anaconda3\\envs\\dsenv\\lib\\site-packages\\sklearn\\cluster\\_kmeans.py:1446: UserWarning: KMeans is known to have a memory leak on Windows with MKL, when there are less chunks than available threads. You can avoid it by setting the environment variable OMP_NUM_THREADS=4.\n",
      "  warnings.warn(\n",
      "c:\\Users\\Shank\\anaconda3\\envs\\dsenv\\lib\\site-packages\\sklearn\\cluster\\_kmeans.py:1446: UserWarning: KMeans is known to have a memory leak on Windows with MKL, when there are less chunks than available threads. You can avoid it by setting the environment variable OMP_NUM_THREADS=4.\n",
      "  warnings.warn(\n",
      "c:\\Users\\Shank\\anaconda3\\envs\\dsenv\\lib\\site-packages\\sklearn\\cluster\\_kmeans.py:1446: UserWarning: KMeans is known to have a memory leak on Windows with MKL, when there are less chunks than available threads. You can avoid it by setting the environment variable OMP_NUM_THREADS=4.\n",
      "  warnings.warn(\n",
      "c:\\Users\\Shank\\anaconda3\\envs\\dsenv\\lib\\site-packages\\sklearn\\cluster\\_kmeans.py:1446: UserWarning: KMeans is known to have a memory leak on Windows with MKL, when there are less chunks than available threads. You can avoid it by setting the environment variable OMP_NUM_THREADS=4.\n",
      "  warnings.warn(\n",
      "c:\\Users\\Shank\\anaconda3\\envs\\dsenv\\lib\\site-packages\\sklearn\\cluster\\_kmeans.py:1446: UserWarning: KMeans is known to have a memory leak on Windows with MKL, when there are less chunks than available threads. You can avoid it by setting the environment variable OMP_NUM_THREADS=4.\n",
      "  warnings.warn(\n",
      "c:\\Users\\Shank\\anaconda3\\envs\\dsenv\\lib\\site-packages\\sklearn\\cluster\\_kmeans.py:1446: UserWarning: KMeans is known to have a memory leak on Windows with MKL, when there are less chunks than available threads. You can avoid it by setting the environment variable OMP_NUM_THREADS=4.\n",
      "  warnings.warn(\n",
      "c:\\Users\\Shank\\anaconda3\\envs\\dsenv\\lib\\site-packages\\sklearn\\cluster\\_kmeans.py:1446: UserWarning: KMeans is known to have a memory leak on Windows with MKL, when there are less chunks than available threads. You can avoid it by setting the environment variable OMP_NUM_THREADS=4.\n",
      "  warnings.warn(\n"
     ]
    },
    {
     "data": {
      "image/png": "[encoded data removed]",
      "text/plain": [
       "<Figure size 1000x500 with 2 Axes>"
      ]
     },
     "metadata": {},
     "output_type": "display_data"
    }
   ],
   "source": [
    "inertia = []\n",
    "sil_scores = []\n",
    "cluster_range = range(2, 16)  # Test 2 to 15 clusters\n",
    "\n",
    "for n_clusters in cluster_range:\n",
    "    kmeans = KMeans(n_clusters=n_clusters, random_state=42)\n",
    "    kmeans.fit(features_list_scaled)\n",
    "    \n",
    "    # Append the inertia for Elbow Method\n",
    "    inertia.append(kmeans.inertia_)\n",
    "    \n",
    "    # Predict cluster labels and calculate silhouette score\n",
    "    cluster_labels = kmeans.predict(features_list_scaled)\n",
    "    sil_score = silhouette_score(features_list_scaled, cluster_labels)\n",
    "    sil_scores.append(sil_score)\n",
    "\n",
    "# Step 5: Plot Elbow Method and Silhouette Scores\n",
    "plt.figure(figsize=(10, 5))\n",
    "\n",
    "# Elbow Method\n",
    "plt.subplot(1, 2, 1)\n",
    "plt.plot(cluster_range, inertia, marker='o')\n",
    "plt.title('Elbow Method for Audio Data')\n",
    "plt.xlabel('Number of clusters')\n",
    "plt.ylabel('Inertia')\n",
    "\n",
    "# Silhouette Scores\n",
    "plt.subplot(1, 2, 2)\n",
    "plt.plot(cluster_range, sil_scores, marker='o')\n",
    "plt.title('Silhouette Score for Audio Data')\n",
    "plt.xlabel('Number of clusters')\n",
    "plt.ylabel('Silhouette Score')\n",
    "\n",
    "plt.tight_layout()\n",
    "plt.show()"
   ]
  },
  {
   "cell_type": "code",
   "execution_count": 44,
   "metadata": {},
   "outputs": [
    {
     "name": "stderr",
     "output_type": "stream",
     "text": [
      "c:\\Users\\Shank\\anaconda3\\envs\\dsenv\\lib\\site-packages\\sklearn\\cluster\\_kmeans.py:1446: UserWarning: KMeans is known to have a memory leak on Windows with MKL, when there are less chunks than available threads. You can avoid it by setting the environment variable OMP_NUM_THREADS=4.\n",
      "  warnings.warn(\n"
     ]
    },
    {
     "data": {
      "image/png": "[encoded data removed]",
      "text/plain": [
       "<Figure size 640x480 with 2 Axes>"
      ]
     },
     "metadata": {},
     "output_type": "display_data"
    }
   ],
   "source": [
    "# Assuming 'features_list' is a list of feature vectors for all images\n",
    "kmeans = KMeans(n_clusters=6, random_state=42)\n",
    "clusters = kmeans.fit_predict(features_list)\n",
    "\n",
    "# Visualize or check cluster assignments\n",
    "plt.scatter(features_list[:, 0], features_list[:, 1], c=clusters, cmap='viridis')\n",
    "plt.colorbar()\n",
    "plt.show()"
   ]
  },
  {
   "cell_type": "code",
   "execution_count": null,
   "metadata": {},
   "outputs": [],
   "source": []
  }
 ],
 "metadata": {
  "kernelspec": {
   "display_name": "dsenv",
   "language": "python",
   "name": "python3"
  },
  "language_info": {
   "codemirror_mode": {
    "name": "ipython",
    "version": 3
   },
   "file_extension": ".py",
   "mimetype": "text/x-python",
   "name": "python",
   "nbconvert_exporter": "python",
   "pygments_lexer": "ipython3",
   "version": "3.10.13"
  }
 },
 "nbformat": 4,
 "nbformat_minor": 2
}
