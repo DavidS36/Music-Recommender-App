{
 "cells": [
  {
   "cell_type": "code",
   "execution_count": 1,
   "metadata": {},
   "outputs": [],
   "source": [
    "import spotipy\n",
    "from spotipy.oauth2 import SpotifyOAuth\n",
    "\n",
    "# Replace these with your own client ID and client secret\n",
    "CLIENT_ID = '4788c668b1514918954e31dfd7bd366d'\n",
    "CLIENT_SECRET = 'c2c7f9f1133441db94b3afa3ef8832fe'\n",
    "REDIRECT_URI = 'http://localhost:8888/callback'  \n",
    "\n",
    "# Define the required scopes (permissions)\n",
    "SCOPE = 'user-library-read playlist-read-private'\n",
    "\n",
    "# Authentication\n",
    "sp = spotipy.Spotify(auth_manager=SpotifyOAuth(client_id=CLIENT_ID,\n",
    "                                               client_secret=CLIENT_SECRET,\n",
    "                                               redirect_uri=REDIRECT_URI,\n",
    "                                               scope=SCOPE))"
   ]
  },
  {
   "cell_type": "code",
   "execution_count": 2,
   "metadata": {},
   "outputs": [],
   "source": [
    "# Function to get recommendations based on a single seed track\n",
    "def get_recommendations(seed_track_id, num_recommendations=10):\n",
    "    recommendations = sp.recommendations(seed_tracks=[seed_track_id], limit=num_recommendations)\n",
    "    recommended_tracks = []\n",
    "    for track in recommendations['tracks']:\n",
    "        recommended_tracks.append({\n",
    "            'name': track['name'],\n",
    "            'artist': track['artists'][0]['name'],\n",
    "            'id': track['id']\n",
    "        })\n",
    "    return recommended_tracks"
   ]
  },
  {
   "cell_type": "code",
   "execution_count": 3,
   "metadata": {},
   "outputs": [
    {
     "name": "stdout",
     "output_type": "stream",
     "text": [
      "\"The Take Over, The Breaks Over\" by Fall Out Boy\n",
      "Soul to Squeeze by Red Hot Chili Peppers\n",
      "What I've Done by Linkin Park\n",
      "Under Pressure - Remastered 2011 by Queen\n",
      "1979 - Remastered 2012 by The Smashing Pumpkins\n",
      "C'est La Vie by Stereophonics\n",
      "Welcome to the Black Parade by My Chemical Romance\n",
      "In The Heat Of The Moment by Noel Gallagher's High Flying Birds\n",
      "Go Your Own Way - 2004 Remaster by Fleetwood Mac\n",
      "Supersonic by Oasis\n"
     ]
    }
   ],
   "source": [
    "# Example usage: Replace with an actual track ID\n",
    "seed_track_id = '3n3Ppam7vgaVa1iaRUc9Lp'  # Seed track ID\n",
    "recommendations = get_recommendations(seed_track_id)\n",
    "for track in recommendations:\n",
    "    print(f\"{track['name']} by {track['artist']}\")"
   ]
  },
  {
   "cell_type": "code",
   "execution_count": 4,
   "metadata": {},
   "outputs": [],
   "source": [
    "# Function to search for a track and get its ID\n",
    "def search_track(track_name):\n",
    "    results = sp.search(q=track_name, type='track', limit=1)\n",
    "    track_id = results['tracks']['items'][0]['id']\n",
    "    return track_id"
   ]
  },
  {
   "cell_type": "code",
   "execution_count": 6,
   "metadata": {},
   "outputs": [
    {
     "name": "stdout",
     "output_type": "stream",
     "text": [
      "I'm Okay by Honest Men\n",
      "Dance in the Dark by Au/Ra\n",
      "Long Time Coming - Live in a Living Room by Jagwar Twin\n",
      "Summertime High by Half the Animal\n",
      "KMS by Sub Urban\n",
      "King of the Clouds by Panic! At The Disco\n",
      "Somebody Better by The Million\n",
      "fever dream by mxmtoon\n",
      "Only Human by Ryan Mack\n",
      "Teenager In Love by Neon Trees\n"
     ]
    },
    {
     "ename": "",
     "evalue": "",
     "output_type": "error",
     "traceback": [
      "\u001b[1;31mThe Kernel crashed while executing code in the current cell or a previous cell. \n",
      "\u001b[1;31mPlease review the code in the cell(s) to identify a possible cause of the failure. \n",
      "\u001b[1;31mClick <a href='https://aka.ms/vscodeJupyterKernelCrash'>here</a> for more info. \n",
      "\u001b[1;31mView Jupyter <a href='command:jupyter.viewOutput'>log</a> for further details."
     ]
    }
   ],
   "source": [
    "# Example usage: Get recommendations based on user input\n",
    "seed_track_id = search_track('Loser by Jaguar Twin')\n",
    "recommendations = get_recommendations(seed_track_id)\n",
    "for track in recommendations:\n",
    "    print(f\"{track['name']} by {track['artist']}\")"
   ]
  },
  {
   "cell_type": "code",
   "execution_count": null,
   "metadata": {},
   "outputs": [],
   "source": [
    "import numpy as np\n",
    "from sklearn.metrics import pairwise_distances\n",
    "\n",
    "def find_similar_tracks(track_id, bp_track, scaler, clustering_model, clustered_data):\n",
    "    # Step 1: Extract the track with the given track_id\n",
    "    track = bp_track[bp_track['track_id'] == track_id]\n",
    "    \n",
    "    if track.empty:\n",
    "        return \"Track not found.\"\n",
    "    \n",
    "    # Step 2: Preprocess the track's features (use the same features you used in clustering)\n",
    "    track_features = track[['BPM', 'Key']]  # Select the features you used for clustering\n",
    "    track_features_scaled = scaler.transform(track_features)  # Apply the same scaling\n",
    "    \n",
    "    # Step 3: Predict the cluster of the track\n",
    "    track_cluster = clustering_model.fit_predict(track_features_scaled)[0]\n",
    "    \n",
    "    # Step 4: Filter all tracks from the same cluster\n",
    "    similar_tracks = clustered_data[clustered_data['Cluster'] == track_cluster]\n",
    "    \n",
    "    # Step 5: Calculate the distances between the track and all other tracks in the same cluster\n",
    "    distances = pairwise_distances(track_features_scaled, similar_tracks[['BPM', 'Key']])\n",
    "    \n",
    "    # Add distances to the similar_tracks DataFrame and sort by closest distance\n",
    "    similar_tracks['Distance'] = distances[0]\n",
    "    similar_tracks_sorted = similar_tracks.sort_values(by='Distance')\n",
    "    \n",
    "    # Return the top 5 most similar tracks\n",
    "    return similar_tracks_sorted.head(5)\n",
    "\n",
    "# Example usage:\n",
    "track_id_to_search = 4993057  # Replace with the track_id you're searching for\n",
    "similar_tracks = find_similar_tracks(track_id_to_search, bp_track, scaler, agglo, clustered_data)\n",
    "print(similar_tracks)\n"
   ]
  }
 ],
 "metadata": {
  "kernelspec": {
   "display_name": "dsenv",
   "language": "python",
   "name": "python3"
  },
  "language_info": {
   "codemirror_mode": {
    "name": "ipython",
    "version": 3
   },
   "file_extension": ".py",
   "mimetype": "text/x-python",
   "name": "python",
   "nbconvert_exporter": "python",
   "pygments_lexer": "ipython3",
   "version": "3.10.13"
  }
 },
 "nbformat": 4,
 "nbformat_minor": 2
}
